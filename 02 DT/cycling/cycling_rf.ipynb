{
  "cells": [
    {
      "cell_type": "code",
      "execution_count": 44,
      "metadata": {
        "id": "dDOvl_jglKJz"
      },
      "outputs": [],
      "source": [
        "from sklearn.model_selection import train_test_split\n",
        "from sklearn import ensemble\n",
        "import tqdm\n",
        "import pandas as pd\n",
        "import numpy as np\n",
        "from sklearn import tree\n",
        "from matplotlib import pyplot as plt\n",
        "from sklearn.metrics import accuracy_score\n",
        "from sklearn.ensemble import RandomForestClassifier\n"
      ]
    },
    {
      "cell_type": "markdown",
      "metadata": {
        "id": "ng6-aUEv6UoU"
      },
      "source": [
        "**Data manipulation**"
      ]
    },
    {
      "cell_type": "code",
      "execution_count": 51,
      "metadata": {
        "id": "bAkNuUvdmZ73",
        "colab": {
          "base_uri": "https://localhost:8080/",
          "height": 80
        },
        "outputId": "abc5b18a-3cb8-4ae9-f35a-d6227c5c4e25"
      },
      "outputs": [
        {
          "output_type": "execute_result",
          "data": {
            "text/plain": [
              "   Distance_Km  Start_Elevation  End_Elevation  Elevation_min  Elevation_max  \\\n",
              "0        162.5              101             55           24.0            245   \n",
              "\n",
              "   Breakaway_win  climbs  \n",
              "0              0       2  "
            ],
            "text/html": [
              "\n",
              "  <div id=\"df-d9ec8acf-7e0a-4230-8ab0-13f902501c89\" class=\"colab-df-container\">\n",
              "    <div>\n",
              "<style scoped>\n",
              "    .dataframe tbody tr th:only-of-type {\n",
              "        vertical-align: middle;\n",
              "    }\n",
              "\n",
              "    .dataframe tbody tr th {\n",
              "        vertical-align: top;\n",
              "    }\n",
              "\n",
              "    .dataframe thead th {\n",
              "        text-align: right;\n",
              "    }\n",
              "</style>\n",
              "<table border=\"1\" class=\"dataframe\">\n",
              "  <thead>\n",
              "    <tr style=\"text-align: right;\">\n",
              "      <th></th>\n",
              "      <th>Distance_Km</th>\n",
              "      <th>Start_Elevation</th>\n",
              "      <th>End_Elevation</th>\n",
              "      <th>Elevation_min</th>\n",
              "      <th>Elevation_max</th>\n",
              "      <th>Breakaway_win</th>\n",
              "      <th>climbs</th>\n",
              "    </tr>\n",
              "  </thead>\n",
              "  <tbody>\n",
              "    <tr>\n",
              "      <th>0</th>\n",
              "      <td>162.5</td>\n",
              "      <td>101</td>\n",
              "      <td>55</td>\n",
              "      <td>24.0</td>\n",
              "      <td>245</td>\n",
              "      <td>0</td>\n",
              "      <td>2</td>\n",
              "    </tr>\n",
              "  </tbody>\n",
              "</table>\n",
              "</div>\n",
              "    <div class=\"colab-df-buttons\">\n",
              "\n",
              "  <div class=\"colab-df-container\">\n",
              "    <button class=\"colab-df-convert\" onclick=\"convertToInteractive('df-d9ec8acf-7e0a-4230-8ab0-13f902501c89')\"\n",
              "            title=\"Convert this dataframe to an interactive table.\"\n",
              "            style=\"display:none;\">\n",
              "\n",
              "  <svg xmlns=\"http://www.w3.org/2000/svg\" height=\"24px\" viewBox=\"0 -960 960 960\">\n",
              "    <path d=\"M120-120v-720h720v720H120Zm60-500h600v-160H180v160Zm220 220h160v-160H400v160Zm0 220h160v-160H400v160ZM180-400h160v-160H180v160Zm440 0h160v-160H620v160ZM180-180h160v-160H180v160Zm440 0h160v-160H620v160Z\"/>\n",
              "  </svg>\n",
              "    </button>\n",
              "\n",
              "  <style>\n",
              "    .colab-df-container {\n",
              "      display:flex;\n",
              "      gap: 12px;\n",
              "    }\n",
              "\n",
              "    .colab-df-convert {\n",
              "      background-color: #E8F0FE;\n",
              "      border: none;\n",
              "      border-radius: 50%;\n",
              "      cursor: pointer;\n",
              "      display: none;\n",
              "      fill: #1967D2;\n",
              "      height: 32px;\n",
              "      padding: 0 0 0 0;\n",
              "      width: 32px;\n",
              "    }\n",
              "\n",
              "    .colab-df-convert:hover {\n",
              "      background-color: #E2EBFA;\n",
              "      box-shadow: 0px 1px 2px rgba(60, 64, 67, 0.3), 0px 1px 3px 1px rgba(60, 64, 67, 0.15);\n",
              "      fill: #174EA6;\n",
              "    }\n",
              "\n",
              "    .colab-df-buttons div {\n",
              "      margin-bottom: 4px;\n",
              "    }\n",
              "\n",
              "    [theme=dark] .colab-df-convert {\n",
              "      background-color: #3B4455;\n",
              "      fill: #D2E3FC;\n",
              "    }\n",
              "\n",
              "    [theme=dark] .colab-df-convert:hover {\n",
              "      background-color: #434B5C;\n",
              "      box-shadow: 0px 1px 3px 1px rgba(0, 0, 0, 0.15);\n",
              "      filter: drop-shadow(0px 1px 2px rgba(0, 0, 0, 0.3));\n",
              "      fill: #FFFFFF;\n",
              "    }\n",
              "  </style>\n",
              "\n",
              "    <script>\n",
              "      const buttonEl =\n",
              "        document.querySelector('#df-d9ec8acf-7e0a-4230-8ab0-13f902501c89 button.colab-df-convert');\n",
              "      buttonEl.style.display =\n",
              "        google.colab.kernel.accessAllowed ? 'block' : 'none';\n",
              "\n",
              "      async function convertToInteractive(key) {\n",
              "        const element = document.querySelector('#df-d9ec8acf-7e0a-4230-8ab0-13f902501c89');\n",
              "        const dataTable =\n",
              "          await google.colab.kernel.invokeFunction('convertToInteractive',\n",
              "                                                    [key], {});\n",
              "        if (!dataTable) return;\n",
              "\n",
              "        const docLinkHtml = 'Like what you see? Visit the ' +\n",
              "          '<a target=\"_blank\" href=https://colab.research.google.com/notebooks/data_table.ipynb>data table notebook</a>'\n",
              "          + ' to learn more about interactive tables.';\n",
              "        element.innerHTML = '';\n",
              "        dataTable['output_type'] = 'display_data';\n",
              "        await google.colab.output.renderOutput(dataTable, element);\n",
              "        const docLink = document.createElement('div');\n",
              "        docLink.innerHTML = docLinkHtml;\n",
              "        element.appendChild(docLink);\n",
              "      }\n",
              "    </script>\n",
              "  </div>\n",
              "\n",
              "    </div>\n",
              "  </div>\n"
            ]
          },
          "metadata": {},
          "execution_count": 51
        }
      ],
      "source": [
        "df = pd.read_csv('/content/GT_stage_data.csv')\n",
        "df['climbs'] = df['cat_4_climb'] + df['cat_3_climb'] + df['HC_climb']\n",
        "df = df.drop(columns=['cat_4_climb', 'cat_3_climb', 'cat_2_climb', 'cat_1_climb', 'HC_climb'],)\n",
        "df.head(1)\n"
      ]
    },
    {
      "cell_type": "markdown",
      "metadata": {
        "id": "C2ropull6asY"
      },
      "source": [
        "**Model**"
      ]
    },
    {
      "cell_type": "code",
      "execution_count": 53,
      "metadata": {
        "colab": {
          "base_uri": "https://localhost:8080/"
        },
        "id": "c7U4JZgV2P5N",
        "outputId": "b8b56fe7-1373-472e-e272-8067169f8051"
      },
      "outputs": [
        {
          "output_type": "stream",
          "name": "stdout",
          "text": [
            "(108, 6) (27, 6) (34, 6) (108,) (27,) (34,)\n"
          ]
        }
      ],
      "source": [
        "X = df.iloc[:, [0, 1, 2, 3, 4, 6]]\n",
        "y = df.iloc[:, 5].values\n",
        "\n",
        "X_train, X_test, y_train, y_test = X_train, X_test, y_train, y_test = train_test_split(X,\n",
        "                                                    y,\n",
        "                                                    test_size=0.2,\n",
        "                                                    random_state=42)\n",
        "\n",
        "X_train, X_val, y_train, y_val   = train_test_split(X_train,\n",
        "                                                   y_train,\n",
        "                                                   test_size=0.2,\n",
        "                                                   random_state=42)\n",
        "\n",
        "print(X_train.shape, X_val.shape, X_test.shape, y_train.shape, y_val.shape, y_test.shape)"
      ]
    },
    {
      "cell_type": "markdown",
      "metadata": {
        "id": "CCcVAssK7YWK"
      },
      "source": [
        "Use the data (remember to split your data into a train, validation, and test data). Using your training and validation data, optimize the parameters of your RF. How well does your optimized model perform on the test data?\n",
        "\n",
        "Let us start by ensuring we can just run an RF without any optimization."
      ]
    },
    {
      "cell_type": "code",
      "execution_count": 50,
      "metadata": {
        "colab": {
          "base_uri": "https://localhost:8080/"
        },
        "id": "gQT8HaK82omR",
        "outputId": "8bd802a6-e5e3-4868-c955-f37b2f7733f1"
      },
      "outputs": [
        {
          "output_type": "stream",
          "name": "stdout",
          "text": [
            "DT with default settings achieved 59.3% accuracy.\n"
          ]
        }
      ],
      "source": [
        "rf_current = ensemble.RandomForestClassifier()\n",
        "rf_current.fit(X_train, y_train)\n",
        "y_val_hat = rf_current.predict(X_val)\n",
        "\n",
        "accuracy_default = accuracy_score(y_val_hat, y_val)\n",
        "\n",
        "print(f'DT with default settings achieved {round(accuracy_default * 100, 1)}% accuracy.')\n"
      ]
    },
    {
      "cell_type": "code",
      "execution_count": 54,
      "metadata": {
        "colab": {
          "base_uri": "https://localhost:8080/"
        },
        "id": "j0nBPPaC3YhG",
        "outputId": "0b389383-d66a-4c91-fa28-d68cc2c663ca"
      },
      "outputs": [
        {
          "output_type": "stream",
          "name": "stdout",
          "text": [
            "    accuracy  n_estimators  min_samples_split  min_samples_leaf\n",
            "0   0.592593           100                  5                 6\n",
            "1   0.629630           100                  5                 9\n",
            "2   0.666667           100                  5                11\n",
            "3   0.703704           100                  8                 6\n",
            "4   0.666667           100                  8                 9\n",
            "5   0.666667           100                  8                11\n",
            "6   0.629630           100                 10                 6\n",
            "7   0.666667           100                 10                 9\n",
            "8   0.629630           100                 10                11\n",
            "9   0.592593           500                  5                 6\n",
            "10  0.666667           500                  5                 9\n",
            "11  0.629630           500                  5                11\n",
            "12  0.592593           500                  8                 6\n",
            "13  0.666667           500                  8                 9\n",
            "14  0.629630           500                  8                11\n",
            "15  0.592593           500                 10                 6\n",
            "16  0.666667           500                 10                 9\n",
            "17  0.629630           500                 10                11\n",
            "18  0.592593          1000                  5                 6\n",
            "19  0.666667          1000                  5                 9\n",
            "20  0.666667          1000                  5                11\n",
            "21  0.592593          1000                  8                 6\n",
            "22  0.666667          1000                  8                 9\n",
            "23  0.629630          1000                  8                11\n",
            "24  0.592593          1000                 10                 6\n",
            "25  0.666667          1000                 10                 9\n",
            "26  0.629630          1000                 10                11\n"
          ]
        }
      ],
      "source": [
        "n_estimators_list = [100, 500, 1000]\n",
        "min_samples_split_list = [5, 8, 10]\n",
        "min_samples_leaf_list = [6, 9, 11]\n",
        "\n",
        "results = []\n",
        "\n",
        "for n_estimators in n_estimators_list:\n",
        "    for min_samples_split in min_samples_split_list:\n",
        "        for min_samples_leaf in min_samples_leaf_list:\n",
        "            rf_current = ensemble.RandomForestClassifier(\n",
        "                n_estimators=n_estimators,\n",
        "                min_samples_split=min_samples_split,\n",
        "                min_samples_leaf=min_samples_leaf,\n",
        "                )\n",
        "            rf_current.fit(X_train, y_train)\n",
        "            y_val_hat = rf_current.predict(X_val)\n",
        "            accuracy = accuracy_score(y_val_hat, y_val)\n",
        "            results.append([accuracy, n_estimators, min_samples_split, min_samples_leaf])\n",
        "\n",
        "results = pd.DataFrame(results)\n",
        "results.columns = ['accuracy', 'n_estimators', 'min_samples_split', 'min_samples_leaf']\n",
        "print(results)\n"
      ]
    },
    {
      "cell_type": "code",
      "execution_count": 55,
      "metadata": {
        "id": "iqg838aq-dnv"
      },
      "outputs": [],
      "source": [
        "max_idx = results['accuracy'].idxmax()\n",
        "n_estimators = int(results.loc[max_idx]['n_estimators'])\n",
        "min_samples_split = int(results.loc[max_idx]['min_samples_split'])\n",
        "min_samples_leaf = int(results.loc[max_idx]['min_samples_leaf'])"
      ]
    },
    {
      "cell_type": "code",
      "execution_count": 57,
      "metadata": {
        "colab": {
          "base_uri": "https://localhost:8080/"
        },
        "id": "xU-gx0ASAQ26",
        "outputId": "6f3207e5-303c-4e86-dd4b-a11af42b090a"
      },
      "outputs": [
        {
          "output_type": "stream",
          "name": "stdout",
          "text": [
            "DT with default settings achieved 63.9% accuracy.\n"
          ]
        },
        {
          "output_type": "stream",
          "name": "stderr",
          "text": [
            "/usr/local/lib/python3.10/dist-packages/sklearn/base.py:439: UserWarning: X does not have valid feature names, but RandomForestClassifier was fitted with feature names\n",
            "  warnings.warn(\n"
          ]
        }
      ],
      "source": [
        "X_test_val_combined = np.concatenate([X_test, X_val])\n",
        "y_test_val_combined = np.concatenate([y_test, y_val])\n",
        "\n",
        "rf_current = ensemble.RandomForestClassifier(\n",
        "                n_estimators=n_estimators,\n",
        "                min_samples_split=min_samples_split,\n",
        "                min_samples_leaf=min_samples_leaf,\n",
        "                )\n",
        "\n",
        "rf_current.fit(X_train, y_train)\n",
        "y_test_hat = rf_current.predict(X_test_val_combined)\n",
        "accuracy = accuracy_score(y_test_val_combined, y_test_hat)\n",
        "\n",
        "print(f'DT with default settings achieved {round(accuracy * 100, 1)}% accuracy.')"
      ]
    },
    {
      "cell_type": "code",
      "execution_count": 58,
      "metadata": {
        "colab": {
          "base_uri": "https://localhost:8080/"
        },
        "id": "Wy7Tc54MGzJk",
        "outputId": "763f8270-1c04-4dd5-8122-8570d2f4e77a"
      },
      "outputs": [
        {
          "output_type": "stream",
          "name": "stdout",
          "text": [
            "           Feature  Importance\n",
            "0    Elevation_max    0.356145\n",
            "1    End_Elevation    0.253556\n",
            "2    Elevation_min    0.168845\n",
            "3  Start_Elevation    0.119543\n",
            "4      Distance_Km    0.076238\n",
            "5           climbs    0.025673\n"
          ]
        }
      ],
      "source": [
        "importances = rf_current.feature_importances_\n",
        "names = X_train.columns\n",
        "\n",
        "feature_importance = pd.DataFrame(zip(names, importances),\n",
        "                                  columns=['Feature', 'Importance'])\n",
        "feature_importance = feature_importance.sort_values('Importance', ascending=False).reset_index(drop=True)\n",
        "\n",
        "print(feature_importance[:6])\n"
      ]
    }
  ],
  "metadata": {
    "colab": {
      "provenance": []
    },
    "kernelspec": {
      "display_name": "Python 3 (ipykernel)",
      "language": "python",
      "name": "python3"
    },
    "language_info": {
      "codemirror_mode": {
        "name": "ipython",
        "version": 3
      },
      "file_extension": ".py",
      "mimetype": "text/x-python",
      "name": "python",
      "nbconvert_exporter": "python",
      "pygments_lexer": "ipython3",
      "version": "3.10.13"
    }
  },
  "nbformat": 4,
  "nbformat_minor": 0
}