{
 "cells": [
  {
   "cell_type": "code",
   "execution_count": 4,
   "metadata": {},
   "outputs": [],
   "source": [
    "from sklearn.datasets import load_digits\n",
    "from sklearn.model_selection import train_test_split\n",
    "from sklearn.metrics import accuracy_score\n",
    "from sklearn import svm\n",
    "import matplotlib.pyplot as plt "
   ]
  },
  {
   "cell_type": "markdown",
   "metadata": {},
   "source": [
    "We load the digit dataset:"
   ]
  },
  {
   "cell_type": "code",
   "execution_count": 2,
   "metadata": {},
   "outputs": [],
   "source": [
    "X, y = load_digits(return_X_y=True)"
   ]
  },
  {
   "cell_type": "markdown",
   "metadata": {},
   "source": [
    "We split in test and training data - we could also use a validation set but we will not in this case - se details \"SVM - two classes\"\n",
    "We see that we have 64 features in this case, where each feature is a pixel. Therefore we are in a 64-dimention space.\n",
    "You can think of each pixel as an arrow in this space."
   ]
  },
  {
   "cell_type": "code",
   "execution_count": 7,
   "metadata": {},
   "outputs": [
    {
     "name": "stdout",
     "output_type": "stream",
     "text": [
      "(1437, 64) (360, 64) (1437,) (360,)\n"
     ]
    }
   ],
   "source": [
    "X_train, X_test, y_train, y_test = train_test_split(X, y, test_size=0.2, random_state=42)\n",
    "print(X_train.shape, X_test.shape, y_train.shape, y_test.shape)"
   ]
  },
  {
   "cell_type": "markdown",
   "metadata": {},
   "source": [
    "Lets take a look at some of the digits:"
   ]
  },
  {
   "cell_type": "code",
   "execution_count": 5,
   "metadata": {},
   "outputs": [
    {
     "data": {
      "image/png": "[encoded data removed]",
      "text/plain": [
       "<Figure size 1600x240 with 4 Axes>"
      ]
     },
     "metadata": {},
     "output_type": "display_data"
    }
   ],
   "source": [
    "digits = load_digits()\n",
    "\n",
    "fig = plt.figure(figsize=plt.figaspect(0.15))\n",
    "ax = fig.add_subplot(1, 4, 1)\n",
    "ax.matshow(digits.images[0])\n",
    "plt.title(f'Label: {digits.target[0]}\\n')\n",
    "ax = fig.add_subplot(1, 4, 2)\n",
    "ax.matshow(digits.images[1]) \n",
    "\n",
    "plt.title(f'Label: {digits.target[1]}\\n')\n",
    "ax = fig.add_subplot(1, 4, 3)\n",
    "ax.matshow(digits.images[2]) \n",
    "plt.title(f'Label: {digits.target[2]}\\n')\n",
    "ax = fig.add_subplot(1, 4, 4)\n",
    "ax.matshow(digits.images[3]) \n",
    "\n",
    "plt.title(f'Label: {digits.target[3]}\\n')\n",
    "plt.show()"
   ]
  },
  {
   "cell_type": "markdown",
   "metadata": {},
   "source": [
    "Lets start out with a linear kernel:\n",
    "\n",
    "One can think of the linear kernel as staying in the original feature space and trying to seperate the digits (the arrows in space).\n",
    "Compared to other kernels we do not transform the space to higher dimentions for eventually easier seperation of the digits - the arrows in space."
   ]
  },
  {
   "cell_type": "code",
   "execution_count": 8,
   "metadata": {},
   "outputs": [
    {
     "name": "stdout",
     "output_type": "stream",
     "text": [
      "Linear SVM achieved 97.8% accuracy.\n"
     ]
    }
   ],
   "source": [
    "svm_linear = svm.SVC(kernel='linear')\n",
    "svm_linear.fit(X_train, y_train)\n",
    "\n",
    "y_test_hat_linear = svm_linear.predict(X_test)\n",
    "accuracy_linear = accuracy_score(y_test_hat_linear, y_test)\n",
    "print(f'Linear SVM achieved {round(accuracy_linear * 100, 1)}% accuracy.')"
   ]
  },
  {
   "cell_type": "markdown",
   "metadata": {},
   "source": [
    "Lets try with a polynominal SVM:"
   ]
  },
  {
   "cell_type": "code",
   "execution_count": 22,
   "metadata": {},
   "outputs": [
    {
     "name": "stdout",
     "output_type": "stream",
     "text": [
      "Polynomial (of degree 2) SVM achieved 98.9% accuracy\n"
     ]
    }
   ],
   "source": [
    "svm_poly = svm.SVC(kernel='poly', degree=2)\n",
    "svm_poly.fit(X_train, y_train)\n",
    "\n",
    "y_test_hat_poly = svm_poly.predict(X_test)\n",
    "accuracy_poly = accuracy_score(y_test_hat_poly, y_test)\n",
    "print(f'Polynomial (of degree 2) SVM achieved {round(accuracy_poly * 100, 1)}% accuracy')"
   ]
  },
  {
   "cell_type": "markdown",
   "metadata": {},
   "source": [
    "Lastly, a radial basis function SVM:"
   ]
  },
  {
   "cell_type": "code",
   "execution_count": 23,
   "metadata": {},
   "outputs": [
    {
     "name": "stdout",
     "output_type": "stream",
     "text": [
      "RBF SVM achieved 98.6% accuracy.\n"
     ]
    }
   ],
   "source": [
    "svm_rbf = svm.SVC(kernel='rbf')\n",
    "svm_rbf.fit(X_train, y_train)\n",
    "\n",
    "y_test_hat_rbf = svm_rbf.predict(X_test)\n",
    "accuracy_rbf = accuracy_score(y_test_hat_rbf, y_test)\n",
    "print(f'RBF SVM achieved {round(accuracy_rbf * 100, 1)}% accuracy.')"
   ]
  },
  {
   "cell_type": "markdown",
   "metadata": {},
   "source": [
    "We can also swich between OVO and OVR, default is OVR.\n",
    "This is another tuning parameter."
   ]
  },
  {
   "cell_type": "code",
   "execution_count": 25,
   "metadata": {},
   "outputs": [
    {
     "name": "stdout",
     "output_type": "stream",
     "text": [
      "RBF SVM OVR achieved 98.6% accuracy.\n",
      "RBF SVM OVO achieved 98.6% accuracy.\n"
     ]
    }
   ],
   "source": [
    "svm_rbf_ovr = svm.SVC(kernel='rbf', decision_function_shape='ovr')\n",
    "svm_rbf_ovo = svm.SVC(kernel='rbf', decision_function_shape='ovo')\n",
    "\n",
    "svm_rbf_ovr.fit(X_train, y_train)\n",
    "svm_rbf_ovo.fit(X_train, y_train)\n",
    "\n",
    "y_test_hat_rbf_ovr = svm_rbf_ovr.predict(X_test)\n",
    "y_test_hat_rbf_ovo = svm_rbf_ovo.predict(X_test)\n",
    "\n",
    "accuracy_rbf_ovr = accuracy_score(y_test_hat_rbf_ovr, y_test)\n",
    "accuracy_rbf_ovo = accuracy_score(y_test_hat_rbf_ovo, y_test)\n",
    "\n",
    "print(f'RBF SVM OVR achieved {round(accuracy_rbf_ovr * 100, 1)}% accuracy.')\n",
    "print(f'RBF SVM OVO achieved {round(accuracy_rbf_ovo * 100, 1)}% accuracy.')"
   ]
  }
 ],
 "metadata": {
  "kernelspec": {
   "display_name": "Python 3 (ipykernel)",
   "language": "python",
   "name": "python3"
  },
  "language_info": {
   "codemirror_mode": {
    "name": "ipython",
    "version": 3
   },
   "file_extension": ".py",
   "mimetype": "text/x-python",
   "name": "python",
   "nbconvert_exporter": "python",
   "pygments_lexer": "ipython3",
   "version": "3.10.13"
  }
 },
 "nbformat": 4,
 "nbformat_minor": 2
}
