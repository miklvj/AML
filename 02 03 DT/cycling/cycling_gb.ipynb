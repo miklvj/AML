{
  "nbformat": 4,
  "nbformat_minor": 0,
  "metadata": {
    "colab": {
      "provenance": []
    },
    "kernelspec": {
      "name": "python3",
      "display_name": "Python 3"
    },
    "language_info": {
      "name": "python"
    }
  },
  "cells": [
    {
      "cell_type": "code",
      "execution_count": 1,
      "metadata": {
        "id": "Ch_bdngYQ1Ae"
      },
      "outputs": [],
      "source": [
        "from sklearn.model_selection import train_test_split\n",
        "from sklearn.metrics import accuracy_score\n",
        "from sklearn import ensemble\n",
        "import pandas as pd\n",
        "import numpy as np\n",
        "from sklearn.ensemble import GradientBoostingClassifier\n",
        "from sklearn.metrics import accuracy_score"
      ]
    },
    {
      "cell_type": "code",
      "source": [
        "df = pd.read_csv('/content/GT_stage_data.csv')\n",
        "df['climbs'] = df['cat_4_climb'] + df['cat_3_climb'] + df['HC_climb']\n",
        "df = df.drop(columns=['cat_4_climb', 'cat_3_climb', 'cat_2_climb', 'cat_1_climb', 'HC_climb'],)"
      ],
      "metadata": {
        "id": "gBLBI8sYRHd5"
      },
      "execution_count": 2,
      "outputs": []
    },
    {
      "cell_type": "code",
      "source": [
        "X = df.iloc[:, [0, 1, 2, 3, 4, 6]]\n",
        "y = df.iloc[:, 5].values\n",
        "\n",
        "X_train, X_test, y_train, y_test = X_train, X_test, y_train, y_test = train_test_split(X, y,\n",
        "                                                                                       test_size=0.2,\n",
        "                                                                                       random_state=40)\n",
        "\n",
        "X_train, X_val, y_train, y_val = X_train, X_val, y_train, y_val = train_test_split(X_train, y_train,\n",
        "                                                                                   test_size=0.2,\n",
        "                                                                                   random_state=40)\n",
        "\n",
        "print(X_train.shape, X_val.shape, X_test.shape, y_train.shape, y_val.shape, y_test.shape)\n"
      ],
      "metadata": {
        "colab": {
          "base_uri": "https://localhost:8080/"
        },
        "id": "lOz4DlMdQ9yQ",
        "outputId": "95246673-2945-4e22-9d56-e89253c09b09"
      },
      "execution_count": 3,
      "outputs": [
        {
          "output_type": "stream",
          "name": "stdout",
          "text": [
            "(108, 6) (27, 6) (34, 6) (108,) (27,) (34,)\n"
          ]
        }
      ]
    },
    {
      "cell_type": "markdown",
      "source": [
        "Use the **data** data (remember to split your data into a train, validation, and test data). Using your training and validation data, optimize the parameters of your GradientBoostingClassifier. How well does your optimized model perform on the test data?"
      ],
      "metadata": {
        "id": "V00OuqLMSs97"
      }
    },
    {
      "cell_type": "code",
      "source": [
        "gbt_current = ensemble.GradientBoostingClassifier()\n",
        "gbt_current.fit(X_train, y_train)\n",
        "y_val_hat = gbt_current.predict(X_val)\n",
        "acc = accuracy_score(y_val, y_val_hat)\n",
        "\n",
        "accuracy_default = accuracy_score(y_val_hat, y_val)\n",
        "\n",
        "print(f'DT with default settings achieved {round(accuracy_default * 100, 1)}% accuracy.')"
      ],
      "metadata": {
        "colab": {
          "base_uri": "https://localhost:8080/"
        },
        "id": "LOUaTRG3Silb",
        "outputId": "22a8d349-62cb-4c3e-e253-cce053c6b338"
      },
      "execution_count": 5,
      "outputs": [
        {
          "output_type": "stream",
          "name": "stdout",
          "text": [
            "DT with default settings achieved 70.4% accuracy.\n"
          ]
        }
      ]
    },
    {
      "cell_type": "code",
      "source": [
        "n_estimators_list = [100, 500, 1000]\n",
        "min_samples_split_list = [5, 8, 10]\n",
        "min_samples_leaf_list = [6, 9, 11]\n",
        "\n",
        "results = []\n",
        "\n",
        "for n_estimators in n_estimators_list:\n",
        "    for min_samples_split in min_samples_split_list:\n",
        "        for min_samples_leaf in min_samples_leaf_list:\n",
        "            gbt_current = ensemble.GradientBoostingClassifier(\n",
        "                n_estimators=n_estimators,\n",
        "                min_samples_split=min_samples_split,\n",
        "                min_samples_leaf=min_samples_leaf,\n",
        "                )\n",
        "            gbt_current.fit(X_train, y_train)\n",
        "            y_val_hat = gbt_current.predict(X_val)\n",
        "            accuracy = accuracy_score(y_val_hat, y_val)\n",
        "\n",
        "            results.append([accuracy, n_estimators, min_samples_split, min_samples_leaf])\n",
        "\n",
        "results = pd.DataFrame(results)\n",
        "results.columns = ['accuracy', 'n_estimators', 'min_samples_split', 'min_samples_leaf']\n",
        "print(results)"
      ],
      "metadata": {
        "colab": {
          "base_uri": "https://localhost:8080/"
        },
        "id": "lwz4FbFmTlTJ",
        "outputId": "bb82f7b2-da90-4842-e2b6-b1895357a2c5"
      },
      "execution_count": 6,
      "outputs": [
        {
          "output_type": "stream",
          "name": "stdout",
          "text": [
            "    accuracy  n_estimators  min_samples_split  min_samples_leaf\n",
            "0   0.592593           100                  5                 6\n",
            "1   0.703704           100                  5                 9\n",
            "2   0.629630           100                  5                11\n",
            "3   0.592593           100                  8                 6\n",
            "4   0.703704           100                  8                 9\n",
            "5   0.629630           100                  8                11\n",
            "6   0.592593           100                 10                 6\n",
            "7   0.703704           100                 10                 9\n",
            "8   0.629630           100                 10                11\n",
            "9   0.592593           500                  5                 6\n",
            "10  0.629630           500                  5                 9\n",
            "11  0.592593           500                  5                11\n",
            "12  0.592593           500                  8                 6\n",
            "13  0.629630           500                  8                 9\n",
            "14  0.592593           500                  8                11\n",
            "15  0.592593           500                 10                 6\n",
            "16  0.629630           500                 10                 9\n",
            "17  0.592593           500                 10                11\n",
            "18  0.703704          1000                  5                 6\n",
            "19  0.555556          1000                  5                 9\n",
            "20  0.555556          1000                  5                11\n",
            "21  0.703704          1000                  8                 6\n",
            "22  0.555556          1000                  8                 9\n",
            "23  0.555556          1000                  8                11\n",
            "24  0.703704          1000                 10                 6\n",
            "25  0.555556          1000                 10                 9\n",
            "26  0.555556          1000                 10                11\n"
          ]
        }
      ]
    },
    {
      "cell_type": "code",
      "source": [
        "max_idx = results['accuracy'].idxmax()\n",
        "n_estimators = int(results.loc[max_idx]['n_estimators'])\n",
        "min_samples_split = int(results.loc[max_idx]['min_samples_split'])\n",
        "min_samples_leaf = int(results.loc[max_idx]['min_samples_leaf'])"
      ],
      "metadata": {
        "id": "3BNlZ331Vwr4"
      },
      "execution_count": 7,
      "outputs": []
    },
    {
      "cell_type": "code",
      "source": [
        "X_test_val_combined = np.concatenate([X_test, X_val])\n",
        "y_test_val_combined = np.concatenate([y_test, y_val])\n",
        "\n",
        "rf_current = ensemble.GradientBoostingClassifier(\n",
        "                n_estimators=n_estimators,\n",
        "                min_samples_split=min_samples_split,\n",
        "                min_samples_leaf=min_samples_leaf,\n",
        "                )\n",
        "\n",
        "rf_current.fit(X_train, y_train)\n",
        "y_test_hat = rf_current.predict(X_test_val_combined)\n",
        "accuracy = accuracy_score(y_test_val_combined, y_test_hat)\n",
        "\n",
        "print(f'DT with default settings achieved {round(accuracy * 100, 1)}% accuracy.')"
      ],
      "metadata": {
        "colab": {
          "base_uri": "https://localhost:8080/"
        },
        "id": "hmuS3r03WWbM",
        "outputId": "67638260-56ba-4558-dc58-4047408a203e"
      },
      "execution_count": 8,
      "outputs": [
        {
          "output_type": "stream",
          "name": "stdout",
          "text": [
            "DT with default settings achieved 63.9% accuracy.\n"
          ]
        },
        {
          "output_type": "stream",
          "name": "stderr",
          "text": [
            "/usr/local/lib/python3.10/dist-packages/sklearn/base.py:439: UserWarning: X does not have valid feature names, but GradientBoostingClassifier was fitted with feature names\n",
            "  warnings.warn(\n"
          ]
        }
      ]
    },
    {
      "cell_type": "code",
      "source": [
        "importances = rf_current.feature_importances_\n",
        "names = X_train.columns\n",
        "\n",
        "feature_importance = pd.DataFrame(zip(names, importances),\n",
        "                                  columns=['Feature', 'Importance'])\n",
        "feature_importance = feature_importance.sort_values('Importance', ascending=False).reset_index(drop=True)\n",
        "\n",
        "print(feature_importance[:6])\n"
      ],
      "metadata": {
        "colab": {
          "base_uri": "https://localhost:8080/"
        },
        "id": "COzi4T_fWlq4",
        "outputId": "12e2013f-eb1e-4f7a-c7ce-97558f2c7160"
      },
      "execution_count": 9,
      "outputs": [
        {
          "output_type": "stream",
          "name": "stdout",
          "text": [
            "           Feature  Importance\n",
            "0    Elevation_max    0.450298\n",
            "1    Elevation_min    0.163554\n",
            "2           climbs    0.120098\n",
            "3      Distance_Km    0.109310\n",
            "4    End_Elevation    0.094508\n",
            "5  Start_Elevation    0.062231\n"
          ]
        }
      ]
    }
  ]
}