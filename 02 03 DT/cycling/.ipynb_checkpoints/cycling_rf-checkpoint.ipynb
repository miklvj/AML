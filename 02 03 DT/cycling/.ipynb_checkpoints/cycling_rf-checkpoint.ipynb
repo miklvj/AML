{
 "cells": [
  {
   "cell_type": "code",
   "execution_count": 134,
   "metadata": {
    "id": "dDOvl_jglKJz"
   },
   "outputs": [],
   "source": [
    "from sklearn.model_selection import train_test_split\n",
    "from sklearn.metrics import mean_squared_error\n",
    "from sklearn import ensemble\n",
    "import tqdm\n",
    "import pandas as pd\n",
    "import numpy as np\n",
    "from sklearn import tree\n",
    "from matplotlib import pyplot as plt"
   ]
  },
  {
   "cell_type": "markdown",
   "metadata": {
    "id": "ng6-aUEv6UoU"
   },
   "source": [
    "**Data manipulation**"
   ]
  },
  {
   "cell_type": "code",
   "execution_count": 121,
   "metadata": {
    "id": "bAkNuUvdmZ73"
   },
   "outputs": [],
   "source": [
    "df = pd.read_csv('/GT_stage_data.csv')\n",
    "df['climbs'] = df['cat_4_climb'] + df['cat_3_climb'] + df['HC_climb']\n",
    "df = df.drop(columns=['cat_4_climb', 'cat_3_climb', 'cat_2_climb', 'cat_1_climb', 'HC_climb'],)"
   ]
  },
  {
   "cell_type": "markdown",
   "metadata": {
    "id": "C2ropull6asY"
   },
   "source": [
    "**Model**"
   ]
  },
  {
   "cell_type": "code",
   "execution_count": 122,
   "metadata": {
    "colab": {
     "base_uri": "https://localhost:8080/"
    },
    "id": "c7U4JZgV2P5N",
    "outputId": "00199128-8821-4968-d7b2-10c6d16b97d5"
   },
   "outputs": [
    {
     "name": "stdout",
     "output_type": "stream",
     "text": [
      "(108, 6) (27, 6) (34, 6) (108,) (27,) (34,)\n"
     ]
    }
   ],
   "source": [
    "X = df.iloc[:, [0, 1, 2, 3, 4, 6]]\n",
    "y = df.iloc[:, 5].values\n",
    "\n",
    "X_train, X_test, y_train, y_test = X_train, X_test, y_train, y_test = train_test_split(X,\n",
    "                                                    y,\n",
    "                                                    test_size=0.2,\n",
    "                                                    random_state=42)\n",
    "\n",
    "X_train, X_val, y_train, y_val   = train_test_split(X_train,\n",
    "                                                   y_train,\n",
    "                                                   test_size=0.2,\n",
    "                                                   random_state=42)\n",
    "\n",
    "print(X_train.shape, X_val.shape, X_test.shape, y_train.shape, y_val.shape, y_test.shape)\n"
   ]
  },
  {
   "cell_type": "markdown",
   "metadata": {
    "id": "CCcVAssK7YWK"
   },
   "source": [
    "Use the data (remember to split your data into a train, validation, and test data). Using your training and validation data, optimize the parameters of your RF. How well does your optimized model perform on the test data?\n",
    "\n",
    "Let us start by ensuring we can just run an RF without any optimization."
   ]
  },
  {
   "cell_type": "code",
   "execution_count": 123,
   "metadata": {
    "colab": {
     "base_uri": "https://localhost:8080/"
    },
    "id": "gQT8HaK82omR",
    "outputId": "308656b8-bd95-454f-9b48-079a8667bdac"
   },
   "outputs": [
    {
     "name": "stdout",
     "output_type": "stream",
     "text": [
      "RF with default settings has validation MSE of 0.25234814814814815.\n"
     ]
    }
   ],
   "source": [
    "rf_current = ensemble.RandomForestRegressor()\n",
    "rf_current.fit(X_train, y_train)\n",
    "y_val_hat = rf_current.predict(X_val)\n",
    "mse = mean_squared_error(y_val, y_val_hat)\n",
    "\n",
    "print(f'RF with default settings has validation MSE of {mse}.')\n"
   ]
  },
  {
   "cell_type": "code",
   "execution_count": 124,
   "metadata": {
    "colab": {
     "base_uri": "https://localhost:8080/"
    },
    "id": "j0nBPPaC3YhG",
    "outputId": "1473ac5e-da64-4ecb-8f35-45c19674658d"
   },
   "outputs": [
    {
     "name": "stdout",
     "output_type": "stream",
     "text": [
      "         MSE  n_estimators  min_samples_split  min_samples_leaf\n",
      "0   0.260994             2                  5                 6\n",
      "1   0.207062             2                  5                 9\n",
      "2   0.195636             2                  5                11\n",
      "3   0.243083             2                  8                 6\n",
      "4   0.252614             2                  8                 9\n",
      "5   0.290898             2                  8                11\n",
      "6   0.217411             2                 10                 6\n",
      "7   0.193917             2                 10                 9\n",
      "8   0.213867             2                 10                11\n",
      "9   0.236886             4                  5                 6\n",
      "10  0.215538             4                  5                 9\n",
      "11  0.211549             4                  5                11\n",
      "12  0.252981             4                  8                 6\n",
      "13  0.209115             4                  8                 9\n",
      "14  0.220743             4                  8                11\n",
      "15  0.228890             4                 10                 6\n",
      "16  0.227826             4                 10                 9\n",
      "17  0.228761             4                 10                11\n",
      "18  0.256986             6                  5                 6\n",
      "19  0.235834             6                  5                 9\n",
      "20  0.215421             6                  5                11\n",
      "21  0.209036             6                  8                 6\n",
      "22  0.231745             6                  8                 9\n",
      "23  0.199331             6                  8                11\n",
      "24  0.214409             6                 10                 6\n",
      "25  0.214299             6                 10                 9\n",
      "26  0.201973             6                 10                11\n"
     ]
    }
   ],
   "source": [
    "n_estimators_list = [2, 4, 6]\n",
    "min_samples_split_list = [5, 8, 10]\n",
    "min_samples_leaf_list = [6, 9, 11]\n",
    "\n",
    "results = []\n",
    "\n",
    "for n_estimators in n_estimators_list:\n",
    "    for min_samples_split in min_samples_split_list:\n",
    "        for min_samples_leaf in min_samples_leaf_list:\n",
    "            rf_current = ensemble.RandomForestRegressor(\n",
    "                n_estimators=n_estimators,\n",
    "                min_samples_split=min_samples_split,\n",
    "                min_samples_leaf=min_samples_leaf,\n",
    "                )\n",
    "            rf_current.fit(X_train, y_train)\n",
    "            y_val_hat = rf_current.predict(X_val)\n",
    "            mse = mean_squared_error(y_val, y_val_hat)\n",
    "\n",
    "            results.append([mse, n_estimators, min_samples_split, min_samples_leaf])\n",
    "\n",
    "results = pd.DataFrame(results)\n",
    "results.columns = ['MSE', 'n_estimators', 'min_samples_split', 'min_samples_leaf']\n",
    "print(results)\n"
   ]
  },
  {
   "cell_type": "code",
   "execution_count": 130,
   "metadata": {
    "id": "iqg838aq-dnv"
   },
   "outputs": [],
   "source": [
    "min_idx = results['MSE'].idxmin()\n",
    "n_estimators = int(results.loc[min_idx]['n_estimators'])\n",
    "min_samples_split = int(results.loc[min_idx]['min_samples_split'])\n",
    "min_samples_leaf = int(results.loc[min_idx]['min_samples_leaf'])"
   ]
  },
  {
   "cell_type": "code",
   "execution_count": 132,
   "metadata": {
    "colab": {
     "base_uri": "https://localhost:8080/"
    },
    "id": "xU-gx0ASAQ26",
    "outputId": "097f83b1-07d0-4995-b56b-ba66476dbce8"
   },
   "outputs": [
    {
     "name": "stdout",
     "output_type": "stream",
     "text": [
      "RF with default settings has validation MSE of 0.2577940626747744.\n"
     ]
    },
    {
     "name": "stderr",
     "output_type": "stream",
     "text": [
      "/usr/local/lib/python3.10/dist-packages/sklearn/base.py:439: UserWarning: X does not have valid feature names, but RandomForestRegressor was fitted with feature names\n",
      "  warnings.warn(\n"
     ]
    }
   ],
   "source": [
    "X_test_val_combined = np.concatenate([X_test, X_val])\n",
    "y_test_val_combined = np.concatenate([y_test, y_val])\n",
    "\n",
    "rf_current = ensemble.RandomForestRegressor(\n",
    "                n_estimators=n_estimators,\n",
    "                min_samples_split=min_samples_split,\n",
    "                min_samples_leaf=min_samples_leaf,\n",
    "                )\n",
    "\n",
    "rf_current.fit(X_train, y_train)\n",
    "y_test_hat = rf_current.predict(X_test_val_combine)\n",
    "mse = mean_squared_error(y_test_val_combined, y_test_hat)\n",
    "\n",
    "print(f'RF with default settings has validation MSE of {mse}.')"
   ]
  },
  {
   "cell_type": "code",
   "execution_count": 136,
   "metadata": {
    "colab": {
     "base_uri": "https://localhost:8080/"
    },
    "id": "Wy7Tc54MGzJk",
    "outputId": "649ec5ae-5a25-41d1-f75e-74e8d46205e7"
   },
   "outputs": [
    {
     "name": "stdout",
     "output_type": "stream",
     "text": [
      "           Feature  Importance\n",
      "0    Elevation_max    0.547015\n",
      "1    Elevation_min    0.139200\n",
      "2    End_Elevation    0.110687\n",
      "3           climbs    0.110551\n",
      "4  Start_Elevation    0.083590\n",
      "5      Distance_Km    0.008956\n"
     ]
    }
   ],
   "source": [
    "importances = rf_current.feature_importances_\n",
    "names = X_train.columns\n",
    "\n",
    "feature_importance = pd.DataFrame(zip(names, importances),\n",
    "                                  columns=['Feature', 'Importance'])\n",
    "feature_importance = feature_importance.sort_values('Importance', ascending=False).reset_index(drop=True)\n",
    "\n",
    "print(feature_importance[:6])\n",
    "\n"
   ]
  }
 ],
 "metadata": {
  "colab": {
   "provenance": [],
   "toc_visible": true
  },
  "kernelspec": {
   "display_name": "Python 3 (ipykernel)",
   "language": "python",
   "name": "python3"
  },
  "language_info": {
   "codemirror_mode": {
    "name": "ipython",
    "version": 3
   },
   "file_extension": ".py",
   "mimetype": "text/x-python",
   "name": "python",
   "nbconvert_exporter": "python",
   "pygments_lexer": "ipython3",
   "version": "3.10.13"
  }
 },
 "nbformat": 4,
 "nbformat_minor": 1
}
