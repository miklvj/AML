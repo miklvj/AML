{
  "nbformat": 4,
  "nbformat_minor": 0,
  "metadata": {
    "colab": {
      "provenance": []
    },
    "kernelspec": {
      "name": "python3",
      "display_name": "Python 3"
    },
    "language_info": {
      "name": "python"
    }
  },
  "cells": [
    {
      "cell_type": "code",
      "execution_count": 1,
      "metadata": {
        "id": "Xm0UUpDmQA7I"
      },
      "outputs": [],
      "source": [
        "import tensorflow as tf\n",
        "\n",
        "def create_res_layer(x,name:str): # try to change this to the implementation in the ResNet paper!\n",
        "    nonlinear_part = tf.keras.layers.Conv2D(32, (3, 3), activation='relu', padding='same')(x)\n",
        "    return tf.keras.layers.Add(name=name)([x, nonlinear_part])\n",
        "\n",
        "input_layer = tf.keras.layers.Input((32, 32, 3))\n",
        "x = tf.keras.layers.Conv2D(32, (5, 5), activation='relu')(input_layer)\n",
        "\n",
        "for i in range(2):\n",
        "    x = create_res_layer(x,name = f'skip_layer_{i}')\n",
        "\n",
        "x = tf.keras.layers.Flatten()(x)\n",
        "x = tf.keras.layers.Dense(64, activation='relu')(x)\n",
        "x = tf.keras.layers.Dense(10, activation='softmax')(x)"
      ]
    },
    {
      "cell_type": "code",
      "source": [
        "model = tf.keras.models.Model(inputs=input_layer, outputs=x)\n",
        "model.summary()"
      ],
      "metadata": {
        "colab": {
          "base_uri": "https://localhost:8080/"
        },
        "id": "DSaJMk5FQT2E",
        "outputId": "e1f199b9-b001-48c6-e330-73986358628d"
      },
      "execution_count": 2,
      "outputs": [
        {
          "output_type": "stream",
          "name": "stdout",
          "text": [
            "Model: \"model\"\n",
            "__________________________________________________________________________________________________\n",
            " Layer (type)                Output Shape                 Param #   Connected to                  \n",
            "==================================================================================================\n",
            " input_1 (InputLayer)        [(None, 32, 32, 3)]          0         []                            \n",
            "                                                                                                  \n",
            " conv2d (Conv2D)             (None, 28, 28, 32)           2432      ['input_1[0][0]']             \n",
            "                                                                                                  \n",
            " conv2d_1 (Conv2D)           (None, 28, 28, 32)           9248      ['conv2d[0][0]']              \n",
            "                                                                                                  \n",
            " skip_layer_0 (Add)          (None, 28, 28, 32)           0         ['conv2d[0][0]',              \n",
            "                                                                     'conv2d_1[0][0]']            \n",
            "                                                                                                  \n",
            " conv2d_2 (Conv2D)           (None, 28, 28, 32)           9248      ['skip_layer_0[0][0]']        \n",
            "                                                                                                  \n",
            " skip_layer_1 (Add)          (None, 28, 28, 32)           0         ['skip_layer_0[0][0]',        \n",
            "                                                                     'conv2d_2[0][0]']            \n",
            "                                                                                                  \n",
            " flatten (Flatten)           (None, 25088)                0         ['skip_layer_1[0][0]']        \n",
            "                                                                                                  \n",
            " dense (Dense)               (None, 64)                   1605696   ['flatten[0][0]']             \n",
            "                                                                                                  \n",
            " dense_1 (Dense)             (None, 10)                   650       ['dense[0][0]']               \n",
            "                                                                                                  \n",
            "==================================================================================================\n",
            "Total params: 1627274 (6.21 MB)\n",
            "Trainable params: 1627274 (6.21 MB)\n",
            "Non-trainable params: 0 (0.00 Byte)\n",
            "__________________________________________________________________________________________________\n"
          ]
        }
      ]
    }
  ]
}