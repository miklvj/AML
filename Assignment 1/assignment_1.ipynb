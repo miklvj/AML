{
  "nbformat": 4,
  "nbformat_minor": 0,
  "metadata": {
    "colab": {
      "provenance": []
    },
    "kernelspec": {
      "name": "python3",
      "display_name": "Python 3"
    },
    "language_info": {
      "name": "python"
    }
  },
  "cells": [
    {
      "cell_type": "code",
      "execution_count": 27,
      "metadata": {
        "id": "fvX2b6KvJGDH"
      },
      "outputs": [],
      "source": [
        "from sklearn import svm\n",
        "from sklearn.metrics import accuracy_score\n",
        "import numpy as np\n",
        "import tensorflow as tf\n",
        "from sklearn.preprocessing import StandardScaler"
      ]
    },
    {
      "cell_type": "markdown",
      "source": [
        "**Get acess to the data from google drive:**"
      ],
      "metadata": {
        "id": "-P78zkdLVOkH"
      }
    },
    {
      "cell_type": "code",
      "source": [
        "from google.colab import drive\n",
        "drive.mount('/content/gdrive')"
      ],
      "metadata": {
        "colab": {
          "base_uri": "https://localhost:8080/"
        },
        "id": "NPb38gbJMK5s",
        "outputId": "1a6e76c3-68c6-4761-84e1-392d7ec6832b"
      },
      "execution_count": 28,
      "outputs": [
        {
          "output_type": "stream",
          "name": "stdout",
          "text": [
            "Drive already mounted at /content/gdrive; to attempt to forcibly remount, call drive.mount(\"/content/gdrive\", force_remount=True).\n"
          ]
        }
      ]
    },
    {
      "cell_type": "markdown",
      "source": [
        "**Defining a function that grayscale, resize and flattens the image:**"
      ],
      "metadata": {
        "id": "XkUhhoI3VfYg"
      }
    },
    {
      "cell_type": "code",
      "source": [
        "def convert_sample(image):\n",
        "    image = tf.image.rgb_to_grayscale(image)\n",
        "    image = tf.image.resize(image,[32,32]).numpy()\n",
        "    image = image.reshape(1,-1)\n",
        "    return image"
      ],
      "metadata": {
        "id": "enZXIaUlUA-w"
      },
      "execution_count": 29,
      "outputs": []
    },
    {
      "cell_type": "markdown",
      "source": [
        "**Create X, y and Xtest - the function convert_sample is used:**"
      ],
      "metadata": {
        "id": "Dfj7B8GEVddM"
      }
    },
    {
      "cell_type": "code",
      "source": [
        "X = np.load('/content/gdrive/My Drive/AML_data/Xtrain.npy')\n",
        "X = np.vstack(list(map(convert_sample,X)))\n",
        "X = StandardScaler(with_mean=0, with_std=1).fit_transform(X)\n",
        "print(f'Shape of training data features (observations,features): {X.shape}')\n",
        "\n",
        "y = np.load('/content/gdrive/My Drive/AML_data//ytrain.npy')\n",
        "y = y.reshape(-1,)\n",
        "print(f'Shape of training data labels (observations,): {y.shape}')\n",
        "\n",
        "Xtest = np.load('/content/gdrive/My Drive/AML_data//Xtest.npy')\n",
        "Xtest = np.vstack(list(map(convert_sample,Xtest)))\n",
        "Xtest = StandardScaler(with_mean=0, with_std=1).fit_transform(Xtest)\n",
        "print(f'Shape of training data features (observations,features): {Xtest.shape}')"
      ],
      "metadata": {
        "colab": {
          "base_uri": "https://localhost:8080/"
        },
        "id": "gucWXlgfUBhH",
        "outputId": "8cc9846c-46ab-486f-b74e-b3a6b51a1654"
      },
      "execution_count": 30,
      "outputs": [
        {
          "output_type": "stream",
          "name": "stderr",
          "text": [
            "/usr/local/lib/python3.10/dist-packages/sklearn/utils/_param_validation.py:558: FutureWarning: Passing an int for a boolean parameter is deprecated in version 1.2 and won't be supported anymore in version 1.4.\n",
            "  warnings.warn(\n"
          ]
        },
        {
          "output_type": "stream",
          "name": "stdout",
          "text": [
            "Shape of training data features (observations,features): (26214, 1024)\n",
            "Shape of training data labels (observations,): (26214,)\n",
            "Shape of training data features (observations,features): (1638, 1024)\n"
          ]
        },
        {
          "output_type": "stream",
          "name": "stderr",
          "text": [
            "/usr/local/lib/python3.10/dist-packages/sklearn/utils/_param_validation.py:558: FutureWarning: Passing an int for a boolean parameter is deprecated in version 1.2 and won't be supported anymore in version 1.4.\n",
            "  warnings.warn(\n"
          ]
        }
      ]
    }
  ]
}