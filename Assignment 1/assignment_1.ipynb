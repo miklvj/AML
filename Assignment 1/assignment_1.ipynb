{
  "nbformat": 4,
  "nbformat_minor": 0,
  "metadata": {
    "colab": {
      "provenance": []
    },
    "kernelspec": {
      "name": "python3",
      "display_name": "Python 3"
    },
    "language_info": {
      "name": "python"
    }
  },
  "cells": [
    {
      "cell_type": "code",
      "execution_count": 7,
      "metadata": {
        "id": "fvX2b6KvJGDH"
      },
      "outputs": [],
      "source": [
        "from sklearn import svm\n",
        "from sklearn.metrics import accuracy_score\n",
        "import numpy as np\n",
        "import tensorflow as tf\n",
        "from sklearn.preprocessing import StandardScaler\n",
        "from sklearn.model_selection import train_test_split, ParameterGrid\n",
        "import pandas as pd"
      ]
    },
    {
      "cell_type": "markdown",
      "source": [
        "**Get acess to the data from google drive:**"
      ],
      "metadata": {
        "id": "-P78zkdLVOkH"
      }
    },
    {
      "cell_type": "code",
      "source": [
        "from google.colab import drive\n",
        "drive.mount('/content/gdrive')"
      ],
      "metadata": {
        "colab": {
          "base_uri": "https://localhost:8080/"
        },
        "id": "NPb38gbJMK5s",
        "outputId": "7baa51cb-ae33-442d-b957-51437b38aabe"
      },
      "execution_count": 8,
      "outputs": [
        {
          "output_type": "stream",
          "name": "stdout",
          "text": [
            "Drive already mounted at /content/gdrive; to attempt to forcibly remount, call drive.mount(\"/content/gdrive\", force_remount=True).\n"
          ]
        }
      ]
    },
    {
      "cell_type": "markdown",
      "source": [
        "**Defining a function that grayscale, resize and flattens the image:**"
      ],
      "metadata": {
        "id": "XkUhhoI3VfYg"
      }
    },
    {
      "cell_type": "code",
      "source": [
        "def convert_sample(image):\n",
        "    image = tf.image.rgb_to_grayscale(image)\n",
        "    image = tf.image.resize(image,[32,32]).numpy()\n",
        "    image = image.reshape(1,-1)\n",
        "    return image"
      ],
      "metadata": {
        "id": "enZXIaUlUA-w"
      },
      "execution_count": 9,
      "outputs": []
    },
    {
      "cell_type": "markdown",
      "source": [
        "**Create X, y and Xtest - the function convert_sample is used:**"
      ],
      "metadata": {
        "id": "Dfj7B8GEVddM"
      }
    },
    {
      "cell_type": "code",
      "source": [
        "X = np.load('/content/gdrive/My Drive/AML_data/Xtrain.npy')\n",
        "X = np.vstack(list(map(convert_sample,X)))\n",
        "X = StandardScaler(with_mean=0, with_std=1).fit_transform(X)\n",
        "print(f'Shape of training data features (observations,features): {X.shape}')\n",
        "\n",
        "y = np.load('/content/gdrive/My Drive/AML_data//ytrain.npy')\n",
        "y = y.reshape(-1,)\n",
        "print(f'Shape of training data labels (observations,): {y.shape}')\n",
        "\n",
        "Xtest = np.load('/content/gdrive/My Drive/AML_data//Xtest.npy')\n",
        "Xtest = np.vstack(list(map(convert_sample,Xtest)))\n",
        "Xtest = StandardScaler(with_mean=0, with_std=1).fit_transform(Xtest)\n",
        "print(f'Shape of training data features (observations,features): {Xtest.shape}')"
      ],
      "metadata": {
        "colab": {
          "base_uri": "https://localhost:8080/"
        },
        "id": "gucWXlgfUBhH",
        "outputId": "ce015967-4848-46a6-c55c-ac79c90a1c52"
      },
      "execution_count": 10,
      "outputs": [
        {
          "output_type": "stream",
          "name": "stderr",
          "text": [
            "/usr/local/lib/python3.10/dist-packages/sklearn/utils/_param_validation.py:558: FutureWarning: Passing an int for a boolean parameter is deprecated in version 1.2 and won't be supported anymore in version 1.4.\n",
            "  warnings.warn(\n"
          ]
        },
        {
          "output_type": "stream",
          "name": "stdout",
          "text": [
            "Shape of training data features (observations,features): (26214, 1024)\n",
            "Shape of training data labels (observations,): (26214,)\n",
            "Shape of training data features (observations,features): (1638, 1024)\n"
          ]
        },
        {
          "output_type": "stream",
          "name": "stderr",
          "text": [
            "/usr/local/lib/python3.10/dist-packages/sklearn/utils/_param_validation.py:558: FutureWarning: Passing an int for a boolean parameter is deprecated in version 1.2 and won't be supported anymore in version 1.4.\n",
            "  warnings.warn(\n"
          ]
        }
      ]
    },
    {
      "cell_type": "code",
      "source": [
        "X_train, X_val, y_train, y_val = X_train, X_test, y_train, y_test = train_test_split(X,\n",
        "                                                    y,\n",
        "                                                    test_size=0.2,\n",
        "                                                    random_state=42)"
      ],
      "metadata": {
        "id": "Ah71CBPuLlmK"
      },
      "execution_count": 12,
      "outputs": []
    },
    {
      "cell_type": "markdown",
      "source": [
        "**SVM:**\n",
        "\n",
        "Radial Basis Function (RBF) Kernel:\n",
        "\n",
        "Often just referred to as the ’radial’ or\n",
        "’Gaussian’ kernel, this is like projecting the data into an infinite-dimensional space.\n",
        "\n",
        "We loop over several values for C and choose the best hyperparameter - C.\n",
        "\n",
        "C large: More strict model (allows few misclassifications)\n",
        "\n",
        "C low: Less strict (allows many misclassifications)"
      ],
      "metadata": {
        "id": "_WlFYICBrQ6S"
      }
    },
    {
      "cell_type": "code",
      "source": [
        "param_grid = ParameterGrid({\n",
        "    'C': [0.1, 1, 10, 100], })\n",
        "\n",
        "score_ = 0\n",
        "params_ = None\n",
        "for params in param_grid:\n",
        "  svm_rbf = svm.SVC(kernel='rbf', C=params['C'])\n",
        "  svm_rbf.fit(X_train, y_train)\n",
        "  y_test_hat_rbf = svm_rbf.predict(X_val)\n",
        "  accuracy_rbf = accuracy_score(y_test_hat_rbf, y_val)\n",
        "  if accuracy_rbf > score_:\n",
        "    score_ = accuracy_rbf\n",
        "    params_ = params"
      ],
      "metadata": {
        "id": "FAYdJittpyyx"
      },
      "execution_count": 13,
      "outputs": []
    },
    {
      "cell_type": "code",
      "source": [
        "print(f\"For SVM - using radial and the best hyperparameter C: {params}, the accuracy of the model is: {accuracy_rbf}\")"
      ],
      "metadata": {
        "colab": {
          "base_uri": "https://localhost:8080/"
        },
        "id": "Wo8-HI6Ms44z",
        "outputId": "f54866d7-3f58-4029-f3aa-30f4f5be2bd4"
      },
      "execution_count": 14,
      "outputs": [
        {
          "output_type": "stream",
          "name": "stdout",
          "text": [
            "For SVM - using radial and the best hyperparameter C: {'C': 100}, the accuracy of the model is: 0.7469006294106427\n"
          ]
        }
      ]
    }
  ]
}