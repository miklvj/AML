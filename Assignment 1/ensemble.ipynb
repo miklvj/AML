{
  "nbformat": 4,
  "nbformat_minor": 0,
  "metadata": {
    "colab": {
      "provenance": []
    },
    "kernelspec": {
      "name": "python3",
      "display_name": "Python 3"
    },
    "language_info": {
      "name": "python"
    }
  },
  "cells": [
    {
      "cell_type": "markdown",
      "source": [
        "**Imports:**"
      ],
      "metadata": {
        "id": "bz1WoPP36A3m"
      }
    },
    {
      "cell_type": "code",
      "source": [
        "from sklearn import svm\n",
        "from sklearn.metrics import accuracy_score\n",
        "import numpy as np\n",
        "import tensorflow as tf\n",
        "from sklearn.preprocessing import StandardScaler\n",
        "from sklearn.model_selection import train_test_split, ParameterGrid\n",
        "import pandas as pd\n",
        "import tqdm\n",
        "from sklearn import tree\n",
        "from matplotlib import pyplot as plt\n",
        "from sklearn.ensemble import RandomForestClassifier\n",
        "from sklearn import ensemble\n",
        "from sklearn.ensemble import RandomForestClassifier, GradientBoostingClassifier\n",
        "from sklearn.svm import SVC\n",
        "from scipy.stats import mode\n",
        "from sklearn.decomposition import PCA"
      ],
      "metadata": {
        "id": "yrasc0955zP9"
      },
      "execution_count": 2,
      "outputs": []
    },
    {
      "cell_type": "markdown",
      "source": [
        "**Get acess to the data from google drive:**"
      ],
      "metadata": {
        "id": "98iXXryHyCJ8"
      }
    },
    {
      "cell_type": "code",
      "source": [
        "from google.colab import drive\n",
        "drive.mount('/content/gdrive')"
      ],
      "metadata": {
        "colab": {
          "base_uri": "https://localhost:8080/"
        },
        "id": "QI1cYs8lu7ol",
        "outputId": "3b9c8833-8e10-4e1c-8080-31766b804a02"
      },
      "execution_count": 3,
      "outputs": [
        {
          "output_type": "stream",
          "name": "stdout",
          "text": [
            "Mounted at /content/gdrive\n"
          ]
        }
      ]
    },
    {
      "cell_type": "markdown",
      "source": [
        "**Defining a function that grayscale, resize and flattens the image:**"
      ],
      "metadata": {
        "id": "dUu5IOEJ6FEq"
      }
    },
    {
      "cell_type": "code",
      "source": [
        "def convert_sample(image):\n",
        "    image = tf.image.rgb_to_grayscale(image)\n",
        "    image = tf.image.resize(image,[32,32]).numpy()\n",
        "    image = image.reshape(1,-1)\n",
        "    return image"
      ],
      "metadata": {
        "id": "Wjgt4QFf6Gdu"
      },
      "execution_count": 4,
      "outputs": []
    },
    {
      "cell_type": "markdown",
      "source": [
        "**Create X, y and Xtest - the function convert_sample is used:**"
      ],
      "metadata": {
        "id": "Yn7GtsWJ6PI4"
      }
    },
    {
      "cell_type": "code",
      "source": [
        "X = np.load('/content/gdrive/My Drive/AML_data/Xtrain.npy')\n",
        "X = np.vstack(list(map(convert_sample,X)))\n",
        "X = StandardScaler(with_mean=0, with_std=1).fit_transform(X)\n",
        "print(f'Shape of training data features (observations,features): {X.shape}')\n",
        "\n",
        "y = np.load('/content/gdrive/My Drive/AML_data//ytrain.npy')\n",
        "y = y.reshape(-1,)\n",
        "print(f'Shape of training data labels (observations,): {y.shape}')\n",
        "\n",
        "Xtest = np.load('/content/gdrive/My Drive/AML_data//Xtest.npy')\n",
        "Xtest = np.vstack(list(map(convert_sample,Xtest)))\n",
        "Xtest = StandardScaler(with_mean=0, with_std=1).fit_transform(Xtest)\n",
        "print(f'Shape of test data features (observations,features): {Xtest.shape}')"
      ],
      "metadata": {
        "colab": {
          "base_uri": "https://localhost:8080/"
        },
        "id": "Ao53S8Dc6QIh",
        "outputId": "01e51621-a379-4435-f98b-e6465c9250ca"
      },
      "execution_count": 5,
      "outputs": [
        {
          "output_type": "stream",
          "name": "stderr",
          "text": [
            "/usr/local/lib/python3.10/dist-packages/sklearn/utils/_param_validation.py:558: FutureWarning: Passing an int for a boolean parameter is deprecated in version 1.2 and won't be supported anymore in version 1.4.\n",
            "  warnings.warn(\n"
          ]
        },
        {
          "output_type": "stream",
          "name": "stdout",
          "text": [
            "Shape of training data features (observations,features): (26214, 1024)\n",
            "Shape of training data labels (observations,): (26214,)\n",
            "Shape of test data features (observations,features): (1638, 1024)\n"
          ]
        },
        {
          "output_type": "stream",
          "name": "stderr",
          "text": [
            "/usr/local/lib/python3.10/dist-packages/sklearn/utils/_param_validation.py:558: FutureWarning: Passing an int for a boolean parameter is deprecated in version 1.2 and won't be supported anymore in version 1.4.\n",
            "  warnings.warn(\n"
          ]
        }
      ]
    },
    {
      "cell_type": "markdown",
      "source": [
        "**Compute the explained variance over the principal components:**"
      ],
      "metadata": {
        "id": "b4dbiQbQ_GKg"
      }
    },
    {
      "cell_type": "code",
      "source": [
        "pca = PCA()\n",
        "pca.fit(Xtest)\n",
        "cumulative_explained_variance = np.cumsum(pca.explained_variance_ratio_)\n",
        "\n",
        "plt.figure()\n",
        "plt.plot(cumulative_explained_variance)\n",
        "plt.xlabel('Number of Components')\n",
        "plt.ylabel('Cumulative Explained Variance')\n",
        "plt.title('Explained Variance vs. Number of Components')\n",
        "plt.show()"
      ],
      "metadata": {
        "colab": {
          "base_uri": "https://localhost:8080/",
          "height": 472
        },
        "id": "4QTUhObm2Mhn",
        "outputId": "acdc3b8a-f8eb-439d-eb99-a402f6f5e310"
      },
      "execution_count": 6,
      "outputs": [
        {
          "output_type": "display_data",
          "data": {
            "text/plain": [
              "<Figure size 640x480 with 1 Axes>"
            ],
            "image/png": "[encoded data removed]"
          },
          "metadata": {}
        }
      ]
    },
    {
      "cell_type": "markdown",
      "source": [
        "**We want to explain 95 pct. of the variance:**"
      ],
      "metadata": {
        "id": "su548XZg_cx0"
      }
    },
    {
      "cell_type": "code",
      "source": [
        "component_threshold = 0.95\n",
        "n_components = np.argmax(cumulative_explained_variance >= component_threshold) + 1\n",
        "\n",
        "print(n_components)"
      ],
      "metadata": {
        "colab": {
          "base_uri": "https://localhost:8080/"
        },
        "id": "Ul5xuj-02NAS",
        "outputId": "b0f6e9e4-6ff2-4ec8-e60c-4536f9f684c4"
      },
      "execution_count": 7,
      "outputs": [
        {
          "output_type": "stream",
          "name": "stdout",
          "text": [
            "575\n"
          ]
        }
      ]
    },
    {
      "cell_type": "markdown",
      "source": [
        "**Reduce the dimentions to the number of principal components that explain 0.95 pct. of the variance:**"
      ],
      "metadata": {
        "id": "MH8DTg6z_kLI"
      }
    },
    {
      "cell_type": "code",
      "source": [
        "pca = PCA(n_components=n_components)\n",
        "pca.fit(X)\n",
        "pca.fit(Xtest)\n",
        "\n",
        "X = pca.transform(X)\n",
        "Xtest = pca.transform(Xtest)"
      ],
      "metadata": {
        "id": "yn4sHn5S6G7G"
      },
      "execution_count": 8,
      "outputs": []
    },
    {
      "cell_type": "markdown",
      "source": [
        "**Split in train/val for hyperparameter search:**"
      ],
      "metadata": {
        "id": "8BbApHq1Bwb3"
      }
    },
    {
      "cell_type": "code",
      "source": [
        "X_reduced, _, y_reduced, _ = train_test_split(X, y, test_size=0.85, random_state=42)\n",
        "\n",
        "X_train_h, X_val_h, y_train_h, y_val_h = train_test_split(X_reduced, y_reduced, test_size=0.2, random_state=42)"
      ],
      "metadata": {
        "id": "quc0OKpcBrBK"
      },
      "execution_count": 9,
      "outputs": []
    },
    {
      "cell_type": "markdown",
      "source": [
        "**Create 9 ensambles:**"
      ],
      "metadata": {
        "id": "WRW1cNX4eucY"
      }
    },
    {
      "cell_type": "code",
      "source": [
        "num_ensembles = 9\n",
        "samples_per_ensemble = X.shape[0] // num_ensembles\n",
        "\n",
        "#np.random.seed(42)\n",
        "\n",
        "for i in range(1, 10):\n",
        "\n",
        "    indices = np.random.choice(X.shape[0], samples_per_ensemble, replace=False)\n",
        "\n",
        "    X_subset = X[indices]\n",
        "    y_subset = y[indices]\n",
        "\n",
        "    globals()[f'X_{i}'] = X_subset\n",
        "    globals()[f'y_{i}'] = y_subset\n",
        "\n",
        "    X = np.delete(X, indices, axis=0)\n",
        "    y = np.delete(y, indices, axis=0)"
      ],
      "metadata": {
        "id": "e-094zUH7LL2"
      },
      "execution_count": 10,
      "outputs": []
    },
    {
      "cell_type": "markdown",
      "source": [
        "**Print the shape of the ensambles:**"
      ],
      "metadata": {
        "id": "VHWiCCewgS7g"
      }
    },
    {
      "cell_type": "code",
      "source": [
        "for i in range(1,10):\n",
        "    X = globals()[f'X_{i}']\n",
        "    y = globals()[f'y_{i}']\n",
        "    print(X.shape)\n",
        "    print(y.shape)"
      ],
      "metadata": {
        "colab": {
          "base_uri": "https://localhost:8080/"
        },
        "id": "N4S4K-0ufqq6",
        "outputId": "8a34b31b-55b7-4e32-eae7-885f040ebad0"
      },
      "execution_count": 11,
      "outputs": [
        {
          "output_type": "stream",
          "name": "stdout",
          "text": [
            "(2912, 575)\n",
            "(2912,)\n",
            "(2912, 575)\n",
            "(2912,)\n",
            "(2912, 575)\n",
            "(2912,)\n",
            "(2912, 575)\n",
            "(2912,)\n",
            "(2912, 575)\n",
            "(2912,)\n",
            "(2912, 575)\n",
            "(2912,)\n",
            "(2912, 575)\n",
            "(2912,)\n",
            "(2912, 575)\n",
            "(2912,)\n",
            "(2912, 575)\n",
            "(2912,)\n"
          ]
        }
      ]
    },
    {
      "cell_type": "markdown",
      "source": [
        "**Hyperparameter search SVM:**"
      ],
      "metadata": {
        "id": "DDEGCNYxmKuj"
      }
    },
    {
      "cell_type": "code",
      "source": [
        "\n",
        "param_grid = ParameterGrid({\n",
        "    'C': [0.1, 0.25, 0.5, 0.75, 1, 10], })\n",
        "\n",
        "score_ = 0\n",
        "params_ = None\n",
        "for params in param_grid:\n",
        "  svm_rbf = svm.SVC(kernel='rbf', C=params['C'])\n",
        "  svm_rbf.fit(X_train_h, y_train_h)\n",
        "  y_val_hat_rbf = svm_rbf.predict(X_val_h)\n",
        "  accuracy_rbf = accuracy_score(y_val_hat_rbf, y_val_h)\n",
        "  if accuracy_rbf > score_:\n",
        "    score_ = accuracy_rbf\n",
        "    params_ = params\n"
      ],
      "metadata": {
        "id": "Oy7g58mWmJla"
      },
      "execution_count": null,
      "outputs": []
    },
    {
      "cell_type": "code",
      "source": [
        "print(f\"For SVM - using radial and the best hyperparameter C: {params_}, the accuracy of the model is: {accuracy_rbf}\")"
      ],
      "metadata": {
        "colab": {
          "base_uri": "https://localhost:8080/"
        },
        "id": "6DNfd9pLCHaw",
        "outputId": "d49db93d-868a-4393-c7bb-35844dabd979"
      },
      "execution_count": null,
      "outputs": [
        {
          "output_type": "stream",
          "name": "stdout",
          "text": [
            "For SVM - using radial and the best hyperparameter C: {'C': 0.75}, the accuracy of the model is: 0.6963151207115629\n"
          ]
        }
      ]
    },
    {
      "cell_type": "markdown",
      "source": [
        "**Hyperparameter search RF:**"
      ],
      "metadata": {
        "id": "Up36V6OU5dYa"
      }
    },
    {
      "cell_type": "code",
      "source": [
        "\n",
        "param_grid = ParameterGrid({\n",
        "    'n_estimators': [500, 1000],\n",
        "    'min_samples_split': [10, 20, 50],\n",
        "    'min_samples_leaf': [10, 20, 50],\n",
        "    'max_depth': [None, 300, 200],\n",
        "    'max_features': ['sqrt', 'log2']\n",
        "    })\n",
        "\n",
        "score_ = 0\n",
        "params_ = None\n",
        "for params in param_grid:\n",
        "  rf_current = ensemble.RandomForestClassifier(\n",
        "                n_estimators=params['n_estimators'],\n",
        "                min_samples_split=params['min_samples_split'],\n",
        "                min_samples_leaf=params['min_samples_leaf'],\n",
        "                max_depth=params['max_depth'],\n",
        "                max_features=params['max_features'],\n",
        "                )\n",
        "  rf_current.fit(X_train_h, y_train_h)\n",
        "  y_val_hat = rf_current.predict(X_val_h)\n",
        "  accuracy = accuracy_score(y_val_hat, y_val_h)\n",
        "  if accuracy > score_:\n",
        "    score_ = accuracy\n",
        "    params_ = params\n"
      ],
      "metadata": {
        "id": "LZrEyL5V5ik5"
      },
      "execution_count": null,
      "outputs": []
    },
    {
      "cell_type": "code",
      "source": [
        "print(f\"For RF the best hyperparameters are: {params_}, the accuracy of the model is: {accuracy}\")"
      ],
      "metadata": {
        "colab": {
          "base_uri": "https://localhost:8080/"
        },
        "id": "MS-KIBtDCKJ-",
        "outputId": "ad70d2e6-f561-4c60-9158-195440a85689"
      },
      "execution_count": null,
      "outputs": [
        {
          "output_type": "stream",
          "name": "stdout",
          "text": [
            "For RF the best hyperparameters are: {'max_depth': 300, 'max_features': 'sqrt', 'min_samples_leaf': 10, 'min_samples_split': 50, 'n_estimators': 500}, the accuracy of the model is: 0.627700127064803\n"
          ]
        }
      ]
    },
    {
      "cell_type": "markdown",
      "source": [
        "**Hyperparameter search GB:**"
      ],
      "metadata": {
        "id": "DoKjRoqUBGWg"
      }
    },
    {
      "cell_type": "code",
      "source": [
        "\n",
        "param_grid = ParameterGrid({\n",
        "    'n_estimators': [500, 1000],\n",
        "    'min_samples_split': [10, 20, 50],\n",
        "    'min_samples_leaf': [10, 20, 50],\n",
        "    'learning_rate': [0.01, 0.05, 0.1, 0.5, 0.75],\n",
        "    })\n",
        "\n",
        "score_ = 0\n",
        "params_ = None\n",
        "\n",
        "for params in param_grid:\n",
        "  gbt_current = ensemble.GradientBoostingClassifier(\n",
        "                n_estimators=params['n_estimators'],\n",
        "                min_samples_split=params['min_samples_split'],\n",
        "                min_samples_leaf=params['min_samples_leaf'],\n",
        "                learning_rate=params['learning_rate'],\n",
        "                )\n",
        "  gbt_current.fit(X_train_h, y_train_h)\n",
        "  y_val_hat = gbt_current.predict(X_val_h)\n",
        "  accuracy = accuracy_score(y_val_hat, y_val_h)\n",
        "  if accuracy > score_:\n",
        "    score_ = accuracy\n",
        "    params_ = params\n"
      ],
      "metadata": {
        "id": "Wo8-HI6Ms44z",
        "colab": {
          "base_uri": "https://localhost:8080/",
          "height": 403
        },
        "outputId": "1fa0cd4f-b172-43eb-8b3a-06ab168d1f6c"
      },
      "execution_count": null,
      "outputs": [
        {
          "output_type": "error",
          "ename": "KeyboardInterrupt",
          "evalue": "ignored",
          "traceback": [
            "\u001b[0;31m---------------------------------------------------------------------------\u001b[0m",
            "\u001b[0;31mKeyboardInterrupt\u001b[0m                         Traceback (most recent call last)",
            "\u001b[0;32m<ipython-input-77-fd8807fcdfc1>\u001b[0m in \u001b[0;36m<cell line: 11>\u001b[0;34m()\u001b[0m\n\u001b[1;32m     16\u001b[0m                 \u001b[0mlearning_rate\u001b[0m\u001b[0;34m=\u001b[0m\u001b[0mparams\u001b[0m\u001b[0;34m[\u001b[0m\u001b[0;34m'learning_rate'\u001b[0m\u001b[0;34m]\u001b[0m\u001b[0;34m,\u001b[0m\u001b[0;34m\u001b[0m\u001b[0;34m\u001b[0m\u001b[0m\n\u001b[1;32m     17\u001b[0m                 )\n\u001b[0;32m---> 18\u001b[0;31m   \u001b[0mgbt_current\u001b[0m\u001b[0;34m.\u001b[0m\u001b[0mfit\u001b[0m\u001b[0;34m(\u001b[0m\u001b[0mX_train_h\u001b[0m\u001b[0;34m,\u001b[0m \u001b[0my_train_h\u001b[0m\u001b[0;34m)\u001b[0m\u001b[0;34m\u001b[0m\u001b[0;34m\u001b[0m\u001b[0m\n\u001b[0m\u001b[1;32m     19\u001b[0m   \u001b[0my_val_hat\u001b[0m \u001b[0;34m=\u001b[0m \u001b[0mgbt_current\u001b[0m\u001b[0;34m.\u001b[0m\u001b[0mpredict\u001b[0m\u001b[0;34m(\u001b[0m\u001b[0mX_val_h\u001b[0m\u001b[0;34m)\u001b[0m\u001b[0;34m\u001b[0m\u001b[0;34m\u001b[0m\u001b[0m\n\u001b[1;32m     20\u001b[0m   \u001b[0maccuracy\u001b[0m \u001b[0;34m=\u001b[0m \u001b[0maccuracy_score\u001b[0m\u001b[0;34m(\u001b[0m\u001b[0my_val_hat\u001b[0m\u001b[0;34m,\u001b[0m \u001b[0my_val_h\u001b[0m\u001b[0;34m)\u001b[0m\u001b[0;34m\u001b[0m\u001b[0;34m\u001b[0m\u001b[0m\n",
            "\u001b[0;32m/usr/local/lib/python3.10/dist-packages/sklearn/ensemble/_gb.py\u001b[0m in \u001b[0;36mfit\u001b[0;34m(self, X, y, sample_weight, monitor)\u001b[0m\n\u001b[1;32m    536\u001b[0m \u001b[0;34m\u001b[0m\u001b[0m\n\u001b[1;32m    537\u001b[0m         \u001b[0;31m# fit the boosting stages\u001b[0m\u001b[0;34m\u001b[0m\u001b[0;34m\u001b[0m\u001b[0m\n\u001b[0;32m--> 538\u001b[0;31m         n_stages = self._fit_stages(\n\u001b[0m\u001b[1;32m    539\u001b[0m             \u001b[0mX\u001b[0m\u001b[0;34m,\u001b[0m\u001b[0;34m\u001b[0m\u001b[0;34m\u001b[0m\u001b[0m\n\u001b[1;32m    540\u001b[0m             \u001b[0my\u001b[0m\u001b[0;34m,\u001b[0m\u001b[0;34m\u001b[0m\u001b[0;34m\u001b[0m\u001b[0m\n",
            "\u001b[0;32m/usr/local/lib/python3.10/dist-packages/sklearn/ensemble/_gb.py\u001b[0m in \u001b[0;36m_fit_stages\u001b[0;34m(self, X, y, raw_predictions, sample_weight, random_state, X_val, y_val, sample_weight_val, begin_at_stage, monitor)\u001b[0m\n\u001b[1;32m    613\u001b[0m \u001b[0;34m\u001b[0m\u001b[0m\n\u001b[1;32m    614\u001b[0m             \u001b[0;31m# fit next stage of trees\u001b[0m\u001b[0;34m\u001b[0m\u001b[0;34m\u001b[0m\u001b[0m\n\u001b[0;32m--> 615\u001b[0;31m             raw_predictions = self._fit_stage(\n\u001b[0m\u001b[1;32m    616\u001b[0m                 \u001b[0mi\u001b[0m\u001b[0;34m,\u001b[0m\u001b[0;34m\u001b[0m\u001b[0;34m\u001b[0m\u001b[0m\n\u001b[1;32m    617\u001b[0m                 \u001b[0mX\u001b[0m\u001b[0;34m,\u001b[0m\u001b[0;34m\u001b[0m\u001b[0;34m\u001b[0m\u001b[0m\n",
            "\u001b[0;32m/usr/local/lib/python3.10/dist-packages/sklearn/ensemble/_gb.py\u001b[0m in \u001b[0;36m_fit_stage\u001b[0;34m(self, i, X, y, raw_predictions, sample_weight, sample_mask, random_state, X_csc, X_csr)\u001b[0m\n\u001b[1;32m    255\u001b[0m \u001b[0;34m\u001b[0m\u001b[0m\n\u001b[1;32m    256\u001b[0m             \u001b[0mX\u001b[0m \u001b[0;34m=\u001b[0m \u001b[0mX_csr\u001b[0m \u001b[0;32mif\u001b[0m \u001b[0mX_csr\u001b[0m \u001b[0;32mis\u001b[0m \u001b[0;32mnot\u001b[0m \u001b[0;32mNone\u001b[0m \u001b[0;32melse\u001b[0m \u001b[0mX\u001b[0m\u001b[0;34m\u001b[0m\u001b[0;34m\u001b[0m\u001b[0m\n\u001b[0;32m--> 257\u001b[0;31m             \u001b[0mtree\u001b[0m\u001b[0;34m.\u001b[0m\u001b[0mfit\u001b[0m\u001b[0;34m(\u001b[0m\u001b[0mX\u001b[0m\u001b[0;34m,\u001b[0m \u001b[0mresidual\u001b[0m\u001b[0;34m,\u001b[0m \u001b[0msample_weight\u001b[0m\u001b[0;34m=\u001b[0m\u001b[0msample_weight\u001b[0m\u001b[0;34m,\u001b[0m \u001b[0mcheck_input\u001b[0m\u001b[0;34m=\u001b[0m\u001b[0;32mFalse\u001b[0m\u001b[0;34m)\u001b[0m\u001b[0;34m\u001b[0m\u001b[0;34m\u001b[0m\u001b[0m\n\u001b[0m\u001b[1;32m    258\u001b[0m \u001b[0;34m\u001b[0m\u001b[0m\n\u001b[1;32m    259\u001b[0m             \u001b[0;31m# update tree leaves\u001b[0m\u001b[0;34m\u001b[0m\u001b[0;34m\u001b[0m\u001b[0m\n",
            "\u001b[0;32m/usr/local/lib/python3.10/dist-packages/sklearn/tree/_classes.py\u001b[0m in \u001b[0;36mfit\u001b[0;34m(self, X, y, sample_weight, check_input)\u001b[0m\n\u001b[1;32m   1245\u001b[0m         \"\"\"\n\u001b[1;32m   1246\u001b[0m \u001b[0;34m\u001b[0m\u001b[0m\n\u001b[0;32m-> 1247\u001b[0;31m         super().fit(\n\u001b[0m\u001b[1;32m   1248\u001b[0m             \u001b[0mX\u001b[0m\u001b[0;34m,\u001b[0m\u001b[0;34m\u001b[0m\u001b[0;34m\u001b[0m\u001b[0m\n\u001b[1;32m   1249\u001b[0m             \u001b[0my\u001b[0m\u001b[0;34m,\u001b[0m\u001b[0;34m\u001b[0m\u001b[0;34m\u001b[0m\u001b[0m\n",
            "\u001b[0;32m/usr/local/lib/python3.10/dist-packages/sklearn/tree/_classes.py\u001b[0m in \u001b[0;36mfit\u001b[0;34m(self, X, y, sample_weight, check_input)\u001b[0m\n\u001b[1;32m    377\u001b[0m             )\n\u001b[1;32m    378\u001b[0m \u001b[0;34m\u001b[0m\u001b[0m\n\u001b[0;32m--> 379\u001b[0;31m         \u001b[0mbuilder\u001b[0m\u001b[0;34m.\u001b[0m\u001b[0mbuild\u001b[0m\u001b[0;34m(\u001b[0m\u001b[0mself\u001b[0m\u001b[0;34m.\u001b[0m\u001b[0mtree_\u001b[0m\u001b[0;34m,\u001b[0m \u001b[0mX\u001b[0m\u001b[0;34m,\u001b[0m \u001b[0my\u001b[0m\u001b[0;34m,\u001b[0m \u001b[0msample_weight\u001b[0m\u001b[0;34m)\u001b[0m\u001b[0;34m\u001b[0m\u001b[0;34m\u001b[0m\u001b[0m\n\u001b[0m\u001b[1;32m    380\u001b[0m \u001b[0;34m\u001b[0m\u001b[0m\n\u001b[1;32m    381\u001b[0m         \u001b[0;32mif\u001b[0m \u001b[0mself\u001b[0m\u001b[0;34m.\u001b[0m\u001b[0mn_outputs_\u001b[0m \u001b[0;34m==\u001b[0m \u001b[0;36m1\u001b[0m \u001b[0;32mand\u001b[0m \u001b[0mis_classifier\u001b[0m\u001b[0;34m(\u001b[0m\u001b[0mself\u001b[0m\u001b[0;34m)\u001b[0m\u001b[0;34m:\u001b[0m\u001b[0;34m\u001b[0m\u001b[0;34m\u001b[0m\u001b[0m\n",
            "\u001b[0;31mKeyboardInterrupt\u001b[0m: "
          ]
        }
      ]
    },
    {
      "cell_type": "code",
      "source": [
        "print(f\"For GB the best hyperparameters are: {params_}, the accuracy of the model is: {accuracy}\")"
      ],
      "metadata": {
        "id": "UMtgfrMnEvk4"
      },
      "execution_count": null,
      "outputs": []
    },
    {
      "cell_type": "markdown",
      "source": [
        "**Initiate the models:**"
      ],
      "metadata": {
        "id": "65vKS4vCEXHf"
      }
    },
    {
      "cell_type": "code",
      "source": [
        "\n",
        "svm = svm.SVC(kernel='rbf', C=0.75)\n",
        "\n",
        "rf = ensemble.RandomForestClassifier(\n",
        "                n_estimators=500,\n",
        "                min_samples_split=50,\n",
        "                min_samples_leaf=10,\n",
        "                max_depth=300,\n",
        "                max_features='sqrt',\n",
        "                )\n",
        "\n",
        "gb = ensemble.GradientBoostingClassifier(\n",
        "                n_estimators=500,\n",
        "                min_samples_split=10,\n",
        "                min_samples_leaf=20,\n",
        "                learning_rate=0.05,\n",
        "                )\n",
        "\n",
        "models = [svm, rf, gb]\n"
      ],
      "metadata": {
        "id": "_6aAFWWPC5jz"
      },
      "execution_count": 12,
      "outputs": []
    },
    {
      "cell_type": "code",
      "source": [
        "\n",
        "df_ensemble = pd.DataFrame(columns=['df1', 'df2', 'df3', 'df4', 'df5', 'df6', 'df7', 'df8', 'df9'])\n",
        "\n",
        "for i in range(1, 10):\n",
        "\n",
        "  globals()[f'df{i}'] = pd.DataFrame(columns=['svm', 'rf', 'gb'])\n",
        "\n",
        "  X = globals()[f'X_{i}']\n",
        "  y = globals()[f'y_{i}']\n",
        "\n",
        "  current_df = globals()[f'df{i}']\n",
        "\n",
        "  column_index = 0\n",
        "\n",
        "  for model in models:\n",
        "    z = model.fit(X, y)\n",
        "    q = z.predict(Xtest)\n",
        "\n",
        "    column_name = current_df.columns[column_index]\n",
        "    current_df[column_name] = q\n",
        "    column_index += 1\n",
        "\n",
        "def calculate_majority(row):\n",
        "  counts = pd.Series(row).value_counts()\n",
        "  majority = counts.idxmax()\n",
        "  return majority\n",
        "\n",
        "column_index = 0\n",
        "\n",
        "for i in range(1, 10):\n",
        "\n",
        "  d = globals()[f'df{i}']\n",
        "  d['majority'] = d.apply(calculate_majority, axis=1)\n",
        "\n",
        "  df_ensemble.iloc[:, column_index] = d['majority']\n",
        "  column_index += 1\n",
        "\n",
        "df_ensemble['majority'] = df_ensemble.apply(calculate_majority, axis=1)"
      ],
      "metadata": {
        "colab": {
          "base_uri": "https://localhost:8080/"
        },
        "id": "EYmRAFZjFyHm",
        "outputId": "4618789b-8b9b-4005-fa01-af241dfbd214"
      },
      "execution_count": 13,
      "outputs": [
        {
          "output_type": "stream",
          "name": "stderr",
          "text": [
            "<ipython-input-13-b1b798457028>:34: DeprecationWarning: In a future version, `df.iloc[:, i] = newvals` will attempt to set the values inplace instead of always setting a new array. To retain the old behavior, use either `df[df.columns[i]] = newvals` or, if columns are non-unique, `df.isetitem(i, newvals)`\n",
            "  df_ensemble.iloc[:, column_index] = d['majority']\n",
            "<ipython-input-13-b1b798457028>:34: DeprecationWarning: In a future version, `df.iloc[:, i] = newvals` will attempt to set the values inplace instead of always setting a new array. To retain the old behavior, use either `df[df.columns[i]] = newvals` or, if columns are non-unique, `df.isetitem(i, newvals)`\n",
            "  df_ensemble.iloc[:, column_index] = d['majority']\n",
            "<ipython-input-13-b1b798457028>:34: DeprecationWarning: In a future version, `df.iloc[:, i] = newvals` will attempt to set the values inplace instead of always setting a new array. To retain the old behavior, use either `df[df.columns[i]] = newvals` or, if columns are non-unique, `df.isetitem(i, newvals)`\n",
            "  df_ensemble.iloc[:, column_index] = d['majority']\n",
            "<ipython-input-13-b1b798457028>:34: DeprecationWarning: In a future version, `df.iloc[:, i] = newvals` will attempt to set the values inplace instead of always setting a new array. To retain the old behavior, use either `df[df.columns[i]] = newvals` or, if columns are non-unique, `df.isetitem(i, newvals)`\n",
            "  df_ensemble.iloc[:, column_index] = d['majority']\n",
            "<ipython-input-13-b1b798457028>:34: DeprecationWarning: In a future version, `df.iloc[:, i] = newvals` will attempt to set the values inplace instead of always setting a new array. To retain the old behavior, use either `df[df.columns[i]] = newvals` or, if columns are non-unique, `df.isetitem(i, newvals)`\n",
            "  df_ensemble.iloc[:, column_index] = d['majority']\n",
            "<ipython-input-13-b1b798457028>:34: DeprecationWarning: In a future version, `df.iloc[:, i] = newvals` will attempt to set the values inplace instead of always setting a new array. To retain the old behavior, use either `df[df.columns[i]] = newvals` or, if columns are non-unique, `df.isetitem(i, newvals)`\n",
            "  df_ensemble.iloc[:, column_index] = d['majority']\n",
            "<ipython-input-13-b1b798457028>:34: DeprecationWarning: In a future version, `df.iloc[:, i] = newvals` will attempt to set the values inplace instead of always setting a new array. To retain the old behavior, use either `df[df.columns[i]] = newvals` or, if columns are non-unique, `df.isetitem(i, newvals)`\n",
            "  df_ensemble.iloc[:, column_index] = d['majority']\n",
            "<ipython-input-13-b1b798457028>:34: DeprecationWarning: In a future version, `df.iloc[:, i] = newvals` will attempt to set the values inplace instead of always setting a new array. To retain the old behavior, use either `df[df.columns[i]] = newvals` or, if columns are non-unique, `df.isetitem(i, newvals)`\n",
            "  df_ensemble.iloc[:, column_index] = d['majority']\n"
          ]
        }
      ]
    },
    {
      "cell_type": "markdown",
      "source": [
        "**Pred to CSV:**"
      ],
      "metadata": {
        "id": "RT4aLZQwwBSt"
      }
    },
    {
      "cell_type": "code",
      "source": [
        "\n",
        "df_ensemble = pd.DataFrame({\n",
        "    'Id': range(len(df_ensemble)),\n",
        "    'Predicted': df_ensemble['majority'].values,\n",
        "})\n",
        "\n",
        "path_on_drive = '/content/gdrive/MyDrive/pred.csv'\n",
        "df_ensemble.to_csv(path_on_drive, index=False)"
      ],
      "metadata": {
        "id": "XjeO2mZrwAgU"
      },
      "execution_count": 14,
      "outputs": []
    }
  ]
}