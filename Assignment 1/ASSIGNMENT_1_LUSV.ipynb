{
 "cells": [
  {
   "cell_type": "code",
   "execution_count": 26,
   "metadata": {},
   "outputs": [],
   "source": [
    "from sklearn import svm\n",
    "from sklearn.metrics import accuracy_score\n",
    "import numpy as np\n",
    "import tensorflow as tf\n",
    "from sklearn.preprocessing import StandardScaler\n",
    "from sklearn.model_selection import train_test_split, ParameterGrid\n",
    "import pandas as pd"
   ]
  },
  {
   "cell_type": "code",
   "execution_count": 27,
   "metadata": {},
   "outputs": [],
   "source": [
    "def convert_sample(image):\n",
    "    image = tf.image.rgb_to_grayscale(image)\n",
    "    image = tf.image.resize(image,[72,72]).numpy()\n",
    "    image = image.reshape(1,-1)\n",
    "    return image"
   ]
  },
  {
   "cell_type": "code",
   "execution_count": 28,
   "metadata": {},
   "outputs": [
    {
     "name": "stdout",
     "output_type": "stream",
     "text": [
      "(26214, 96, 96, 3)\n"
     ]
    },
    {
     "name": "stderr",
     "output_type": "stream",
     "text": [
      "c:\\ProgramData\\anaconda3\\envs\\amlfall23\\lib\\site-packages\\sklearn\\utils\\_param_validation.py:591: FutureWarning: Passing an int for a boolean parameter is deprecated in version 1.2 and won't be supported anymore in version 1.4.\n",
      "  warnings.warn(\n"
     ]
    },
    {
     "name": "stdout",
     "output_type": "stream",
     "text": [
      "Shape of training data features (observations,features): (26214, 5184)\n",
      "Shape of training data labels (observations,): (26214,)\n",
      "Shape of training data features (observations,features): (1638, 5184)\n"
     ]
    },
    {
     "name": "stderr",
     "output_type": "stream",
     "text": [
      "c:\\ProgramData\\anaconda3\\envs\\amlfall23\\lib\\site-packages\\sklearn\\utils\\_param_validation.py:591: FutureWarning: Passing an int for a boolean parameter is deprecated in version 1.2 and won't be supported anymore in version 1.4.\n",
      "  warnings.warn(\n"
     ]
    }
   ],
   "source": [
    "X = np.load('Xtrain.npy')\n",
    "print(X.shape)\n",
    "X = np.vstack(list(map(convert_sample,X)))\n",
    "X = StandardScaler(with_mean=0, with_std=1).fit_transform(X)\n",
    "print(f'Shape of training data features (observations,features): {X.shape}')\n",
    "\n",
    "y = np.load('ytrain.npy')\n",
    "y = y.reshape(-1,)    \n",
    "print(f'Shape of training data labels (observations,): {y.shape}')\n",
    "\n",
    "Xtest = np.load('Xtest.npy')\n",
    "Xtest = np.vstack(list(map(convert_sample,Xtest)))\n",
    "Xtest = StandardScaler(with_mean=0, with_std=1).fit_transform(Xtest)\n",
    "print(f'Shape of training data features (observations,features): {Xtest.shape}')"
   ]
  },
  {
   "cell_type": "code",
   "execution_count": 29,
   "metadata": {},
   "outputs": [],
   "source": [
    "X_train, X_val, y_train, y_val = train_test_split(X,\n",
    "                                                    y,\n",
    "                                                    test_size=0.2,\n",
    "                                                    random_state=42)"
   ]
  },
  {
   "cell_type": "code",
   "execution_count": 30,
   "metadata": {},
   "outputs": [],
   "source": [
    "subset_train = np.random.choice(X_train.shape[0], 5000, replace=False)\n",
    "subset_val = np.random.choice(X_val.shape[0], 2000, replace=False)\n",
    "\n",
    "X_train_sub = X_train[subset_train]\n",
    "y_train_sub = y_train[subset_train]\n",
    "\n",
    "X_val_sub = X_val[subset_val]\n",
    "y_val_sub = y_val[subset_val]\n"
   ]
  },
  {
   "cell_type": "code",
   "execution_count": 31,
   "metadata": {},
   "outputs": [
    {
     "name": "stdout",
     "output_type": "stream",
     "text": [
      "Training SVM with kernel = linear and C = 0.01...\n",
      "Training SVM with kernel = linear and C = 0.1...\n",
      "Training SVM with kernel = linear and C = 1.0...\n",
      "Training SVM with kernel = linear and C = 2.0...\n",
      "Training SVM with kernel = linear and C = 4.0...\n",
      "Training SVM with kernel = linear and C = 5.0...\n",
      "Training SVM with kernel = linear and C = 10.0...\n",
      "Training SVM with kernel = linear and C = 100.0...\n",
      "Training SVM with kernel = poly degree = 1 and C = 0.01...\n",
      "Training SVM with kernel = poly degree = 2 and C = 0.01...\n",
      "Training SVM with kernel = poly degree = 3 and C = 0.01...\n",
      "Training SVM with kernel = poly degree = 4 and C = 0.01...\n",
      "Training SVM with kernel = poly degree = 5 and C = 0.01...\n",
      "Training SVM with kernel = poly degree = 6 and C = 0.01...\n",
      "Training SVM with kernel = poly degree = 1 and C = 0.1...\n",
      "Training SVM with kernel = poly degree = 2 and C = 0.1...\n",
      "Training SVM with kernel = poly degree = 3 and C = 0.1...\n",
      "Training SVM with kernel = poly degree = 4 and C = 0.1...\n",
      "Training SVM with kernel = poly degree = 5 and C = 0.1...\n",
      "Training SVM with kernel = poly degree = 6 and C = 0.1...\n",
      "Training SVM with kernel = poly degree = 1 and C = 1.0...\n",
      "Training SVM with kernel = poly degree = 2 and C = 1.0...\n",
      "Training SVM with kernel = poly degree = 3 and C = 1.0...\n",
      "Training SVM with kernel = poly degree = 4 and C = 1.0...\n",
      "Training SVM with kernel = poly degree = 5 and C = 1.0...\n",
      "Training SVM with kernel = poly degree = 6 and C = 1.0...\n",
      "Training SVM with kernel = poly degree = 1 and C = 2.0...\n",
      "Training SVM with kernel = poly degree = 2 and C = 2.0...\n",
      "Training SVM with kernel = poly degree = 3 and C = 2.0...\n",
      "Training SVM with kernel = poly degree = 4 and C = 2.0...\n",
      "Training SVM with kernel = poly degree = 5 and C = 2.0...\n",
      "Training SVM with kernel = poly degree = 6 and C = 2.0...\n",
      "Training SVM with kernel = poly degree = 1 and C = 4.0...\n",
      "Training SVM with kernel = poly degree = 2 and C = 4.0...\n",
      "Training SVM with kernel = poly degree = 3 and C = 4.0...\n",
      "Training SVM with kernel = poly degree = 4 and C = 4.0...\n",
      "Training SVM with kernel = poly degree = 5 and C = 4.0...\n",
      "Training SVM with kernel = poly degree = 6 and C = 4.0...\n",
      "Training SVM with kernel = poly degree = 1 and C = 5.0...\n",
      "Training SVM with kernel = poly degree = 2 and C = 5.0...\n",
      "Training SVM with kernel = poly degree = 3 and C = 5.0...\n",
      "Training SVM with kernel = poly degree = 4 and C = 5.0...\n",
      "Training SVM with kernel = poly degree = 5 and C = 5.0...\n",
      "Training SVM with kernel = poly degree = 6 and C = 5.0...\n",
      "Training SVM with kernel = poly degree = 1 and C = 10.0...\n",
      "Training SVM with kernel = poly degree = 2 and C = 10.0...\n",
      "Training SVM with kernel = poly degree = 3 and C = 10.0...\n",
      "Training SVM with kernel = poly degree = 4 and C = 10.0...\n",
      "Training SVM with kernel = poly degree = 5 and C = 10.0...\n",
      "Training SVM with kernel = poly degree = 6 and C = 10.0...\n",
      "Training SVM with kernel = poly degree = 1 and C = 100.0...\n",
      "Training SVM with kernel = poly degree = 2 and C = 100.0...\n",
      "Training SVM with kernel = poly degree = 3 and C = 100.0...\n",
      "Training SVM with kernel = poly degree = 4 and C = 100.0...\n",
      "Training SVM with kernel = poly degree = 5 and C = 100.0...\n",
      "Training SVM with kernel = poly degree = 6 and C = 100.0...\n",
      "Training SVM with kernel = rbf and C = 0.01...\n",
      "Training SVM with kernel = rbf and C = 0.1...\n",
      "Training SVM with kernel = rbf and C = 1.0...\n",
      "Training SVM with kernel = rbf and C = 2.0...\n",
      "Training SVM with kernel = rbf and C = 4.0...\n",
      "Training SVM with kernel = rbf and C = 5.0...\n",
      "Training SVM with kernel = rbf and C = 10.0...\n",
      "Training SVM with kernel = rbf and C = 100.0...\n",
      "    Accuracy  Kernel       C   d\n",
      "0     0.5580  linear    0.01 NaN\n",
      "1     0.5570  linear    0.10 NaN\n",
      "2     0.5325  linear    1.00 NaN\n",
      "3     0.5250  linear    2.00 NaN\n",
      "4     0.5250  linear    4.00 NaN\n",
      "..       ...     ...     ...  ..\n",
      "59    0.7510     rbf    2.00 NaN\n",
      "60    0.7500     rbf    4.00 NaN\n",
      "61    0.7495     rbf    5.00 NaN\n",
      "62    0.7410     rbf   10.00 NaN\n",
      "63    0.7050     rbf  100.00 NaN\n",
      "\n",
      "[64 rows x 4 columns]\n"
     ]
    }
   ],
   "source": [
    "kernels = ['linear', 'poly', 'rbf'] \n",
    "Cs = [0.01, 0.1, 1.0, 2.0, 4.0, 5.0, 10.0, 100.0] \n",
    "Ds = [1,2,3,4,5,6]\n",
    "\n",
    "\n",
    "results = []\n",
    "\n",
    "for kernel in kernels:\n",
    "    if kernel == \"linear\" or kernel == \"rbf\":\n",
    "        for C in Cs:\n",
    "                print(f\"Training SVM with kernel = {kernel} and C = {C}...\")\n",
    "                svm_current = svm.SVC(kernel=kernel, C=C, gamma=\"scale\")\n",
    "                svm_current.fit(X_train_sub, y_train_sub)\n",
    "                y_val_hat = svm_current.predict(X_val_sub)\n",
    "                accuracy = accuracy_score(y_val_hat, y_val_sub)\n",
    "\n",
    "                results.append([accuracy, kernel, C])\n",
    "    elif kernel == \"poly\": \n",
    "         for C in Cs: \n",
    "              for d in Ds: \n",
    "                print(f\"Training SVM with kernel = {kernel} degree = {d} and C = {C}...\")\n",
    "                svm_current = svm.SVC(kernel=kernel, C=C, degree=d, gamma=\"scale\")\n",
    "                svm_current.fit(X_train_sub, y_train_sub)\n",
    "                y_val_hat = svm_current.predict(X_val_sub)\n",
    "                accuracy = accuracy_score(y_val_hat, y_val_sub)\n",
    "\n",
    "                results.append([accuracy, kernel, C, d])\n",
    "                   \n",
    "\n",
    "\n",
    "results = pd.DataFrame(results)\n",
    "results.columns = ['Accuracy', 'Kernel', 'C', \"d\"]\n",
    "print(results)"
   ]
  },
  {
   "cell_type": "code",
   "execution_count": 32,
   "metadata": {},
   "outputs": [
    {
     "data": {
      "text/html": [
       "<div>\n",
       "<style scoped>\n",
       "    .dataframe tbody tr th:only-of-type {\n",
       "        vertical-align: middle;\n",
       "    }\n",
       "\n",
       "    .dataframe tbody tr th {\n",
       "        vertical-align: top;\n",
       "    }\n",
       "\n",
       "    .dataframe thead th {\n",
       "        text-align: right;\n",
       "    }\n",
       "</style>\n",
       "<table border=\"1\" class=\"dataframe\">\n",
       "  <thead>\n",
       "    <tr style=\"text-align: right;\">\n",
       "      <th></th>\n",
       "      <th>Accuracy</th>\n",
       "      <th>Kernel</th>\n",
       "      <th>C</th>\n",
       "      <th>d</th>\n",
       "    </tr>\n",
       "  </thead>\n",
       "  <tbody>\n",
       "    <tr>\n",
       "      <th>58</th>\n",
       "      <td>0.7655</td>\n",
       "      <td>rbf</td>\n",
       "      <td>1.0</td>\n",
       "      <td>NaN</td>\n",
       "    </tr>\n",
       "  </tbody>\n",
       "</table>\n",
       "</div>"
      ],
      "text/plain": [
       "    Accuracy Kernel    C   d\n",
       "58    0.7655    rbf  1.0 NaN"
      ]
     },
     "execution_count": 32,
     "metadata": {},
     "output_type": "execute_result"
    }
   ],
   "source": [
    "results[results['Accuracy'] == results['Accuracy'].max()]"
   ]
  },
  {
   "cell_type": "code",
   "execution_count": 34,
   "metadata": {},
   "outputs": [
    {
     "data": {
      "text/html": [
       "<style>#sk-container-id-1 {color: black;}#sk-container-id-1 pre{padding: 0;}#sk-container-id-1 div.sk-toggleable {background-color: white;}#sk-container-id-1 label.sk-toggleable__label {cursor: pointer;display: block;width: 100%;margin-bottom: 0;padding: 0.3em;box-sizing: border-box;text-align: center;}#sk-container-id-1 label.sk-toggleable__label-arrow:before {content: \"▸\";float: left;margin-right: 0.25em;color: #696969;}#sk-container-id-1 label.sk-toggleable__label-arrow:hover:before {color: black;}#sk-container-id-1 div.sk-estimator:hover label.sk-toggleable__label-arrow:before {color: black;}#sk-container-id-1 div.sk-toggleable__content {max-height: 0;max-width: 0;overflow: hidden;text-align: left;background-color: #f0f8ff;}#sk-container-id-1 div.sk-toggleable__content pre {margin: 0.2em;color: black;border-radius: 0.25em;background-color: #f0f8ff;}#sk-container-id-1 input.sk-toggleable__control:checked~div.sk-toggleable__content {max-height: 200px;max-width: 100%;overflow: auto;}#sk-container-id-1 input.sk-toggleable__control:checked~label.sk-toggleable__label-arrow:before {content: \"▾\";}#sk-container-id-1 div.sk-estimator input.sk-toggleable__control:checked~label.sk-toggleable__label {background-color: #d4ebff;}#sk-container-id-1 div.sk-label input.sk-toggleable__control:checked~label.sk-toggleable__label {background-color: #d4ebff;}#sk-container-id-1 input.sk-hidden--visually {border: 0;clip: rect(1px 1px 1px 1px);clip: rect(1px, 1px, 1px, 1px);height: 1px;margin: -1px;overflow: hidden;padding: 0;position: absolute;width: 1px;}#sk-container-id-1 div.sk-estimator {font-family: monospace;background-color: #f0f8ff;border: 1px dotted black;border-radius: 0.25em;box-sizing: border-box;margin-bottom: 0.5em;}#sk-container-id-1 div.sk-estimator:hover {background-color: #d4ebff;}#sk-container-id-1 div.sk-parallel-item::after {content: \"\";width: 100%;border-bottom: 1px solid gray;flex-grow: 1;}#sk-container-id-1 div.sk-label:hover label.sk-toggleable__label {background-color: #d4ebff;}#sk-container-id-1 div.sk-serial::before {content: \"\";position: absolute;border-left: 1px solid gray;box-sizing: border-box;top: 0;bottom: 0;left: 50%;z-index: 0;}#sk-container-id-1 div.sk-serial {display: flex;flex-direction: column;align-items: center;background-color: white;padding-right: 0.2em;padding-left: 0.2em;position: relative;}#sk-container-id-1 div.sk-item {position: relative;z-index: 1;}#sk-container-id-1 div.sk-parallel {display: flex;align-items: stretch;justify-content: center;background-color: white;position: relative;}#sk-container-id-1 div.sk-item::before, #sk-container-id-1 div.sk-parallel-item::before {content: \"\";position: absolute;border-left: 1px solid gray;box-sizing: border-box;top: 0;bottom: 0;left: 50%;z-index: -1;}#sk-container-id-1 div.sk-parallel-item {display: flex;flex-direction: column;z-index: 1;position: relative;background-color: white;}#sk-container-id-1 div.sk-parallel-item:first-child::after {align-self: flex-end;width: 50%;}#sk-container-id-1 div.sk-parallel-item:last-child::after {align-self: flex-start;width: 50%;}#sk-container-id-1 div.sk-parallel-item:only-child::after {width: 0;}#sk-container-id-1 div.sk-dashed-wrapped {border: 1px dashed gray;margin: 0 0.4em 0.5em 0.4em;box-sizing: border-box;padding-bottom: 0.4em;background-color: white;}#sk-container-id-1 div.sk-label label {font-family: monospace;font-weight: bold;display: inline-block;line-height: 1.2em;}#sk-container-id-1 div.sk-label-container {text-align: center;}#sk-container-id-1 div.sk-container {/* jupyter's `normalize.less` sets `[hidden] { display: none; }` but bootstrap.min.css set `[hidden] { display: none !important; }` so we also need the `!important` here to be able to override the default hidden behavior on the sphinx rendered scikit-learn.org. See: https://github.com/scikit-learn/scikit-learn/issues/21755 */display: inline-block !important;position: relative;}#sk-container-id-1 div.sk-text-repr-fallback {display: none;}</style><div id=\"sk-container-id-1\" class=\"sk-top-container\"><div class=\"sk-text-repr-fallback\"><pre>SVC()</pre><b>In a Jupyter environment, please rerun this cell to show the HTML representation or trust the notebook. <br />On GitHub, the HTML representation is unable to render, please try loading this page with nbviewer.org.</b></div><div class=\"sk-container\" hidden><div class=\"sk-item\"><div class=\"sk-estimator sk-toggleable\"><input class=\"sk-toggleable__control sk-hidden--visually\" id=\"sk-estimator-id-1\" type=\"checkbox\" checked><label for=\"sk-estimator-id-1\" class=\"sk-toggleable__label sk-toggleable__label-arrow\">SVC</label><div class=\"sk-toggleable__content\"><pre>SVC()</pre></div></div></div></div></div>"
      ],
      "text/plain": [
       "SVC()"
      ]
     },
     "execution_count": 34,
     "metadata": {},
     "output_type": "execute_result"
    }
   ],
   "source": [
    "svm_best = svm.SVC(kernel='rbf', C = 1.0)\n",
    "\n",
    "# Use both training and validation data to fit it (np.concatenate \"stacks\" the array like rbind in R)\n",
    "svm_best.fit(np.concatenate([X_train, X_val]), np.concatenate([y_train, y_val]))\n",
    "\n"
   ]
  },
  {
   "cell_type": "code",
   "execution_count": 35,
   "metadata": {},
   "outputs": [],
   "source": [
    "# Predict on test data\n",
    "ytest_hat = svm_best.predict(Xtest)\n",
    "\n"
   ]
  },
  {
   "cell_type": "code",
   "execution_count": 36,
   "metadata": {},
   "outputs": [],
   "source": [
    "ytest_hat= pd.DataFrame({\n",
    "    'Id': list(range(len(ytest_hat))),\n",
    "    'Predicted': ytest_hat.reshape(-1,),\n",
    "})\n",
    "ytest_hat.to_csv(\"ytest_hat.csv\", index=False)"
   ]
  },
  {
   "cell_type": "code",
   "execution_count": null,
   "metadata": {},
   "outputs": [
    {
     "name": "stdout",
     "output_type": "stream",
     "text": [
      "        Id  Predicted\n",
      "0        0          0\n",
      "1        1          1\n",
      "2        2          0\n",
      "3        3          0\n",
      "4        4          0\n",
      "...    ...        ...\n",
      "1633  1633          0\n",
      "1634  1634          1\n",
      "1635  1635          1\n",
      "1636  1636          0\n",
      "1637  1637          1\n",
      "\n",
      "[1638 rows x 2 columns]\n"
     ]
    }
   ],
   "source": [
    "print(ytest_hat)"
   ]
  }
 ],
 "metadata": {
  "kernelspec": {
   "display_name": "amlfall23",
   "language": "python",
   "name": "python3"
  },
  "language_info": {
   "codemirror_mode": {
    "name": "ipython",
    "version": 3
   },
   "file_extension": ".py",
   "mimetype": "text/x-python",
   "name": "python",
   "nbconvert_exporter": "python",
   "pygments_lexer": "ipython3",
   "version": "3.10.12"
  }
 },
 "nbformat": 4,
 "nbformat_minor": 2
}
