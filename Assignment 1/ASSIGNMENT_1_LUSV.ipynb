{
 "cells": [
  {
   "cell_type": "code",
   "execution_count": 3,
   "metadata": {},
   "outputs": [],
   "source": [
    "from sklearn import svm\n",
    "from sklearn.metrics import accuracy_score\n",
    "import numpy as np\n",
    "import tensorflow as tf\n",
    "from sklearn.preprocessing import StandardScaler\n",
    "from sklearn.model_selection import train_test_split, ParameterGrid\n",
    "import pandas as pd\n",
    "from sklearn import ensemble"
   ]
  },
  {
   "cell_type": "code",
   "execution_count": 4,
   "metadata": {},
   "outputs": [],
   "source": [
    "def convert_sample(image):\n",
    "    image = tf.image.rgb_to_grayscale(image)\n",
    "    image = tf.image.resize(image,[72,72]).numpy()\n",
    "    image = image.reshape(1,-1)\n",
    "    return image"
   ]
  },
  {
   "cell_type": "code",
   "execution_count": 5,
   "metadata": {},
   "outputs": [
    {
     "name": "stdout",
     "output_type": "stream",
     "text": [
      "(26214, 96, 96, 3)\n"
     ]
    },
    {
     "name": "stderr",
     "output_type": "stream",
     "text": [
      "c:\\ProgramData\\anaconda3\\envs\\amlfall23\\lib\\site-packages\\sklearn\\utils\\_param_validation.py:591: FutureWarning: Passing an int for a boolean parameter is deprecated in version 1.2 and won't be supported anymore in version 1.4.\n",
      "  warnings.warn(\n"
     ]
    },
    {
     "name": "stdout",
     "output_type": "stream",
     "text": [
      "Shape of training data features (observations,features): (26214, 5184)\n",
      "Shape of training data labels (observations,): (26214,)\n",
      "Shape of training data features (observations,features): (1638, 5184)\n"
     ]
    },
    {
     "name": "stderr",
     "output_type": "stream",
     "text": [
      "c:\\ProgramData\\anaconda3\\envs\\amlfall23\\lib\\site-packages\\sklearn\\utils\\_param_validation.py:591: FutureWarning: Passing an int for a boolean parameter is deprecated in version 1.2 and won't be supported anymore in version 1.4.\n",
      "  warnings.warn(\n"
     ]
    }
   ],
   "source": [
    "X = np.load('Xtrain.npy')\n",
    "print(X.shape)\n",
    "X = np.vstack(list(map(convert_sample,X)))\n",
    "X = StandardScaler(with_mean=0, with_std=1).fit_transform(X)\n",
    "print(f'Shape of training data features (observations,features): {X.shape}')\n",
    "\n",
    "y = np.load('ytrain.npy')\n",
    "y = y.reshape(-1,)    \n",
    "print(f'Shape of training data labels (observations,): {y.shape}')\n",
    "\n",
    "Xtest = np.load('Xtest.npy')\n",
    "Xtest = np.vstack(list(map(convert_sample,Xtest)))\n",
    "Xtest = StandardScaler(with_mean=0, with_std=1).fit_transform(Xtest)\n",
    "print(f'Shape of training data features (observations,features): {Xtest.shape}')"
   ]
  },
  {
   "cell_type": "code",
   "execution_count": 6,
   "metadata": {},
   "outputs": [],
   "source": [
    "X_train, X_val, y_train, y_val = train_test_split(X,\n",
    "                                                    y,\n",
    "                                                    test_size=0.2,\n",
    "                                                    random_state=42)"
   ]
  },
  {
   "cell_type": "code",
   "execution_count": 7,
   "metadata": {},
   "outputs": [],
   "source": [
    "subset_train = np.random.choice(X_train.shape[0], 1000, replace=False)\n",
    "subset_val = np.random.choice(X_val.shape[0], 500, replace=False)\n",
    "\n",
    "X_train_sub = X_train[subset_train]\n",
    "y_train_sub = y_train[subset_train]\n",
    "\n",
    "X_val_sub = X_val[subset_val]\n",
    "y_val_sub = y_val[subset_val]\n"
   ]
  },
  {
   "cell_type": "code",
   "execution_count": 8,
   "metadata": {},
   "outputs": [],
   "source": [
    "# kernels = ['linear', 'poly', 'rbf'] \n",
    "# Cs = [0.1, 1.0, 2.5, 5.0, 10.0, 100.0] \n",
    "# Ds = [1,2,3,4,5,6]\n",
    "# gamma = [0.1, 1, 10]\n",
    "\n",
    "\n",
    "# results_svm = []\n",
    "\n",
    "# for kernel in kernels:\n",
    "#     if kernel == \"linear\":\n",
    "#         for C in Cs:\n",
    "#                 print(f\"Training SVM with kernel = {kernel} and C = {C}...\")\n",
    "#                 svm_current = svm.SVC(kernel=kernel, C=C, gamma=\"scale\")\n",
    "#                 svm_current.fit(X_train_sub, y_train_sub)\n",
    "#                 y_val_hat = svm_current.predict(X_val_sub)\n",
    "#                 accuracy = accuracy_score(y_val_hat, y_val_sub)\n",
    "\n",
    "#                 results_svm.append([accuracy, kernel, C])\n",
    "\n",
    "#     elif kernel == \"rbf\": \n",
    "#         for C in Cs:\n",
    "#             for g in gamma: \n",
    "#                 print(f\"Training SVM with kernel = {kernel}, gamma = {g} and C = {C}...\")\n",
    "#                 svm_current = svm.SVC(kernel=kernel, C=C, gamma=g)\n",
    "#                 svm_current.fit(X_train_sub, y_train_sub)\n",
    "#                 y_val_hat = svm_current.predict(X_val_sub)\n",
    "#                 accuracy = accuracy_score(y_val_hat, y_val_sub)\n",
    "\n",
    "#                 results_svm.append([accuracy, kernel, C, g])\n",
    "\n",
    "\n",
    "#     elif kernel == \"poly\": \n",
    "#          for C in Cs: \n",
    "#               for d in Ds: \n",
    "#                 for g in gamma: \n",
    "#                     print(f\"Training SVM with kernel = {kernel} degree = {d}, gamma = {g} and C = {C}...\")\n",
    "#                     svm_current = svm.SVC(kernel=kernel, C=C, degree=d, gamma=g)\n",
    "#                     svm_current.fit(X_train_sub, y_train_sub)\n",
    "#                     y_val_hat = svm_current.predict(X_val_sub)\n",
    "#                     accuracy = accuracy_score(y_val_hat, y_val_sub)\n",
    "\n",
    "#                     results_svm.append([accuracy, kernel, C, d, g])\n",
    "                    \n",
    "\n",
    "\n",
    "# results_svm = pd.DataFrame(results_svm)\n",
    "# results_svm.columns = ['Accuracy', 'Kernel', 'C', \"d\", \"g\"]\n",
    "# print(results_svm)"
   ]
  },
  {
   "cell_type": "code",
   "execution_count": 9,
   "metadata": {},
   "outputs": [],
   "source": [
    "# results[results['Accuracy'] == results['Accuracy'].max()]"
   ]
  },
  {
   "cell_type": "code",
   "execution_count": 10,
   "metadata": {},
   "outputs": [],
   "source": [
    "# svm_best = svm.SVC(kernel='rbf', C = 1.0)\n",
    "\n",
    "# # Use both training and validation data to fit it (np.concatenate \"stacks\" the array like rbind in R)\n",
    "# svm_best.fit(np.concatenate([X_train, X_val]), np.concatenate([y_train, y_val]))\n",
    "\n"
   ]
  },
  {
   "cell_type": "code",
   "execution_count": 11,
   "metadata": {},
   "outputs": [],
   "source": [
    "# Predict on test data\n",
    "# ytest_hat = svm_best.predict(Xtest)\n",
    "\n"
   ]
  },
  {
   "cell_type": "code",
   "execution_count": 12,
   "metadata": {},
   "outputs": [],
   "source": [
    "# ytest_hat= pd.DataFrame({\n",
    "#     'Id': list(range(len(ytest_hat))),\n",
    "#     'Predicted': ytest_hat.reshape(-1,),\n",
    "# })\n",
    "# ytest_hat.to_csv(\"ytest_hat.csv\", index=False)"
   ]
  },
  {
   "cell_type": "code",
   "execution_count": 13,
   "metadata": {},
   "outputs": [],
   "source": [
    "# max_depth = [None, 2, 10, 20]\n",
    "# n_estimators_list = [50, 100, 300]\n",
    "# min_samples_split_list = [3, 5, 15, 33]\n",
    "# min_samples_leaf_list = [3, 5, 15, 33]\n",
    "\n",
    "# results_rf = []\n",
    "# for d in max_depth:\n",
    "#     for n_estimators in n_estimators_list:\n",
    "#         for min_samples_split in min_samples_split_list:\n",
    "#             for min_samples_leaf in min_samples_leaf_list:\n",
    "#                 print(f\"Training for n_estimators={n_estimators}, min_samples_split={min_samples_split}, min_samples_leaf={min_samples_leaf}, max_depth={d}\")\n",
    "\n",
    "#                 rf_current = ensemble.RandomForestClassifier(\n",
    "#                     max_depth = d,\n",
    "#                     n_estimators=n_estimators,\n",
    "#                     min_samples_split=min_samples_split,\n",
    "#                     min_samples_leaf=min_samples_leaf,\n",
    "#                     )\n",
    "#                 rf_current.fit(X_train_sub, y_train_sub)\n",
    "#                 y_val_hat = rf_current.predict(X_val_sub)\n",
    "#                 accuracy_rf = accuracy_score(y_val_sub, y_val_hat)\n",
    "\n",
    "#                 results_rf.append([accuracy_rf, n_estimators, min_samples_split, min_samples_leaf, d])\n",
    "\n",
    "# results_rf = pd.DataFrame(results_rf)\n",
    "# results_rf.columns = ['accuracy_rf', 'n_estimators', 'min_samples_split', 'min_samples_leaf', 'max_depth']\n",
    "# print(results_rf)\n",
    "# results_rf[results_rf['accuracy_rf'] == results_rf['accuracy_rf'].max()]"
   ]
  },
  {
   "cell_type": "code",
   "execution_count": 14,
   "metadata": {},
   "outputs": [],
   "source": [
    "# from sklearn import ensemble\n",
    "\n",
    "# n_estimators_list = [100, 500, 1000, 1500]\n",
    "# min_samples_split_list = [2, 10, 30]\n",
    "# min_samples_leaf_list = [2, 10, 30]\n",
    "# learning_rate_list = [0.01, 0.10, 0.50]\n",
    "\n",
    "# results_gb = []\n",
    "\n",
    "# for n_estimators in n_estimators_list:\n",
    "#     for min_samples_split in min_samples_split_list:\n",
    "#         for min_samples_leaf in min_samples_leaf_list:\n",
    "#             for learning_rate in learning_rate_list:\n",
    "#                 print(f\"Training with n_estimators={n_estimators}, min_samples_split={min_samples_split}, min_samples_leaf={min_samples_leaf}, learning_rate={learning_rate}...\")\n",
    "\n",
    "#                 gbt_current = ensemble.GradientBoostingClassifier(n_estimators=n_estimators, min_samples_split=min_samples_split, min_samples_leaf=min_samples_leaf, learning_rate=learning_rate)\n",
    "#                 gbt_current.fit(X_train_sub, y_train_sub)\n",
    "#                 y_val_hat = gbt_current.predict(X_val_sub)\n",
    "#                 acc = accuracy_score(y_val_sub, y_val_hat)\n",
    "\n",
    "#                 results_gb.append([acc, n_estimators, min_samples_split, min_samples_leaf, learning_rate])\n",
    "\n",
    "# results_gb = pd.DataFrame(results_gb)\n",
    "# results_gb.columns = ['Accuracy_gb', 'n_estimators', 'min_samples_split', 'min_samples_leaf', 'learning_rate']\n",
    "# results_gb[results_gb['Accuracy_gb'] == results_gb['Accuracy_gb'].max()]"
   ]
  },
  {
   "cell_type": "code",
   "execution_count": 15,
   "metadata": {},
   "outputs": [
    {
     "name": "stdout",
     "output_type": "stream",
     "text": [
      "Fitting 3 folds for each of 15 candidates, totalling 45 fits\n",
      "Best parameters found:  {'n_estimators': 1500, 'min_samples_split': 2, 'min_samples_leaf': 30, 'max_depth': 5, 'learning_rate': 0.01}\n",
      "Highest accuracy found:  0.7440104775434117\n"
     ]
    }
   ],
   "source": [
    "from sklearn.model_selection import RandomizedSearchCV\n",
    "from sklearn.ensemble import GradientBoostingClassifier\n",
    "\n",
    "param_dist = {\n",
    "    'n_estimators': [100, 500, 1000, 1500, 3000],\n",
    "    'min_samples_split': [2, 10, 30],\n",
    "    'min_samples_leaf': [2, 10, 30],\n",
    "    'learning_rate': [0.01, 0.10, 0.50],\n",
    "    'max_depth': [2, 3, 5, 15]\n",
    "}\n",
    "\n",
    "gbt = GradientBoostingClassifier()\n",
    "\n",
    "# Use 3-fold cross-validation and run 20 iterations of randomized search\n",
    "random_search = RandomizedSearchCV(gbt, param_distributions=param_dist, n_iter=15, scoring='accuracy', cv=3, n_jobs=-1, verbose=1)\n",
    "\n",
    "random_search.fit(X_train_sub, y_train_sub)\n",
    "\n",
    "print(\"Best parameters found: \", random_search.best_params_)\n",
    "print(\"Highest accuracy found: \", random_search.best_score_)\n"
   ]
  }
 ],
 "metadata": {
  "kernelspec": {
   "display_name": "amlfall23",
   "language": "python",
   "name": "python3"
  },
  "language_info": {
   "codemirror_mode": {
    "name": "ipython",
    "version": 3
   },
   "file_extension": ".py",
   "mimetype": "text/x-python",
   "name": "python",
   "nbconvert_exporter": "python",
   "pygments_lexer": "ipython3",
   "version": "3.10.12"
  }
 },
 "nbformat": 4,
 "nbformat_minor": 2
}
