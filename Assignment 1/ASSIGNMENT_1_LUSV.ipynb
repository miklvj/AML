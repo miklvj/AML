{
 "cells": [
  {
   "cell_type": "code",
   "execution_count": 1,
   "metadata": {},
   "outputs": [],
   "source": [
    "from sklearn import svm\n",
    "from sklearn.metrics import accuracy_score\n",
    "import numpy as np\n",
    "import tensorflow as tf\n",
    "from sklearn.preprocessing import StandardScaler\n",
    "from sklearn.model_selection import train_test_split, ParameterGrid\n",
    "import pandas as pd\n",
    "from sklearn import ensemble\n",
    "from sklearn.model_selection import RandomizedSearchCV\n",
    "from sklearn.ensemble import GradientBoostingClassifier"
   ]
  },
  {
   "cell_type": "code",
   "execution_count": 2,
   "metadata": {},
   "outputs": [],
   "source": [
    "def convert_sample(image):\n",
    "    image = tf.image.rgb_to_grayscale(image)\n",
    "    image = tf.image.resize(image,[72,72]).numpy()\n",
    "    image = image.reshape(1,-1)\n",
    "    return image"
   ]
  },
  {
   "cell_type": "code",
   "execution_count": 3,
   "metadata": {},
   "outputs": [
    {
     "name": "stdout",
     "output_type": "stream",
     "text": [
      "(26214, 96, 96, 3)\n"
     ]
    },
    {
     "name": "stderr",
     "output_type": "stream",
     "text": [
      "c:\\ProgramData\\anaconda3\\envs\\amlfall23\\lib\\site-packages\\sklearn\\utils\\_param_validation.py:591: FutureWarning: Passing an int for a boolean parameter is deprecated in version 1.2 and won't be supported anymore in version 1.4.\n",
      "  warnings.warn(\n"
     ]
    },
    {
     "name": "stdout",
     "output_type": "stream",
     "text": [
      "Shape of training data features (observations,features): (26214, 5184)\n",
      "Shape of training data labels (observations,): (26214,)\n",
      "Shape of training data features (observations,features): (1638, 5184)\n"
     ]
    },
    {
     "name": "stderr",
     "output_type": "stream",
     "text": [
      "c:\\ProgramData\\anaconda3\\envs\\amlfall23\\lib\\site-packages\\sklearn\\utils\\_param_validation.py:591: FutureWarning: Passing an int for a boolean parameter is deprecated in version 1.2 and won't be supported anymore in version 1.4.\n",
      "  warnings.warn(\n"
     ]
    }
   ],
   "source": [
    "X = np.load('Xtrain.npy')\n",
    "print(X.shape)\n",
    "X = np.vstack(list(map(convert_sample,X)))\n",
    "X = StandardScaler(with_mean=0, with_std=1).fit_transform(X)\n",
    "print(f'Shape of training data features (observations,features): {X.shape}')\n",
    "\n",
    "y = np.load('ytrain.npy')\n",
    "y = y.reshape(-1,)    \n",
    "print(f'Shape of training data labels (observations,): {y.shape}')\n",
    "\n",
    "Xtest = np.load('Xtest.npy')\n",
    "Xtest = np.vstack(list(map(convert_sample,Xtest)))\n",
    "Xtest = StandardScaler(with_mean=0, with_std=1).fit_transform(Xtest)\n",
    "print(f'Shape of training data features (observations,features): {Xtest.shape}')"
   ]
  },
  {
   "cell_type": "code",
   "execution_count": 4,
   "metadata": {},
   "outputs": [],
   "source": [
    "X_train, X_val, y_train, y_val = train_test_split(X,\n",
    "                                                    y,\n",
    "                                                    test_size=0.2,\n",
    "                                                    random_state=42)"
   ]
  },
  {
   "cell_type": "code",
   "execution_count": 5,
   "metadata": {},
   "outputs": [],
   "source": [
    "subset_train = np.random.choice(X_train.shape[0], 1000, replace=False)\n",
    "subset_val = np.random.choice(X_val.shape[0], 500, replace=False)\n",
    "\n",
    "X_train_sub = X_train[subset_train]\n",
    "y_train_sub = y_train[subset_train]\n",
    "\n",
    "X_val_sub = X_val[subset_val]\n",
    "y_val_sub = y_val[subset_val]\n",
    "\n",
    "subset_trains = np.random.choice(X_train.shape[0], 2000, replace=False)\n",
    "subset_vals = np.random.choice(X_val.shape[0], 1000, replace=False)\n",
    "\n",
    "X_train_subs = X_train[subset_trains]\n",
    "y_train_subs = y_train[subset_trains]\n",
    "\n",
    "X_val_subs = X_val[subset_vals]\n",
    "y_val_subs = y_val[subset_vals]"
   ]
  },
  {
   "cell_type": "code",
   "execution_count": 6,
   "metadata": {},
   "outputs": [],
   "source": [
    "# kernels = ['linear', 'poly', 'rbf'] \n",
    "# Cs = [0.1, 1.0, 2.5, 5.0, 10.0, 100.0] \n",
    "# Ds = [1,2,3,4,5,6]\n",
    "# gamma = [0.1, 1, 10]\n",
    "\n",
    "\n",
    "# results_svm = []\n",
    "\n",
    "# for kernel in kernels:\n",
    "#     if kernel == \"linear\":\n",
    "#         for C in Cs:\n",
    "#                 print(f\"Training SVM with kernel = {kernel} and C = {C}...\")\n",
    "#                 svm_current = svm.SVC(kernel=kernel, C=C, gamma=\"scale\")\n",
    "#                 svm_current.fit(X_train_sub, y_train_sub)\n",
    "#                 y_val_hat = svm_current.predict(X_val_sub)\n",
    "#                 accuracy = accuracy_score(y_val_hat, y_val_sub)\n",
    "\n",
    "#                 results_svm.append([accuracy, kernel, C])\n",
    "\n",
    "#     elif kernel == \"rbf\": \n",
    "#         for C in Cs:\n",
    "#             for g in gamma: \n",
    "#                 print(f\"Training SVM with kernel = {kernel}, gamma = {g} and C = {C}...\")\n",
    "#                 svm_current = svm.SVC(kernel=kernel, C=C, gamma=g)\n",
    "#                 svm_current.fit(X_train_sub, y_train_sub)\n",
    "#                 y_val_hat = svm_current.predict(X_val_sub)\n",
    "#                 accuracy = accuracy_score(y_val_hat, y_val_sub)\n",
    "\n",
    "#                 results_svm.append([accuracy, kernel, C, g])\n",
    "\n",
    "\n",
    "#     elif kernel == \"poly\": \n",
    "#          for C in Cs: \n",
    "#               for d in Ds: \n",
    "#                 for g in gamma: \n",
    "#                     print(f\"Training SVM with kernel = {kernel} degree = {d}, gamma = {g} and C = {C}...\")\n",
    "#                     svm_current = svm.SVC(kernel=kernel, C=C, degree=d, gamma=g)\n",
    "#                     svm_current.fit(X_train_sub, y_train_sub)\n",
    "#                     y_val_hat = svm_current.predict(X_val_sub)\n",
    "#                     accuracy = accuracy_score(y_val_hat, y_val_sub)\n",
    "\n",
    "#                     results_svm.append([accuracy, kernel, C, d, g])\n",
    "                    \n",
    "\n",
    "\n",
    "# results_svm = pd.DataFrame(results_svm)\n",
    "# results_svm.columns = ['Accuracy', 'Kernel', 'C', \"d\", \"g\"]\n",
    "# print(results_svm)"
   ]
  },
  {
   "cell_type": "code",
   "execution_count": 7,
   "metadata": {},
   "outputs": [],
   "source": [
    "# results[results['Accuracy'] == results['Accuracy'].max()]"
   ]
  },
  {
   "cell_type": "code",
   "execution_count": 8,
   "metadata": {},
   "outputs": [
    {
     "data": {
      "text/html": [
       "<style>#sk-container-id-1 {color: black;}#sk-container-id-1 pre{padding: 0;}#sk-container-id-1 div.sk-toggleable {background-color: white;}#sk-container-id-1 label.sk-toggleable__label {cursor: pointer;display: block;width: 100%;margin-bottom: 0;padding: 0.3em;box-sizing: border-box;text-align: center;}#sk-container-id-1 label.sk-toggleable__label-arrow:before {content: \"▸\";float: left;margin-right: 0.25em;color: #696969;}#sk-container-id-1 label.sk-toggleable__label-arrow:hover:before {color: black;}#sk-container-id-1 div.sk-estimator:hover label.sk-toggleable__label-arrow:before {color: black;}#sk-container-id-1 div.sk-toggleable__content {max-height: 0;max-width: 0;overflow: hidden;text-align: left;background-color: #f0f8ff;}#sk-container-id-1 div.sk-toggleable__content pre {margin: 0.2em;color: black;border-radius: 0.25em;background-color: #f0f8ff;}#sk-container-id-1 input.sk-toggleable__control:checked~div.sk-toggleable__content {max-height: 200px;max-width: 100%;overflow: auto;}#sk-container-id-1 input.sk-toggleable__control:checked~label.sk-toggleable__label-arrow:before {content: \"▾\";}#sk-container-id-1 div.sk-estimator input.sk-toggleable__control:checked~label.sk-toggleable__label {background-color: #d4ebff;}#sk-container-id-1 div.sk-label input.sk-toggleable__control:checked~label.sk-toggleable__label {background-color: #d4ebff;}#sk-container-id-1 input.sk-hidden--visually {border: 0;clip: rect(1px 1px 1px 1px);clip: rect(1px, 1px, 1px, 1px);height: 1px;margin: -1px;overflow: hidden;padding: 0;position: absolute;width: 1px;}#sk-container-id-1 div.sk-estimator {font-family: monospace;background-color: #f0f8ff;border: 1px dotted black;border-radius: 0.25em;box-sizing: border-box;margin-bottom: 0.5em;}#sk-container-id-1 div.sk-estimator:hover {background-color: #d4ebff;}#sk-container-id-1 div.sk-parallel-item::after {content: \"\";width: 100%;border-bottom: 1px solid gray;flex-grow: 1;}#sk-container-id-1 div.sk-label:hover label.sk-toggleable__label {background-color: #d4ebff;}#sk-container-id-1 div.sk-serial::before {content: \"\";position: absolute;border-left: 1px solid gray;box-sizing: border-box;top: 0;bottom: 0;left: 50%;z-index: 0;}#sk-container-id-1 div.sk-serial {display: flex;flex-direction: column;align-items: center;background-color: white;padding-right: 0.2em;padding-left: 0.2em;position: relative;}#sk-container-id-1 div.sk-item {position: relative;z-index: 1;}#sk-container-id-1 div.sk-parallel {display: flex;align-items: stretch;justify-content: center;background-color: white;position: relative;}#sk-container-id-1 div.sk-item::before, #sk-container-id-1 div.sk-parallel-item::before {content: \"\";position: absolute;border-left: 1px solid gray;box-sizing: border-box;top: 0;bottom: 0;left: 50%;z-index: -1;}#sk-container-id-1 div.sk-parallel-item {display: flex;flex-direction: column;z-index: 1;position: relative;background-color: white;}#sk-container-id-1 div.sk-parallel-item:first-child::after {align-self: flex-end;width: 50%;}#sk-container-id-1 div.sk-parallel-item:last-child::after {align-self: flex-start;width: 50%;}#sk-container-id-1 div.sk-parallel-item:only-child::after {width: 0;}#sk-container-id-1 div.sk-dashed-wrapped {border: 1px dashed gray;margin: 0 0.4em 0.5em 0.4em;box-sizing: border-box;padding-bottom: 0.4em;background-color: white;}#sk-container-id-1 div.sk-label label {font-family: monospace;font-weight: bold;display: inline-block;line-height: 1.2em;}#sk-container-id-1 div.sk-label-container {text-align: center;}#sk-container-id-1 div.sk-container {/* jupyter's `normalize.less` sets `[hidden] { display: none; }` but bootstrap.min.css set `[hidden] { display: none !important; }` so we also need the `!important` here to be able to override the default hidden behavior on the sphinx rendered scikit-learn.org. See: https://github.com/scikit-learn/scikit-learn/issues/21755 */display: inline-block !important;position: relative;}#sk-container-id-1 div.sk-text-repr-fallback {display: none;}</style><div id=\"sk-container-id-1\" class=\"sk-top-container\"><div class=\"sk-text-repr-fallback\"><pre>SVC()</pre><b>In a Jupyter environment, please rerun this cell to show the HTML representation or trust the notebook. <br />On GitHub, the HTML representation is unable to render, please try loading this page with nbviewer.org.</b></div><div class=\"sk-container\" hidden><div class=\"sk-item\"><div class=\"sk-estimator sk-toggleable\"><input class=\"sk-toggleable__control sk-hidden--visually\" id=\"sk-estimator-id-1\" type=\"checkbox\" checked><label for=\"sk-estimator-id-1\" class=\"sk-toggleable__label sk-toggleable__label-arrow\">SVC</label><div class=\"sk-toggleable__content\"><pre>SVC()</pre></div></div></div></div></div>"
      ],
      "text/plain": [
       "SVC()"
      ]
     },
     "execution_count": 8,
     "metadata": {},
     "output_type": "execute_result"
    }
   ],
   "source": [
    "svm_best = svm.SVC(kernel='rbf', C = 1.0)\n",
    "\n",
    "# Use both training and validation data to fit it (np.concatenate \"stacks\" the array like rbind in R)\n",
    "svm_best.fit(np.concatenate([X_train_subs, X_val_subs]), np.concatenate([y_train_subs, y_val_subs]))\n",
    "\n"
   ]
  },
  {
   "cell_type": "code",
   "execution_count": 9,
   "metadata": {},
   "outputs": [],
   "source": [
    "#Predict on test data\n",
    "ytest_hat_svm = svm_best.predict(Xtest)\n",
    "\n"
   ]
  },
  {
   "cell_type": "code",
   "execution_count": 10,
   "metadata": {},
   "outputs": [],
   "source": [
    "# max_depth = [None, 2, 10, 20]\n",
    "# n_estimators_list = [50, 100, 300]\n",
    "# min_samples_split_list = [3, 5, 15, 33]\n",
    "# min_samples_leaf_list = [3, 5, 15, 33]\n",
    "\n",
    "# results_rf = []\n",
    "# for d in max_depth:\n",
    "#     for n_estimators in n_estimators_list:\n",
    "#         for min_samples_split in min_samples_split_list:\n",
    "#             for min_samples_leaf in min_samples_leaf_list:\n",
    "#                 print(f\"Training for n_estimators={n_estimators}, min_samples_split={min_samples_split}, min_samples_leaf={min_samples_leaf}, max_depth={d}\")\n",
    "\n",
    "#                 rf_current = ensemble.RandomForestClassifier(\n",
    "#                     max_depth = d,\n",
    "#                     n_estimators=n_estimators,\n",
    "#                     min_samples_split=min_samples_split,\n",
    "#                     min_samples_leaf=min_samples_leaf,\n",
    "#                     )\n",
    "#                 rf_current.fit(X_train_sub, y_train_sub)\n",
    "#                 y_val_hat = rf_current.predict(X_val_sub)\n",
    "#                 accuracy_rf = accuracy_score(y_val_sub, y_val_hat)\n",
    "\n",
    "#                 results_rf.append([accuracy_rf, n_estimators, min_samples_split, min_samples_leaf, d])\n",
    "\n",
    "# results_rf = pd.DataFrame(results_rf)\n",
    "# results_rf.columns = ['accuracy_rf', 'n_estimators', 'min_samples_split', 'min_samples_leaf', 'max_depth']\n",
    "# print(results_rf)\n",
    "# results_rf[results_rf['accuracy_rf'] == results_rf['accuracy_rf'].max()]"
   ]
  },
  {
   "cell_type": "code",
   "execution_count": 11,
   "metadata": {},
   "outputs": [],
   "source": [
    "rf_best = ensemble.RandomForestClassifier(\n",
    "    max_depth = None, \n",
    "    n_estimators = 100, \n",
    "    min_samples_split = 33,\n",
    "    min_samples_leaf = 5\n",
    ")\n",
    "\n",
    "rf_best.fit(np.concatenate([X_train_subs, X_val_subs]), np.concatenate([y_train_subs, y_val_subs]))\n",
    "\n",
    "ytest_hat_rf = rf_best.predict(Xtest)"
   ]
  },
  {
   "cell_type": "code",
   "execution_count": 12,
   "metadata": {},
   "outputs": [],
   "source": [
    "# from sklearn import ensemble\n",
    "\n",
    "# n_estimators_list = [100, 500, 1000, 1500]\n",
    "# min_samples_split_list = [2, 10, 30]\n",
    "# min_samples_leaf_list = [2, 10, 30]\n",
    "# learning_rate_list = [0.01, 0.10, 0.50]\n",
    "\n",
    "# results_gb = []\n",
    "\n",
    "# for n_estimators in n_estimators_list:\n",
    "#     for min_samples_split in min_samples_split_list:\n",
    "#         for min_samples_leaf in min_samples_leaf_list:\n",
    "#             for learning_rate in learning_rate_list:\n",
    "#                 print(f\"Training with n_estimators={n_estimators}, min_samples_split={min_samples_split}, min_samples_leaf={min_samples_leaf}, learning_rate={learning_rate}...\")\n",
    "\n",
    "#                 gbt_current = ensemble.GradientBoostingClassifier(n_estimators=n_estimators, min_samples_split=min_samples_split, min_samples_leaf=min_samples_leaf, learning_rate=learning_rate)\n",
    "#                 gbt_current.fit(X_train_sub, y_train_sub)\n",
    "#                 y_val_hat = gbt_current.predict(X_val_sub)\n",
    "#                 acc = accuracy_score(y_val_sub, y_val_hat)\n",
    "\n",
    "#                 results_gb.append([acc, n_estimators, min_samples_split, min_samples_leaf, learning_rate])\n",
    "\n",
    "# results_gb = pd.DataFrame(results_gb)\n",
    "# results_gb.columns = ['Accuracy_gb', 'n_estimators', 'min_samples_split', 'min_samples_leaf', 'learning_rate']\n",
    "# results_gb[results_gb['Accuracy_gb'] == results_gb['Accuracy_gb'].max()]"
   ]
  },
  {
   "cell_type": "code",
   "execution_count": 13,
   "metadata": {},
   "outputs": [],
   "source": [
    "# param_dist = {\n",
    "#     'n_estimators': [50, 100, 200, 300],\n",
    "#     'min_samples_split': [2, 10, 25],\n",
    "#     'min_samples_leaf': [2, 10, 25],\n",
    "#     'learning_rate': [0.01, 0.10, 0.50],\n",
    "#     'max_depth': [None, 2, 5, 15]\n",
    "# }\n",
    "\n",
    "# gbt = GradientBoostingClassifier()\n",
    "\n",
    "# # Use 3-fold cross-validation and run 20 iterations of randomized search\n",
    "# random_search = RandomizedSearchCV(gbt, param_distributions=param_dist, n_iter=15, scoring='accuracy', cv=3, n_jobs=-1, verbose=3)\n",
    "\n",
    "# random_search.fit(X_train_sub, y_train_sub)\n",
    "\n",
    "# print(\"Best parameters found: \", random_search.best_params_)\n",
    "# print(\"Highest accuracy found: \", random_search.best_score_)\n"
   ]
  },
  {
   "cell_type": "code",
   "execution_count": 14,
   "metadata": {},
   "outputs": [],
   "source": [
    "gb_best = GradientBoostingClassifier(n_estimators = 300, min_samples_split=10, min_samples_leaf=2, max_depth=2, learning_rate=0.2)\n",
    "gb_best.fit(np.concatenate([X_train_subs, X_val_subs]), np.concatenate([y_train_subs, y_val_subs]))\n",
    "\n",
    "ytest_hat_gb = gb_best.predict(Xtest)"
   ]
  },
  {
   "cell_type": "code",
   "execution_count": 15,
   "metadata": {},
   "outputs": [],
   "source": [
    "y_test_hat_combined = np.c_[ytest_hat_gb, ytest_hat_rf, ytest_hat_svm]\n",
    "y_test_hat_combined = np.round(np.sum(y_test_hat_combined, axis=1) / y_test_hat_combined.shape[1]).astype(int)"
   ]
  },
  {
   "cell_type": "code",
   "execution_count": 16,
   "metadata": {},
   "outputs": [],
   "source": [
    "y_test_hat_combined= pd.DataFrame({\n",
    "    'Id': list(range(len(y_test_hat_combined))),\n",
    "    'Predicted': y_test_hat_combined.reshape(-1,),\n",
    "})\n",
    "y_test_hat_combined.to_csv(\"ytest_hat.csv\", index=False)"
   ]
  },
  {
   "cell_type": "code",
   "execution_count": 17,
   "metadata": {},
   "outputs": [
    {
     "data": {
      "text/plain": [
       "(1638, 2)"
      ]
     },
     "execution_count": 17,
     "metadata": {},
     "output_type": "execute_result"
    }
   ],
   "source": [
    "y_test_hat_combined.shape\n"
   ]
  }
 ],
 "metadata": {
  "kernelspec": {
   "display_name": "amlfall23",
   "language": "python",
   "name": "python3"
  },
  "language_info": {
   "codemirror_mode": {
    "name": "ipython",
    "version": 3
   },
   "file_extension": ".py",
   "mimetype": "text/x-python",
   "name": "python",
   "nbconvert_exporter": "python",
   "pygments_lexer": "ipython3",
   "version": "3.10.12"
  }
 },
 "nbformat": 4,
 "nbformat_minor": 2
}
