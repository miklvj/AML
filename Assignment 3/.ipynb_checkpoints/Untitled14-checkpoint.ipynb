{
 "cells": [
  {
   "cell_type": "code",
   "execution_count": 1,
   "metadata": {
    "id": "XfpLBFoKgnVP"
   },
   "outputs": [],
   "source": [
    "import tensorflow as tf\n",
    "from sklearn.ensemble import GradientBoostingRegressor, RandomForestRegressor\n",
    "from sklearn.preprocessing import StandardScaler\n",
    "import numpy as np\n",
    "import pandas as pd\n",
    "import matplotlib.pyplot as plt\n",
    "from sklearn import ensemble\n",
    "from sklearn.metrics import mean_absolute_error\n",
    "from sklearn.model_selection import train_test_split, ParameterGrid"
   ]
  },
  {
   "cell_type": "code",
   "execution_count": 2,
   "metadata": {
    "colab": {
     "base_uri": "https://localhost:8080/"
    },
    "id": "N5pQseYSiYA6",
    "outputId": "0c10b0bc-140e-4d1d-8a50-e500680e9afe"
   },
   "outputs": [
    {
     "ename": "ModuleNotFoundError",
     "evalue": "No module named 'google.colab'",
     "output_type": "error",
     "traceback": [
      "\u001b[1;31m---------------------------------------------------------------------------\u001b[0m",
      "\u001b[1;31mModuleNotFoundError\u001b[0m                       Traceback (most recent call last)",
      "Cell \u001b[1;32mIn[2], line 1\u001b[0m\n\u001b[1;32m----> 1\u001b[0m \u001b[38;5;28;01mfrom\u001b[39;00m \u001b[38;5;21;01mgoogle\u001b[39;00m\u001b[38;5;21;01m.\u001b[39;00m\u001b[38;5;21;01mcolab\u001b[39;00m \u001b[38;5;28;01mimport\u001b[39;00m drive\n\u001b[0;32m      2\u001b[0m drive\u001b[38;5;241m.\u001b[39mmount(\u001b[38;5;124m'\u001b[39m\u001b[38;5;124m/content/gdrive\u001b[39m\u001b[38;5;124m'\u001b[39m)\n",
      "\u001b[1;31mModuleNotFoundError\u001b[0m: No module named 'google.colab'"
     ]
    }
   ],
   "source": [
    "from google.colab import drive\n",
    "drive.mount('/content/gdrive')"
   ]
  },
  {
   "cell_type": "code",
   "execution_count": 3,
   "metadata": {
    "id": "n8vYbQ6wig2n"
   },
   "outputs": [],
   "source": [
    "device = '/GPU:0' if tf.config.list_physical_devices('GPU') else '/CPU:0'"
   ]
  },
  {
   "cell_type": "code",
   "execution_count": 4,
   "metadata": {
    "colab": {
     "base_uri": "https://localhost:8080/"
    },
    "id": "VZrDYMQailHC",
    "outputId": "6075370f-80c9-4347-8dd8-05f9592dcc64"
   },
   "outputs": [
    {
     "ename": "FileNotFoundError",
     "evalue": "[Errno 2] No such file or directory: '/content/gdrive/My Drive/Assignment 3/x_train.npy'",
     "output_type": "error",
     "traceback": [
      "\u001b[1;31m---------------------------------------------------------------------------\u001b[0m",
      "\u001b[1;31mFileNotFoundError\u001b[0m                         Traceback (most recent call last)",
      "Cell \u001b[1;32mIn[4], line 1\u001b[0m\n\u001b[1;32m----> 1\u001b[0m x_train \u001b[38;5;241m=\u001b[39m \u001b[43mnp\u001b[49m\u001b[38;5;241;43m.\u001b[39;49m\u001b[43mload\u001b[49m\u001b[43m(\u001b[49m\u001b[38;5;124;43m'\u001b[39;49m\u001b[38;5;124;43m/content/gdrive/My Drive/Assignment 3/x_train.npy\u001b[39;49m\u001b[38;5;124;43m'\u001b[39;49m\u001b[43m)\u001b[49m\n\u001b[0;32m      2\u001b[0m \u001b[38;5;28mprint\u001b[39m(\u001b[38;5;124mf\u001b[39m\u001b[38;5;124m'\u001b[39m\u001b[38;5;124mShape of training data: \u001b[39m\u001b[38;5;132;01m{\u001b[39;00mx_train\u001b[38;5;241m.\u001b[39mshape\u001b[38;5;132;01m}\u001b[39;00m\u001b[38;5;124m'\u001b[39m)\n\u001b[0;32m      4\u001b[0m x_test \u001b[38;5;241m=\u001b[39m np\u001b[38;5;241m.\u001b[39mload(\u001b[38;5;124m'\u001b[39m\u001b[38;5;124m/content/gdrive/My Drive/Assignment 3/x_test.npy\u001b[39m\u001b[38;5;124m'\u001b[39m)\n",
      "File \u001b[1;32m~\\anaconda3\\envs\\amlfall23\\lib\\site-packages\\numpy\\lib\\npyio.py:427\u001b[0m, in \u001b[0;36mload\u001b[1;34m(file, mmap_mode, allow_pickle, fix_imports, encoding, max_header_size)\u001b[0m\n\u001b[0;32m    425\u001b[0m     own_fid \u001b[38;5;241m=\u001b[39m \u001b[38;5;28;01mFalse\u001b[39;00m\n\u001b[0;32m    426\u001b[0m \u001b[38;5;28;01melse\u001b[39;00m:\n\u001b[1;32m--> 427\u001b[0m     fid \u001b[38;5;241m=\u001b[39m stack\u001b[38;5;241m.\u001b[39menter_context(\u001b[38;5;28;43mopen\u001b[39;49m\u001b[43m(\u001b[49m\u001b[43mos_fspath\u001b[49m\u001b[43m(\u001b[49m\u001b[43mfile\u001b[49m\u001b[43m)\u001b[49m\u001b[43m,\u001b[49m\u001b[43m \u001b[49m\u001b[38;5;124;43m\"\u001b[39;49m\u001b[38;5;124;43mrb\u001b[39;49m\u001b[38;5;124;43m\"\u001b[39;49m\u001b[43m)\u001b[49m)\n\u001b[0;32m    428\u001b[0m     own_fid \u001b[38;5;241m=\u001b[39m \u001b[38;5;28;01mTrue\u001b[39;00m\n\u001b[0;32m    430\u001b[0m \u001b[38;5;66;03m# Code to distinguish from NumPy binary files and pickles.\u001b[39;00m\n",
      "\u001b[1;31mFileNotFoundError\u001b[0m: [Errno 2] No such file or directory: '/content/gdrive/My Drive/Assignment 3/x_train.npy'"
     ]
    }
   ],
   "source": [
    "x_train = np.load('C:\\Users/mikke/OneDrive - Syddansk Universitet/Data Science/10. Anvendt Maskinlæring/00 data_assignment_3/x_train.npy')\n",
    "print(f'Shape of training data: {x_train.shape}')\n",
    "\n",
    "x_test = np.load('/content/gdrive/My Drive/Assignment 3/x_test.npy')\n",
    "print(f'Shape of test data: {x_test.shape}')\n",
    "\n",
    "y_train = np.load('/content/gdrive/My Drive/Assignment 3/y_train.npy')\n",
    "print(f'Shape of labels/targets: {y_train.shape}')\n",
    "\n",
    "scaler = StandardScaler()\n",
    "\n",
    "x_train = scaler.fit_transform(x_train)\n",
    "x_test = scaler.transform(x_test)"
   ]
  },
  {
   "cell_type": "code",
   "execution_count": 49,
   "metadata": {
    "id": "bNYdP5hEL4cz"
   },
   "outputs": [],
   "source": [
    "x_train_copy = x_train\n",
    "y_train_copy = y_train\n",
    "\n",
    "num_ensembles = 3\n",
    "samples_per_ensemble = x_train_copy.shape[0] // num_ensembles\n",
    "\n",
    "np.random.seed(42)\n",
    "\n",
    "datasets = {}\n",
    "\n",
    "for i in range(1, 4):\n",
    "    indices = np.random.choice(x_train_copy.shape[0], samples_per_ensemble, replace=False)\n",
    "\n",
    "    X_subset = x_train_copy[indices]\n",
    "    y_subset = y_train_copy[indices]\n",
    "\n",
    "    datasets[f'X_{i}'] = X_subset\n",
    "    datasets[f'y_{i}'] = y_subset\n",
    "\n",
    "    x_train_copy = np.delete(x_train_copy, indices, axis=0)\n",
    "    y_train_copy = np.delete(y_train_copy, indices, axis=0)"
   ]
  },
  {
   "cell_type": "code",
   "execution_count": 50,
   "metadata": {
    "colab": {
     "base_uri": "https://localhost:8080/"
    },
    "id": "by72Dh02pYsS",
    "outputId": "0af1a133-d4ff-43e0-eac7-9d8fe3e26d76"
   },
   "outputs": [
    {
     "name": "stdout",
     "output_type": "stream",
     "text": [
      "Shape of X_1: (6666, 48)\n",
      "Shape of y_1: (6666,)\n",
      "Shape of X_2: (6666, 48)\n",
      "Shape of y_2: (6666,)\n",
      "Shape of X_3: (6666, 48)\n",
      "Shape of y_3: (6666,)\n"
     ]
    }
   ],
   "source": [
    "for i in range(1, 4):\n",
    "    X = datasets[f'X_{i}']\n",
    "    y = datasets[f'y_{i}']\n",
    "    print(f\"Shape of X_{i}: {X.shape}\")\n",
    "    print(f\"Shape of y_{i}: {y.shape}\")"
   ]
  },
  {
   "cell_type": "markdown",
   "metadata": {
    "id": "4D-sEr1cNngl"
   },
   "source": [
    "## Hyperparameters for 3 Models:\n",
    "\n",
    "<br>\n",
    "\n",
    "**Model 1: FFNN**\n",
    "\n",
    "**Model 2: Boosting**\n",
    "\n",
    "**Model 3: Random Forest**\n",
    "\n",
    "<br>\n",
    "\n",
    "Each model is based on 1/3 of the training data.\n",
    "\n"
   ]
  },
  {
   "cell_type": "markdown",
   "metadata": {
    "id": "NBymgEy_rtJY"
   },
   "source": [
    "**Model 1 (Hyperparameters search):**"
   ]
  },
  {
   "cell_type": "code",
   "execution_count": 51,
   "metadata": {
    "id": "dNPCMGJ2pj9K"
   },
   "outputs": [],
   "source": [
    "model_1 = tf.keras.models.Sequential([\n",
    "    tf.keras.layers.Flatten(input_shape=(48,)),\n",
    "    tf.keras.layers.Dense(96, activation='relu'),\n",
    "    tf.keras.layers.BatchNormalization(),\n",
    "    tf.keras.layers.Dense(48, activation='relu'),\n",
    "    tf.keras.layers.BatchNormalization(),\n",
    "    tf.keras.layers.Dropout(0.35),\n",
    "    tf.keras.layers.Dense(1, activation='linear'),\n",
    "])\n",
    "\n",
    "model_1.compile(\n",
    "    loss='mse',\n",
    "    optimizer=tf.keras.optimizers.experimental.Adagrad(0.0002),\n",
    "    metrics=['mae'],\n",
    ")"
   ]
  },
  {
   "cell_type": "code",
   "execution_count": 52,
   "metadata": {
    "colab": {
     "base_uri": "https://localhost:8080/"
    },
    "id": "0v4_1VHbr30w",
    "outputId": "f8a394f6-89b9-4750-bbcc-5af1b5a6adb4"
   },
   "outputs": [
    {
     "name": "stdout",
     "output_type": "stream",
     "text": [
      "Model: \"sequential_2\"\n",
      "_________________________________________________________________\n",
      " Layer (type)                Output Shape              Param #   \n",
      "=================================================================\n",
      " flatten_2 (Flatten)         (None, 48)                0         \n",
      "                                                                 \n",
      " dense_6 (Dense)             (None, 96)                4704      \n",
      "                                                                 \n",
      " batch_normalization_4 (Bat  (None, 96)                384       \n",
      " chNormalization)                                                \n",
      "                                                                 \n",
      " dense_7 (Dense)             (None, 48)                4656      \n",
      "                                                                 \n",
      " batch_normalization_5 (Bat  (None, 48)                192       \n",
      " chNormalization)                                                \n",
      "                                                                 \n",
      " dropout_2 (Dropout)         (None, 48)                0         \n",
      "                                                                 \n",
      " dense_8 (Dense)             (None, 1)                 49        \n",
      "                                                                 \n",
      "=================================================================\n",
      "Total params: 9985 (39.00 KB)\n",
      "Trainable params: 9697 (37.88 KB)\n",
      "Non-trainable params: 288 (1.12 KB)\n",
      "_________________________________________________________________\n",
      "Epoch 1/10\n",
      "167/167 [==============================] - 2s 7ms/step - loss: 144.8034 - mae: 8.9912 - val_loss: 158.0286 - val_mae: 9.5116\n",
      "Epoch 2/10\n",
      "167/167 [==============================] - 1s 5ms/step - loss: 143.5692 - mae: 8.9455 - val_loss: 157.6345 - val_mae: 9.4886\n",
      "Epoch 3/10\n",
      "167/167 [==============================] - 1s 6ms/step - loss: 143.4652 - mae: 8.9473 - val_loss: 156.9575 - val_mae: 9.4570\n",
      "Epoch 4/10\n",
      "167/167 [==============================] - 1s 8ms/step - loss: 143.1666 - mae: 8.9110 - val_loss: 156.2294 - val_mae: 9.4266\n",
      "Epoch 5/10\n",
      "167/167 [==============================] - 1s 8ms/step - loss: 143.1590 - mae: 8.9291 - val_loss: 156.0320 - val_mae: 9.4176\n",
      "Epoch 6/10\n",
      "167/167 [==============================] - 1s 8ms/step - loss: 143.3302 - mae: 8.9197 - val_loss: 155.7304 - val_mae: 9.4053\n",
      "Epoch 7/10\n",
      "167/167 [==============================] - 1s 8ms/step - loss: 143.4677 - mae: 8.9296 - val_loss: 155.7192 - val_mae: 9.4047\n",
      "Epoch 8/10\n",
      "167/167 [==============================] - 1s 8ms/step - loss: 143.0837 - mae: 8.9057 - val_loss: 155.5821 - val_mae: 9.3982\n",
      "Epoch 9/10\n",
      "167/167 [==============================] - 1s 5ms/step - loss: 142.9854 - mae: 8.8948 - val_loss: 155.1764 - val_mae: 9.3811\n",
      "Epoch 10/10\n",
      "167/167 [==============================] - 1s 6ms/step - loss: 142.4772 - mae: 8.9004 - val_loss: 155.0411 - val_mae: 9.3759\n"
     ]
    }
   ],
   "source": [
    "X_1 = datasets['X_1']\n",
    "y_1 = datasets['y_1']\n",
    "\n",
    "callback = tf.keras.callbacks.EarlyStopping(monitor='val_mae',\n",
    "                                            patience=30,\n",
    "                                            restore_best_weights=True)\n",
    "\n",
    "model_1.summary()\n",
    "\n",
    "history_1 = model_1.fit(\n",
    "    X_1,\n",
    "    y_1,\n",
    "    epochs=10,\n",
    "    verbose=1,\n",
    "    validation_split=0.2,\n",
    "    callbacks=callback\n",
    ")"
   ]
  },
  {
   "cell_type": "code",
   "execution_count": 53,
   "metadata": {
    "colab": {
     "base_uri": "https://localhost:8080/",
     "height": 342
    },
    "id": "jyU3pL-2IaVq",
    "outputId": "9ca3f706-f43d-4fe5-cbfb-cefcb7624bef"
   },
   "outputs": [
    {
     "data": {
      "image/png": "[encoded data removed]",
      "text/plain": [
       "<Figure size 1600x320 with 2 Axes>"
      ]
     },
     "metadata": {},
     "output_type": "display_data"
    }
   ],
   "source": [
    "history_x = history_1\n",
    "history_y = history_1\n",
    "\n",
    "fig = plt.figure(figsize=plt.figaspect(0.2))\n",
    "\n",
    "ax = fig.add_subplot(1, 2, 1)\n",
    "ax.plot(history_x.history['loss'], label='Training loss')\n",
    "ax.plot(history_y.history['val_loss'], label='Validation loss')\n",
    "plt.xlabel('Epoch')\n",
    "plt.ylabel('Loss')\n",
    "plt.title(f'Loss over Epochs')\n",
    "plt.legend(loc='upper right')\n",
    "\n",
    "ax = fig.add_subplot(1, 2, 2)\n",
    "ax.plot(history_x.history['mae'], label='Mean average error')\n",
    "ax.plot(history_y.history['val_mae'], label='Validation MAE')\n",
    "plt.xlabel('Epoch')\n",
    "plt.ylabel('MAE')\n",
    "plt.title(f'MAE over Epochs')\n",
    "plt.legend(loc='lower right')\n",
    "\n",
    "plt.show()"
   ]
  },
  {
   "cell_type": "markdown",
   "metadata": {
    "id": "Go8qRTFXOSPx"
   },
   "source": [
    "**Model 2 (Hyperparameters search):**"
   ]
  },
  {
   "cell_type": "code",
   "execution_count": 2,
   "metadata": {
    "colab": {
     "base_uri": "https://localhost:8080/",
     "height": 252
    },
    "id": "6elZ6EbiOUVm",
    "outputId": "0e12ea72-63f3-4936-dfe8-5e13a53fa37a"
   },
   "outputs": [
    {
     "ename": "NameError",
     "evalue": "ignored",
     "output_type": "error",
     "traceback": [
      "\u001b[0;31m---------------------------------------------------------------------------\u001b[0m",
      "\u001b[0;31mNameError\u001b[0m                                 Traceback (most recent call last)",
      "\u001b[0;32m<ipython-input-2-0d5c7205de64>\u001b[0m in \u001b[0;36m<cell line: 1>\u001b[0;34m()\u001b[0m\n\u001b[0;32m----> 1\u001b[0;31m \u001b[0mX_2\u001b[0m \u001b[0;34m=\u001b[0m \u001b[0mdatasets\u001b[0m\u001b[0;34m[\u001b[0m\u001b[0;34m'X_2'\u001b[0m\u001b[0;34m]\u001b[0m\u001b[0;34m\u001b[0m\u001b[0;34m\u001b[0m\u001b[0m\n\u001b[0m\u001b[1;32m      2\u001b[0m \u001b[0my_2\u001b[0m \u001b[0;34m=\u001b[0m \u001b[0mdatasets\u001b[0m\u001b[0;34m[\u001b[0m\u001b[0;34m'y_2'\u001b[0m\u001b[0;34m]\u001b[0m\u001b[0;34m\u001b[0m\u001b[0;34m\u001b[0m\u001b[0m\n\u001b[1;32m      3\u001b[0m \u001b[0;34m\u001b[0m\u001b[0m\n\u001b[1;32m      4\u001b[0m \u001b[0mX_train_2\u001b[0m\u001b[0;34m,\u001b[0m \u001b[0mX_val_2\u001b[0m\u001b[0;34m,\u001b[0m \u001b[0my_train_2\u001b[0m\u001b[0;34m,\u001b[0m \u001b[0my_val_2\u001b[0m \u001b[0;34m=\u001b[0m \u001b[0mtrain_test_split\u001b[0m\u001b[0;34m(\u001b[0m\u001b[0mX_2\u001b[0m\u001b[0;34m,\u001b[0m \u001b[0my_2\u001b[0m\u001b[0;34m,\u001b[0m \u001b[0mtest_size\u001b[0m\u001b[0;34m=\u001b[0m\u001b[0;36m0.2\u001b[0m\u001b[0;34m,\u001b[0m \u001b[0mrandom_state\u001b[0m\u001b[0;34m=\u001b[0m\u001b[0;36m42\u001b[0m\u001b[0;34m)\u001b[0m\u001b[0;34m\u001b[0m\u001b[0;34m\u001b[0m\u001b[0m\n\u001b[1;32m      5\u001b[0m \u001b[0;34m\u001b[0m\u001b[0m\n",
      "\u001b[0;31mNameError\u001b[0m: name 'datasets' is not defined"
     ]
    }
   ],
   "source": [
    "X_2 = datasets['X_2']\n",
    "y_2 = datasets['y_2']\n",
    "\n",
    "X_train_2, X_val_2, y_train_2, y_val_2 = train_test_split(X_2, y_2, test_size=0.2, random_state=42)\n",
    "\n",
    "param_grid = ParameterGrid({\n",
    "    'n_estimators': [250, 500, 1000, 2000, 4000, 8000],\n",
    "    'min_samples_split': [10, 20, 50, 100, 250],\n",
    "    'min_samples_leaf': [10, 20, 50, 100, 250],\n",
    "    'learning_rate': [0.01, 0.05, 0.1, 0.5, 0.75]\n",
    "    })\n",
    "\n",
    "score_ = 0\n",
    "params_ = None\n",
    "\n",
    "for params in param_grid:\n",
    "  gbt_current = ensemble.GradientBoostingRegressor(\n",
    "                n_estimators=params['n_estimators'],\n",
    "                min_samples_split=params['min_samples_split'],\n",
    "                min_samples_leaf=params['min_samples_leaf'],\n",
    "                learning_rate=params['learning_rate'],\n",
    "                )\n",
    "  gbt_current.fit(X_train_2, y_train_2)\n",
    "  y_val_hat = gbt_current.predict(X_val_2)\n",
    "  val_MAE = mean_absolute_error(y_val_hat, y_val_2)\n",
    "  if val_MAE > score_:\n",
    "    score_ = val_MAE\n",
    "    params_ = params"
   ]
  },
  {
   "cell_type": "code",
   "execution_count": 1,
   "metadata": {
    "colab": {
     "base_uri": "https://localhost:8080/",
     "height": 179
    },
    "id": "alm-p8iAT-xI",
    "outputId": "d263e1d5-8cfe-4620-edea-812b6a5de583"
   },
   "outputs": [
    {
     "ename": "NameError",
     "evalue": "ignored",
     "output_type": "error",
     "traceback": [
      "\u001b[0;31m---------------------------------------------------------------------------\u001b[0m",
      "\u001b[0;31mNameError\u001b[0m                                 Traceback (most recent call last)",
      "\u001b[0;32m<ipython-input-1-13fd2840140d>\u001b[0m in \u001b[0;36m<cell line: 1>\u001b[0;34m()\u001b[0m\n\u001b[0;32m----> 1\u001b[0;31m \u001b[0mprint\u001b[0m\u001b[0;34m(\u001b[0m\u001b[0;34mf\"For GB the best hyperparameters are: {params_}, the mean average error of the model is: {val_MAE}\"\u001b[0m\u001b[0;34m)\u001b[0m\u001b[0;34m\u001b[0m\u001b[0;34m\u001b[0m\u001b[0m\n\u001b[0m",
      "\u001b[0;31mNameError\u001b[0m: name 'params_' is not defined"
     ]
    }
   ],
   "source": [
    "print(f\"For GB the best hyperparameters are: {params_}, the mean average error of the model is: {val_MAE}\")"
   ]
  },
  {
   "cell_type": "markdown",
   "metadata": {
    "id": "PsaPxhsaTtk2"
   },
   "source": [
    "**Model 3 (Hyperparameters search):**"
   ]
  },
  {
   "cell_type": "code",
   "execution_count": null,
   "metadata": {
    "id": "_0k8p0_dTw_8"
   },
   "outputs": [],
   "source": [
    "X_3 = datasets['X_3']\n",
    "y_3 = datasets['y_3']\n",
    "\n",
    "X_train_3, X_val_3, y_train_3, y_val_3 = train_test_split(X_3, y_3, test_size=0.2, random_state=42)\n",
    "\n",
    "param_grid = ParameterGrid({\n",
    "    'n_estimators': [250, 500, 1000, 2000, 4000, 8000],\n",
    "    'min_samples_split': [10, 20, 50, 100, 250],\n",
    "    'min_samples_leaf': [10, 20, 50, 100, 250],\n",
    "    'max_depth': [None, 30, 20, 15, 10, 3, 2],\n",
    "    'max_features': ['sqrt', 'log2', 20, 10]\n",
    "    })\n",
    "\n",
    "score_ = 0\n",
    "params_ = None\n",
    "for params in param_grid:\n",
    "  rf_current = ensemble.RandomForestRegressor(\n",
    "                n_estimators=params['n_estimators'],\n",
    "                min_samples_split=params['min_samples_split'],\n",
    "                min_samples_leaf=params['min_samples_leaf'],\n",
    "                max_depth=params['max_depth'],\n",
    "                max_features=params['max_features'],\n",
    "                )\n",
    "  rf_current.fit(X_train_3, y_train_3)\n",
    "  y_val_hat = rf_current.predict(X_val_3)\n",
    "  val_MAE = mean_absolute_error(y_val_hat, y_val_3)\n",
    "  if val_MAE > score_:\n",
    "    score_ = val_MAE\n",
    "    params_ = params"
   ]
  },
  {
   "cell_type": "code",
   "execution_count": null,
   "metadata": {
    "id": "LLzpFxdhaO9W"
   },
   "outputs": [],
   "source": [
    "print(f\"For RF the best hyperparameters are: {params_}, the mean average error of the model is: {val_MAE}\")"
   ]
  },
  {
   "cell_type": "markdown",
   "metadata": {
    "id": "YG36H_xdbSBv"
   },
   "source": [
    "## Train the models with the chosen hyperparameters, and predict on the test data for kaggle upload."
   ]
  },
  {
   "cell_type": "markdown",
   "metadata": {
    "id": "ey8EMZmXh6jN"
   },
   "source": [
    "**Dataframe for ensemble:**"
   ]
  },
  {
   "cell_type": "code",
   "execution_count": null,
   "metadata": {
    "id": "A-fB9P64iCiZ"
   },
   "outputs": [],
   "source": [
    "df_ensemble = pd.DataFrame()"
   ]
  },
  {
   "cell_type": "markdown",
   "metadata": {
    "id": "8doYyx-QiD5q"
   },
   "source": [
    "**Model 1 (FFNN) predictions:**"
   ]
  },
  {
   "cell_type": "code",
   "execution_count": null,
   "metadata": {
    "id": "IxcpxVoRrlwP"
   },
   "outputs": [],
   "source": [
    "history_1 = model_1.fit(\n",
    "    x_train,\n",
    "    y_train,\n",
    "    epochs=10000,\n",
    "    verbose=1,\n",
    "    validation_split=0.2,\n",
    "    callbacks=callback\n",
    ")\n",
    "\n",
    "y_test_hat_1 = model_1.predict(x_test)\n",
    "\n",
    "df_ensemble['model_1'] = y_test_hat_1.reshape(-1)"
   ]
  },
  {
   "cell_type": "markdown",
   "metadata": {
    "id": "G6gLkztTiRfL"
   },
   "source": [
    "**Model 2 (Boosting) predictions:**"
   ]
  },
  {
   "cell_type": "code",
   "execution_count": 152,
   "metadata": {
    "id": "iGavlolCgcaW"
   },
   "outputs": [],
   "source": [
    "model_2 = ensemble.GradientBoostingRegressor(\n",
    "                n_estimators=1,\n",
    "                min_samples_split=5,\n",
    "                min_samples_leaf=1,\n",
    "                learning_rate=1,\n",
    "                )\n",
    "\n",
    "model_2.fit(x_train, y_train)\n",
    "y_test_hat_2 = model_2.predict(x_test)\n",
    "\n",
    "df_ensemble['model_2'] = y_test_hat_2"
   ]
  },
  {
   "cell_type": "markdown",
   "metadata": {
    "id": "TOKpoW8eiTWp"
   },
   "source": [
    "**Model 3 (Random Forest) predictions:**"
   ]
  },
  {
   "cell_type": "code",
   "execution_count": 153,
   "metadata": {
    "id": "JGZbEppDg1rm"
   },
   "outputs": [],
   "source": [
    "model_3 = ensemble.RandomForestRegressor(\n",
    "                n_estimators=1,\n",
    "                min_samples_split=5,\n",
    "                min_samples_leaf=1,\n",
    "                max_depth=1,\n",
    "                max_features=5,\n",
    "                )\n",
    "\n",
    "model_3.fit(x_train, y_train)\n",
    "y_test_hat_3 = model_3.predict(x_test)\n",
    "\n",
    "df_ensemble['model_3'] = y_test_hat_3"
   ]
  },
  {
   "cell_type": "markdown",
   "metadata": {
    "id": "bFgtq8xzimXx"
   },
   "source": [
    "### The average prediction over the three models:"
   ]
  },
  {
   "cell_type": "code",
   "execution_count": 154,
   "metadata": {
    "colab": {
     "base_uri": "https://localhost:8080/"
    },
    "id": "3bRYIuKfipsn",
    "outputId": "60150e7a-7d78-460c-b87b-6da6b383c162"
   },
   "outputs": [
    {
     "name": "stdout",
     "output_type": "stream",
     "text": [
      "       model_1    model_2    model_3    average\n",
      "0     1.817711  11.240237  18.119663  10.392537\n",
      "1     0.669273  11.240237  18.119663  10.009725\n",
      "2     1.376598  11.240237  18.119663  10.245500\n",
      "3     0.843585  11.240237  18.119663  10.067828\n",
      "4     0.836160  11.240237  18.119663  10.065353\n",
      "...        ...        ...        ...        ...\n",
      "4995  2.591280  11.240237  18.119663  10.650394\n",
      "4996  1.486662  11.240237  18.119663  10.282187\n",
      "4997 -0.129863  11.240237  18.119663   9.743346\n",
      "4998  0.737637  11.240237  18.119663  10.032513\n",
      "4999  1.062864  11.240237  18.119663  10.140922\n",
      "\n",
      "[5000 rows x 4 columns]\n"
     ]
    }
   ],
   "source": [
    "df_ensemble['average'] = df_ensemble.mean(axis=1)\n",
    "\n",
    "print(df_ensemble)"
   ]
  }
 ],
 "metadata": {
  "accelerator": "GPU",
  "colab": {
   "gpuType": "T4",
   "provenance": []
  },
  "kernelspec": {
   "display_name": "Python 3 (ipykernel)",
   "language": "python",
   "name": "python3"
  },
  "language_info": {
   "codemirror_mode": {
    "name": "ipython",
    "version": 3
   },
   "file_extension": ".py",
   "mimetype": "text/x-python",
   "name": "python",
   "nbconvert_exporter": "python",
   "pygments_lexer": "ipython3",
   "version": "3.10.13"
  }
 },
 "nbformat": 4,
 "nbformat_minor": 1
}
