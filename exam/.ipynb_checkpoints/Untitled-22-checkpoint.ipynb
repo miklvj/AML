{
 "cells": [
  {
   "cell_type": "code",
   "execution_count": null,
   "metadata": {},
   "outputs": [],
   "source": []
  },
  {
   "cell_type": "code",
   "execution_count": 9,
   "metadata": {},
   "outputs": [],
   "source": [
    "import tensorflow as tf\n",
    "import pandas as pd\n",
    "import requests\n",
    "import gzip\n",
    "import io\n",
    "import numpy as np\n",
    "from sklearn.model_selection import train_test_split"
   ]
  },
  {
   "cell_type": "code",
   "execution_count": 19,
   "metadata": {},
   "outputs": [],
   "source": [
    "def read_gzipped_json_from_url(url):\n",
    "    # Send a HTTP request to the URL\n",
    "    response = requests.get(url)\n",
    "    # Check if the request was successful\n",
    "    if response.status_code == 200:\n",
    "        # Use gzip to decompress the content\n",
    "        with gzip.GzipFile(fileobj=io.BytesIO(response.content)) as gz:\n",
    "            # Read the JSON lines file and convert to a DataFrame\n",
    "            df = pd.read_json(gz, lines=True)\n",
    "        return df\n",
    "    else:\n",
    "        print(f\"Failed to retrieve data: status code {response.status_code}\")\n",
    "        return None"
   ]
  },
  {
   "cell_type": "code",
   "execution_count": 27,
   "metadata": {},
   "outputs": [],
   "source": [
    "amazon_fashion = 'https://datarepo.eng.ucsd.edu/mcauley_group/data/amazon_v2/categoryFilesSmall/Amazon_Fashion_5.json.gz'\n",
    "luxury_beauty = 'https://datarepo.eng.ucsd.edu/mcauley_group/data/amazon_v2/categoryFilesSmall/Luxury_Beauty_5.json.gz'\n",
    "all_beauty = 'https://datarepo.eng.ucsd.edu/mcauley_group/data/amazon_v2/categoryFilesSmall/All_Beauty_5.json.gz'\n",
    "Arts_Crafts_Sewing = 'https://datarepo.eng.ucsd.edu/mcauley_group/data/amazon_v2/categoryFilesSmall/Arts_Crafts_and_Sewing_5.json.gz'\n",
    "Clothing_Shoes_Jewelry = 'https://datarepo.eng.ucsd.edu/mcauley_group/data/amazon_v2/categoryFilesSmall/Clothing_Shoes_And_Jewelry_5.json.gz'\n",
    "\n",
    "df_test = read_gzipped_json_from_url(luxury_beauty).reset_index(drop=True)\n",
    "\n",
    "df_train1 = read_gzipped_json_from_url(amazon_fashion).reset_index(drop=True)\n",
    "df_train2 = read_gzipped_json_from_url(all_beauty).reset_index(drop=True)\n",
    "df_train3 = read_gzipped_json_from_url(Arts_Crafts_Sewing).reset_index(drop=True)\n",
    "df_train4 = read_gzipped_json_from_url(Clothing_Shoes_Jewelry).reset_index(drop=True)\n",
    "\n",
    "df_train = pd.concat([df_train1, df_train2, df_train3, df_train4], axis=0, ignore_index=True)"
   ]
  },
  {
   "cell_type": "code",
   "execution_count": 12,
   "metadata": {},
   "outputs": [
    {
     "name": "stdout",
     "output_type": "stream",
     "text": [
      "   overall  verified   reviewTime      reviewerID        asin  \\\n",
      "0        5      True   01 5, 2018  A2HOI48JK8838M  B00004U9V2   \n",
      "1        5      True   04 5, 2017  A1YIPEY7HX73S7  B00004U9V2   \n",
      "2        5      True  03 27, 2017  A2QCGHIJ2TCLVP  B00004U9V2   \n",
      "3        5      True  03 20, 2017  A2R4UNHFJBA6PY  B00004U9V2   \n",
      "4        5      True  02 28, 2017  A2QCGHIJ2TCLVP  B00004U9V2   \n",
      "\n",
      "                   style     reviewerName  \\\n",
      "0  {'Size:': ' 0.9 oz.'}               DB   \n",
      "1  {'Size:': ' 3.5 oz.'}            Ajaey   \n",
      "2    {'Size:': ' 250 g'}         D. Jones   \n",
      "3  {'Size:': ' 3.5 oz.'}  Amazon Customer   \n",
      "4  {'Size:': ' 0.9 oz.'}         D. Jones   \n",
      "\n",
      "                                          reviewText                 summary  \\\n",
      "0  This handcream has a beautiful fragrance. It d...     Beautiful Fragrance   \n",
      "1  wonderful hand lotion, for seriously dry skin,...   wonderful hand lotion   \n",
      "2  Best hand cream around.  Silky, thick, soaks i...  Best hand cream around   \n",
      "3                                           Thanks!!              Five Stars   \n",
      "4  Great hand lotion.  Soaks right in and leaves ...      Great hand lotion!   \n",
      "\n",
      "   unixReviewTime  vote image  \n",
      "0      1515110400   NaN   NaN  \n",
      "1      1491350400   NaN   NaN  \n",
      "2      1490572800   NaN   NaN  \n",
      "3      1489968000   NaN   NaN  \n",
      "4      1488240000   NaN   NaN  \n"
     ]
    }
   ],
   "source": [
    "df_train = df_train[df_train[\"overall\"] != '3']\n",
    "df_train[\"label\"] = df_train[\"overall\"].apply(lambda rating : 1 if str(rating) > '3' else 0)\n",
    "\n",
    "df_test = df_test[df_test[\"overall\"] != '3']\n",
    "df_test[\"label\"] = df_test[\"overall\"].apply(lambda rating : 1 if str(rating) > '3' else 0)"
   ]
  },
  {
   "cell_type": "code",
   "execution_count": null,
   "metadata": {},
   "outputs": [],
   "source": [
    "print(f'First review = {df_train.loc[0, \"reviewText\"]}')\n",
    "print(f'First review has length = {len(df_train.loc[0, \"reviewText\"])}\\n ')\n",
    "print(f'First review overall rating = {df_train.loc[0, \"overall\"]}')\n",
    "print(f'First review binary rating = {df_train.loc[0, \"label\"]}')"
   ]
  },
  {
   "cell_type": "code",
   "execution_count": 25,
   "metadata": {},
   "outputs": [
    {
     "name": "stdout",
     "output_type": "stream",
     "text": [
      "494485\n"
     ]
    }
   ],
   "source": [
    "print(len(df_train4))"
   ]
  }
 ],
 "metadata": {
  "kernelspec": {
   "display_name": "Python 3 (ipykernel)",
   "language": "python",
   "name": "python3"
  },
  "language_info": {
   "codemirror_mode": {
    "name": "ipython",
    "version": 3
   },
   "file_extension": ".py",
   "mimetype": "text/x-python",
   "name": "python",
   "nbconvert_exporter": "python",
   "pygments_lexer": "ipython3",
   "version": "3.10.13"
  }
 },
 "nbformat": 4,
 "nbformat_minor": 2
}
