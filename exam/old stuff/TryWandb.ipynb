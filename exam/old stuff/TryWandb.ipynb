{
 "cells": [
  {
   "cell_type": "markdown",
   "id": "8f03eb61",
   "metadata": {},
   "source": [
    "## Illustration of **wandb** for visual inspection og ML optimization and validation\n",
    "\n",
    "- Sign-up at https://wandb.ai/ \n",
    "- Install wandb in the same virtual environment as tensorflow\n",
    "  - conda install -c conda-forge wandb\n",
    "- in the prompt: wandb login\n",
    "  - copy the key from the web page and paste it in the prompt"
   ]
  },
  {
   "cell_type": "code",
   "execution_count": 10,
   "id": "d4871de8",
   "metadata": {},
   "outputs": [],
   "source": [
    "import os\n",
    "import wandb\n",
    "\n",
    "from wandb.keras import WandbCallback"
   ]
  },
  {
   "cell_type": "code",
   "execution_count": 11,
   "id": "33b71f3d",
   "metadata": {},
   "outputs": [],
   "source": [
    "import tensorflow as tf\n",
    "\n",
    "from matplotlib import pyplot as plt\n",
    "\n",
    "(x_train, y_train), (x_test, y_test) = tf.keras.datasets.fashion_mnist.load_data()\n",
    "\n",
    "x_train = x_train / 255\n",
    "x_test = x_test / 255"
   ]
  },
  {
   "cell_type": "code",
   "execution_count": 12,
   "id": "ef3577b6",
   "metadata": {},
   "outputs": [
    {
     "name": "stderr",
     "output_type": "stream",
     "text": [
      "\u001b[34m\u001b[1mwandb\u001b[0m: \u001b[33mWARNING\u001b[0m Calling wandb.login() after wandb.init() has no effect.\n"
     ]
    },
    {
     "data": {
      "text/plain": [
       "True"
      ]
     },
     "execution_count": 12,
     "metadata": {},
     "output_type": "execute_result"
    }
   ],
   "source": [
    "wandb.login()"
   ]
  },
  {
   "cell_type": "code",
   "execution_count": 13,
   "id": "52534791-3c8a-483f-a83f-30e331627833",
   "metadata": {},
   "outputs": [],
   "source": [
    "def build_model(size, activation, weight_regularizer, dropout, batch_norm):\n",
    "    layers = [tf.keras.layers.Flatten(input_shape=(28, 28))]\n",
    "    \n",
    "    nb_layers = size\n",
    "    nb_neurons = size ** 2 * 4\n",
    "    \n",
    "    for i in range(nb_layers):\n",
    "        layers.append(tf.keras.layers.Dense(nb_neurons, activation=activation, \n",
    "                                            kernel_regularizer=weight_regularizer))\n",
    "        if batch_norm:\n",
    "            layers.append(tf.keras.layers.BatchNormalization())\n",
    "        if dropout:\n",
    "            layers.append(tf.keras.layers.Dropout(0.2))\n",
    "\n",
    "    layers.append(tf.keras.layers.Dense(10, activation='softmax'))\n",
    "    \n",
    "    model = tf.keras.models.Sequential(layers)\n",
    "    model.compile(\n",
    "        loss='sparse_categorical_crossentropy',\n",
    "        optimizer=tf.keras.optimizers.Adam(0.0001),\n",
    "        metrics=['sparse_categorical_crossentropy', 'accuracy'],\n",
    "        )\n",
    "    \n",
    "    return model"
   ]
  },
  {
   "cell_type": "code",
   "execution_count": 14,
   "id": "236ed920-075e-48c9-83c1-ebd388e7c4a6",
   "metadata": {},
   "outputs": [
    {
     "name": "stdout",
     "output_type": "stream",
     "text": [
      "Model: \"sequential_1\"\n",
      "_________________________________________________________________\n",
      " Layer (type)                Output Shape              Param #   \n",
      "=================================================================\n",
      " flatten_1 (Flatten)         (None, 784)               0         \n",
      "                                                                 \n",
      " dense_2 (Dense)             (None, 4)                 3140      \n",
      "                                                                 \n",
      " dense_3 (Dense)             (None, 10)                50        \n",
      "                                                                 \n",
      "=================================================================\n",
      "Total params: 3,190\n",
      "Trainable params: 3,190\n",
      "Non-trainable params: 0\n",
      "_________________________________________________________________\n"
     ]
    }
   ],
   "source": [
    "model_small = build_model(1, 'relu', None, False, False)\n",
    "model_small.summary()"
   ]
  },
  {
   "cell_type": "code",
   "execution_count": 15,
   "id": "ae7ca2fc-581c-4742-bd81-16e393a40af0",
   "metadata": {},
   "outputs": [
    {
     "data": {
      "text/html": [
       "Changes to your `wandb` environment variables will be ignored because your `wandb` session has already started. For more information on how to modify your settings with `wandb.init()` arguments, please refer to <a href='https://wandb.me/wandb-init' target=\"_blank\">the W&B docs</a>."
      ],
      "text/plain": [
       "<IPython.core.display.HTML object>"
      ]
     },
     "metadata": {},
     "output_type": "display_data"
    },
    {
     "data": {
      "text/html": [
       "Finishing last run (ID:u34yrc2r) before initializing another..."
      ],
      "text/plain": [
       "<IPython.core.display.HTML object>"
      ]
     },
     "metadata": {},
     "output_type": "display_data"
    },
    {
     "data": {
      "application/vnd.jupyter.widget-view+json": {
       "model_id": "6009126ee3c74d22bea0788204e1cb63",
       "version_major": 2,
       "version_minor": 0
      },
      "text/plain": [
       "VBox(children=(Label(value='0.001 MB of 0.001 MB uploaded\\r'), FloatProgress(value=1.0, max=1.0)))"
      ]
     },
     "metadata": {},
     "output_type": "display_data"
    },
    {
     "data": {
      "text/html": [
       " View run <strong style=\"color:#cdcd00\">decent-snowflake-1</strong> at: <a href='https://wandb.ai/lusve22/my-awesome-project/runs/u34yrc2r' target=\"_blank\">https://wandb.ai/lusve22/my-awesome-project/runs/u34yrc2r</a><br/>Synced 5 W&B file(s), 0 media file(s), 0 artifact file(s) and 0 other file(s)"
      ],
      "text/plain": [
       "<IPython.core.display.HTML object>"
      ]
     },
     "metadata": {},
     "output_type": "display_data"
    },
    {
     "data": {
      "text/html": [
       "Find logs at: <code>.\\wandb\\run-20231221_031308-u34yrc2r\\logs</code>"
      ],
      "text/plain": [
       "<IPython.core.display.HTML object>"
      ]
     },
     "metadata": {},
     "output_type": "display_data"
    },
    {
     "data": {
      "text/html": [
       "Successfully finished last run (ID:u34yrc2r). Initializing new run:<br/>"
      ],
      "text/plain": [
       "<IPython.core.display.HTML object>"
      ]
     },
     "metadata": {},
     "output_type": "display_data"
    },
    {
     "data": {
      "application/vnd.jupyter.widget-view+json": {
       "model_id": "1b70f09aa1f64bba934d1afc6678e9fa",
       "version_major": 2,
       "version_minor": 0
      },
      "text/plain": [
       "VBox(children=(Label(value='Waiting for wandb.init()...\\r'), FloatProgress(value=0.011111111111111112, max=1.0…"
      ]
     },
     "metadata": {},
     "output_type": "display_data"
    },
    {
     "data": {
      "text/html": [
       "Tracking run with wandb version 0.16.1"
      ],
      "text/plain": [
       "<IPython.core.display.HTML object>"
      ]
     },
     "metadata": {},
     "output_type": "display_data"
    },
    {
     "data": {
      "text/html": [
       "Run data is saved locally in <code>c:\\Users\\Lukas Svendsen\\Desktop\\AML\\exam\\wandb\\run-20231221_031345-9nkbrhn4</code>"
      ],
      "text/plain": [
       "<IPython.core.display.HTML object>"
      ]
     },
     "metadata": {},
     "output_type": "display_data"
    },
    {
     "data": {
      "text/html": [
       "Syncing run <strong><a href='https://wandb.ai/theboys233/my-awesome-project/runs/9nkbrhn4' target=\"_blank\">confused-frost-2</a></strong> to <a href='https://wandb.ai/theboys233/my-awesome-project' target=\"_blank\">Weights & Biases</a> (<a href='https://wandb.me/run' target=\"_blank\">docs</a>)<br/>"
      ],
      "text/plain": [
       "<IPython.core.display.HTML object>"
      ]
     },
     "metadata": {},
     "output_type": "display_data"
    },
    {
     "data": {
      "text/html": [
       " View project at <a href='https://wandb.ai/theboys233/my-awesome-project' target=\"_blank\">https://wandb.ai/theboys233/my-awesome-project</a>"
      ],
      "text/plain": [
       "<IPython.core.display.HTML object>"
      ]
     },
     "metadata": {},
     "output_type": "display_data"
    },
    {
     "data": {
      "text/html": [
       " View run at <a href='https://wandb.ai/theboys233/my-awesome-project/runs/9nkbrhn4' target=\"_blank\">https://wandb.ai/theboys233/my-awesome-project/runs/9nkbrhn4</a>"
      ],
      "text/plain": [
       "<IPython.core.display.HTML object>"
      ]
     },
     "metadata": {},
     "output_type": "display_data"
    }
   ],
   "source": [
    "## Here you need to supply your own wandb API key (if it has not been set by wandb login at prompt has not been used), project name and entity name.\n",
    "\n",
    "os.environ[\"WANDB_API_KEY\"]= 'dab3e100176ff8e1ab9c3aee6b30924031c8cde6'\n",
    "os.environ[\"WANDB_NAME\"]= 'fashion-mnist-small'\n",
    "os.environ[\"WANDB_NOTEBOOK_NAME\"]='TryWandb.ipynb'\n",
    "run = wandb.init(project=\"my-awesome-project\",entity='theboys233',job_type='train')\n",
    "config = wandb.config"
   ]
  },
  {
   "cell_type": "code",
   "execution_count": 16,
   "id": "3b6acc7b",
   "metadata": {},
   "outputs": [
    {
     "name": "stdout",
     "output_type": "stream",
     "text": [
      "TensorFlow Version: 2.9.1\n",
      "Num GPUs Available:  1\n",
      "Name: /physical_device:GPU:0   Type: GPU\n"
     ]
    }
   ],
   "source": [
    "print(\"TensorFlow Version:\", tf.__version__)\n",
    "\n",
    "# Check available GPUs\n",
    "gpus = tf.config.list_physical_devices('GPU')\n",
    "print(\"Num GPUs Available: \", len(gpus))\n",
    "for gpu in gpus:\n",
    "    print(\"Name:\", gpu.name, \"  Type:\", gpu.device_type)"
   ]
  },
  {
   "cell_type": "code",
   "execution_count": 17,
   "id": "36c0993d-0058-4c4c-90d9-2222022d2cdb",
   "metadata": {},
   "outputs": [],
   "source": [
    "# Define WandbCallback for experiment tracking\n",
    "wandb_callback = WandbCallback(monitor='val_loss',verbose=True,save_model=False,\n",
    "                               log_weights=True,\n",
    "                               log_evaluation=True,\n",
    "                               validation_steps=2)\n",
    "callbacks = [wandb_callback]\n"
   ]
  },
  {
   "cell_type": "code",
   "execution_count": 18,
   "id": "83714998-4954-467e-a305-d83df6c013c4",
   "metadata": {},
   "outputs": [
    {
     "name": "stdout",
     "output_type": "stream",
     "text": [
      "Epoch 1/40\n",
      "   1/1875 [..............................] - ETA: 25:02 - loss: 2.3038 - sparse_categorical_crossentropy: 2.3038 - accuracy: 0.1562WARNING:tensorflow:Callback method `on_train_batch_end` is slow compared to the batch time (batch time: 0.0019s vs `on_train_batch_end` time: 0.0021s). Check your callbacks.\n",
      "1862/1875 [============================>.] - ETA: 0s - loss: 1.9750 - sparse_categorical_crossentropy: 1.9750 - accuracy: 0.2595Epoch 00000: val_loss improved from inf to 1.73568\n",
      "1875/1875 [==============================] - 7s 3ms/step - loss: 1.9738 - sparse_categorical_crossentropy: 1.9738 - accuracy: 0.2600 - val_loss: 1.7357 - val_sparse_categorical_crossentropy: 1.7357 - val_accuracy: 0.3517\n",
      "Epoch 2/40\n",
      "1870/1875 [============================>.] - ETA: 0s - loss: 1.5310 - sparse_categorical_crossentropy: 1.5310 - accuracy: 0.4479Epoch 00001: val_loss improved from 1.73568 to 1.21791\n",
      "1875/1875 [==============================] - 6s 3ms/step - loss: 1.5298 - sparse_categorical_crossentropy: 1.5298 - accuracy: 0.4484 - val_loss: 1.2179 - val_sparse_categorical_crossentropy: 1.2179 - val_accuracy: 0.5839\n",
      "Epoch 3/40\n",
      "1873/1875 [============================>.] - ETA: 0s - loss: 1.0257 - sparse_categorical_crossentropy: 1.0257 - accuracy: 0.6532Epoch 00002: val_loss improved from 1.21791 to 0.92281\n",
      "1875/1875 [==============================] - 6s 3ms/step - loss: 1.0255 - sparse_categorical_crossentropy: 1.0255 - accuracy: 0.6532 - val_loss: 0.9228 - val_sparse_categorical_crossentropy: 0.9228 - val_accuracy: 0.6822\n",
      "Epoch 4/40\n",
      "1867/1875 [============================>.] - ETA: 0s - loss: 0.8569 - sparse_categorical_crossentropy: 0.8569 - accuracy: 0.7068Epoch 00003: val_loss improved from 0.92281 to 0.82940\n",
      "1875/1875 [==============================] - 6s 3ms/step - loss: 0.8564 - sparse_categorical_crossentropy: 0.8564 - accuracy: 0.7070 - val_loss: 0.8294 - val_sparse_categorical_crossentropy: 0.8294 - val_accuracy: 0.7175\n",
      "Epoch 5/40\n",
      "1864/1875 [============================>.] - ETA: 0s - loss: 0.7867 - sparse_categorical_crossentropy: 0.7867 - accuracy: 0.7350Epoch 00004: val_loss improved from 0.82940 to 0.78059\n",
      "1875/1875 [==============================] - 5s 3ms/step - loss: 0.7870 - sparse_categorical_crossentropy: 0.7870 - accuracy: 0.7350 - val_loss: 0.7806 - val_sparse_categorical_crossentropy: 0.7806 - val_accuracy: 0.7383\n",
      "Epoch 6/40\n",
      "1867/1875 [============================>.] - ETA: 0s - loss: 0.7445 - sparse_categorical_crossentropy: 0.7445 - accuracy: 0.7515Epoch 00005: val_loss improved from 0.78059 to 0.74689\n",
      "1875/1875 [==============================] - 6s 3ms/step - loss: 0.7447 - sparse_categorical_crossentropy: 0.7447 - accuracy: 0.7515 - val_loss: 0.7469 - val_sparse_categorical_crossentropy: 0.7469 - val_accuracy: 0.7487\n",
      "Epoch 7/40\n",
      "1861/1875 [============================>.] - ETA: 0s - loss: 0.7145 - sparse_categorical_crossentropy: 0.7145 - accuracy: 0.7612Epoch 00006: val_loss improved from 0.74689 to 0.72043\n",
      "1875/1875 [==============================] - 5s 3ms/step - loss: 0.7140 - sparse_categorical_crossentropy: 0.7140 - accuracy: 0.7616 - val_loss: 0.7204 - val_sparse_categorical_crossentropy: 0.7204 - val_accuracy: 0.7575\n",
      "Epoch 8/40\n",
      "1869/1875 [============================>.] - ETA: 0s - loss: 0.6903 - sparse_categorical_crossentropy: 0.6903 - accuracy: 0.7706Epoch 00007: val_loss improved from 0.72043 to 0.70121\n",
      "1875/1875 [==============================] - 6s 3ms/step - loss: 0.6901 - sparse_categorical_crossentropy: 0.6901 - accuracy: 0.7708 - val_loss: 0.7012 - val_sparse_categorical_crossentropy: 0.7012 - val_accuracy: 0.7648\n",
      "Epoch 9/40\n",
      "1873/1875 [============================>.] - ETA: 0s - loss: 0.6718 - sparse_categorical_crossentropy: 0.6718 - accuracy: 0.7763Epoch 00008: val_loss improved from 0.70121 to 0.68463\n",
      "1875/1875 [==============================] - 6s 3ms/step - loss: 0.6716 - sparse_categorical_crossentropy: 0.6716 - accuracy: 0.7764 - val_loss: 0.6846 - val_sparse_categorical_crossentropy: 0.6846 - val_accuracy: 0.7674\n",
      "Epoch 10/40\n",
      "1874/1875 [============================>.] - ETA: 0s - loss: 0.6559 - sparse_categorical_crossentropy: 0.6559 - accuracy: 0.7808Epoch 00009: val_loss improved from 0.68463 to 0.67230\n",
      "1875/1875 [==============================] - 5s 3ms/step - loss: 0.6559 - sparse_categorical_crossentropy: 0.6559 - accuracy: 0.7808 - val_loss: 0.6723 - val_sparse_categorical_crossentropy: 0.6723 - val_accuracy: 0.7709\n",
      "Epoch 11/40\n",
      "1859/1875 [============================>.] - ETA: 0s - loss: 0.6433 - sparse_categorical_crossentropy: 0.6433 - accuracy: 0.7843Epoch 00010: val_loss improved from 0.67230 to 0.66180\n",
      "1875/1875 [==============================] - 5s 3ms/step - loss: 0.6432 - sparse_categorical_crossentropy: 0.6432 - accuracy: 0.7845 - val_loss: 0.6618 - val_sparse_categorical_crossentropy: 0.6618 - val_accuracy: 0.7735\n",
      "Epoch 12/40\n",
      "1875/1875 [==============================] - ETA: 0s - loss: 0.6323 - sparse_categorical_crossentropy: 0.6323 - accuracy: 0.7886Epoch 00011: val_loss improved from 0.66180 to 0.65121\n",
      "1875/1875 [==============================] - 6s 3ms/step - loss: 0.6323 - sparse_categorical_crossentropy: 0.6323 - accuracy: 0.7886 - val_loss: 0.6512 - val_sparse_categorical_crossentropy: 0.6512 - val_accuracy: 0.7786\n",
      "Epoch 13/40\n",
      "1875/1875 [==============================] - ETA: 0s - loss: 0.6230 - sparse_categorical_crossentropy: 0.6230 - accuracy: 0.7908Epoch 00012: val_loss improved from 0.65121 to 0.64558\n",
      "1875/1875 [==============================] - 6s 3ms/step - loss: 0.6230 - sparse_categorical_crossentropy: 0.6230 - accuracy: 0.7908 - val_loss: 0.6456 - val_sparse_categorical_crossentropy: 0.6456 - val_accuracy: 0.7830\n",
      "Epoch 14/40\n",
      "1863/1875 [============================>.] - ETA: 0s - loss: 0.6148 - sparse_categorical_crossentropy: 0.6148 - accuracy: 0.7935Epoch 00013: val_loss improved from 0.64558 to 0.63716\n",
      "1875/1875 [==============================] - 6s 3ms/step - loss: 0.6147 - sparse_categorical_crossentropy: 0.6147 - accuracy: 0.7935 - val_loss: 0.6372 - val_sparse_categorical_crossentropy: 0.6372 - val_accuracy: 0.7817\n",
      "Epoch 15/40\n",
      "1873/1875 [============================>.] - ETA: 0s - loss: 0.6079 - sparse_categorical_crossentropy: 0.6079 - accuracy: 0.7958Epoch 00014: val_loss improved from 0.63716 to 0.63082\n",
      "1875/1875 [==============================] - 5s 3ms/step - loss: 0.6079 - sparse_categorical_crossentropy: 0.6079 - accuracy: 0.7958 - val_loss: 0.6308 - val_sparse_categorical_crossentropy: 0.6308 - val_accuracy: 0.7841\n",
      "Epoch 16/40\n",
      "1857/1875 [============================>.] - ETA: 0s - loss: 0.6010 - sparse_categorical_crossentropy: 0.6010 - accuracy: 0.7985Epoch 00015: val_loss improved from 0.63082 to 0.62799\n",
      "1875/1875 [==============================] - 6s 3ms/step - loss: 0.6016 - sparse_categorical_crossentropy: 0.6016 - accuracy: 0.7979 - val_loss: 0.6280 - val_sparse_categorical_crossentropy: 0.6280 - val_accuracy: 0.7845\n",
      "Epoch 17/40\n",
      "1865/1875 [============================>.] - ETA: 0s - loss: 0.5957 - sparse_categorical_crossentropy: 0.5957 - accuracy: 0.7998Epoch 00016: val_loss improved from 0.62799 to 0.62048\n",
      "1875/1875 [==============================] - 6s 3ms/step - loss: 0.5958 - sparse_categorical_crossentropy: 0.5958 - accuracy: 0.7999 - val_loss: 0.6205 - val_sparse_categorical_crossentropy: 0.6205 - val_accuracy: 0.7874\n",
      "Epoch 18/40\n",
      "1862/1875 [============================>.] - ETA: 0s - loss: 0.5909 - sparse_categorical_crossentropy: 0.5909 - accuracy: 0.8011Epoch 00017: val_loss improved from 0.62048 to 0.61868\n",
      "1875/1875 [==============================] - 6s 3ms/step - loss: 0.5907 - sparse_categorical_crossentropy: 0.5907 - accuracy: 0.8012 - val_loss: 0.6187 - val_sparse_categorical_crossentropy: 0.6187 - val_accuracy: 0.7894\n",
      "Epoch 19/40\n",
      "1871/1875 [============================>.] - ETA: 0s - loss: 0.5865 - sparse_categorical_crossentropy: 0.5865 - accuracy: 0.8027Epoch 00018: val_loss improved from 0.61868 to 0.61530\n",
      "1875/1875 [==============================] - 6s 3ms/step - loss: 0.5861 - sparse_categorical_crossentropy: 0.5861 - accuracy: 0.8028 - val_loss: 0.6153 - val_sparse_categorical_crossentropy: 0.6153 - val_accuracy: 0.7906\n",
      "Epoch 20/40\n",
      "1872/1875 [============================>.] - ETA: 0s - loss: 0.5820 - sparse_categorical_crossentropy: 0.5820 - accuracy: 0.8043Epoch 00019: val_loss improved from 0.61530 to 0.61107\n",
      "1875/1875 [==============================] - 6s 3ms/step - loss: 0.5820 - sparse_categorical_crossentropy: 0.5820 - accuracy: 0.8044 - val_loss: 0.6111 - val_sparse_categorical_crossentropy: 0.6111 - val_accuracy: 0.7923\n",
      "Epoch 21/40\n",
      "1871/1875 [============================>.] - ETA: 0s - loss: 0.5783 - sparse_categorical_crossentropy: 0.5783 - accuracy: 0.8053Epoch 00020: val_loss improved from 0.61107 to 0.60543\n",
      "1875/1875 [==============================] - 6s 3ms/step - loss: 0.5782 - sparse_categorical_crossentropy: 0.5782 - accuracy: 0.8054 - val_loss: 0.6054 - val_sparse_categorical_crossentropy: 0.6054 - val_accuracy: 0.7922\n",
      "Epoch 22/40\n",
      "1865/1875 [============================>.] - ETA: 0s - loss: 0.5743 - sparse_categorical_crossentropy: 0.5743 - accuracy: 0.8065Epoch 00021: val_loss improved from 0.60543 to 0.60271\n",
      "1875/1875 [==============================] - 5s 3ms/step - loss: 0.5747 - sparse_categorical_crossentropy: 0.5747 - accuracy: 0.8064 - val_loss: 0.6027 - val_sparse_categorical_crossentropy: 0.6027 - val_accuracy: 0.7941\n",
      "Epoch 23/40\n",
      "1860/1875 [============================>.] - ETA: 0s - loss: 0.5716 - sparse_categorical_crossentropy: 0.5716 - accuracy: 0.8076Epoch 00022: val_loss improved from 0.60271 to 0.59950\n",
      "1875/1875 [==============================] - 6s 3ms/step - loss: 0.5713 - sparse_categorical_crossentropy: 0.5713 - accuracy: 0.8078 - val_loss: 0.5995 - val_sparse_categorical_crossentropy: 0.5995 - val_accuracy: 0.7945\n",
      "Epoch 24/40\n",
      "1864/1875 [============================>.] - ETA: 0s - loss: 0.5685 - sparse_categorical_crossentropy: 0.5685 - accuracy: 0.8084Epoch 00023: val_loss improved from 0.59950 to 0.59906\n",
      "1875/1875 [==============================] - 6s 3ms/step - loss: 0.5681 - sparse_categorical_crossentropy: 0.5681 - accuracy: 0.8085 - val_loss: 0.5991 - val_sparse_categorical_crossentropy: 0.5991 - val_accuracy: 0.7961\n",
      "Epoch 25/40\n",
      "1865/1875 [============================>.] - ETA: 0s - loss: 0.5656 - sparse_categorical_crossentropy: 0.5656 - accuracy: 0.8095Epoch 00024: val_loss improved from 0.59906 to 0.59605\n",
      "1875/1875 [==============================] - 6s 3ms/step - loss: 0.5653 - sparse_categorical_crossentropy: 0.5653 - accuracy: 0.8094 - val_loss: 0.5960 - val_sparse_categorical_crossentropy: 0.5960 - val_accuracy: 0.7961\n",
      "Epoch 26/40\n",
      "1871/1875 [============================>.] - ETA: 0s - loss: 0.5625 - sparse_categorical_crossentropy: 0.5625 - accuracy: 0.8094Epoch 00025: val_loss improved from 0.59605 to 0.59558\n",
      "1875/1875 [==============================] - 6s 3ms/step - loss: 0.5625 - sparse_categorical_crossentropy: 0.5625 - accuracy: 0.8094 - val_loss: 0.5956 - val_sparse_categorical_crossentropy: 0.5956 - val_accuracy: 0.7976\n",
      "Epoch 27/40\n",
      "1860/1875 [============================>.] - ETA: 0s - loss: 0.5602 - sparse_categorical_crossentropy: 0.5602 - accuracy: 0.8116Epoch 00026: val_loss improved from 0.59558 to 0.59044\n",
      "1875/1875 [==============================] - 6s 3ms/step - loss: 0.5602 - sparse_categorical_crossentropy: 0.5602 - accuracy: 0.8115 - val_loss: 0.5904 - val_sparse_categorical_crossentropy: 0.5904 - val_accuracy: 0.7970\n",
      "Epoch 28/40\n",
      "1864/1875 [============================>.] - ETA: 0s - loss: 0.5573 - sparse_categorical_crossentropy: 0.5573 - accuracy: 0.8114Epoch 00027: val_loss improved from 0.59044 to 0.58825\n",
      "1875/1875 [==============================] - 6s 3ms/step - loss: 0.5576 - sparse_categorical_crossentropy: 0.5576 - accuracy: 0.8114 - val_loss: 0.5883 - val_sparse_categorical_crossentropy: 0.5883 - val_accuracy: 0.8011\n",
      "Epoch 29/40\n",
      "1870/1875 [============================>.] - ETA: 0s - loss: 0.5552 - sparse_categorical_crossentropy: 0.5552 - accuracy: 0.8130Epoch 00028: val_loss improved from 0.58825 to 0.58789\n",
      "1875/1875 [==============================] - 6s 3ms/step - loss: 0.5552 - sparse_categorical_crossentropy: 0.5552 - accuracy: 0.8131 - val_loss: 0.5879 - val_sparse_categorical_crossentropy: 0.5879 - val_accuracy: 0.8027\n",
      "Epoch 30/40\n",
      "1859/1875 [============================>.] - ETA: 0s - loss: 0.5539 - sparse_categorical_crossentropy: 0.5539 - accuracy: 0.8129Epoch 00029: val_loss improved from 0.58789 to 0.58656\n",
      "1875/1875 [==============================] - 6s 3ms/step - loss: 0.5534 - sparse_categorical_crossentropy: 0.5534 - accuracy: 0.8130 - val_loss: 0.5866 - val_sparse_categorical_crossentropy: 0.5866 - val_accuracy: 0.8010\n",
      "Epoch 31/40\n",
      "1870/1875 [============================>.] - ETA: 0s - loss: 0.5513 - sparse_categorical_crossentropy: 0.5513 - accuracy: 0.8138Epoch 00030: val_loss improved from 0.58656 to 0.58470\n",
      "1875/1875 [==============================] - 6s 3ms/step - loss: 0.5512 - sparse_categorical_crossentropy: 0.5512 - accuracy: 0.8138 - val_loss: 0.5847 - val_sparse_categorical_crossentropy: 0.5847 - val_accuracy: 0.8011\n",
      "Epoch 32/40\n",
      "1873/1875 [============================>.] - ETA: 0s - loss: 0.5494 - sparse_categorical_crossentropy: 0.5494 - accuracy: 0.8144Epoch 00031: val_loss improved from 0.58470 to 0.58212\n",
      "1875/1875 [==============================] - 5s 3ms/step - loss: 0.5492 - sparse_categorical_crossentropy: 0.5492 - accuracy: 0.8145 - val_loss: 0.5821 - val_sparse_categorical_crossentropy: 0.5821 - val_accuracy: 0.8026\n",
      "Epoch 33/40\n",
      "1862/1875 [============================>.] - ETA: 0s - loss: 0.5475 - sparse_categorical_crossentropy: 0.5475 - accuracy: 0.8154Epoch 00032: val_loss improved from 0.58212 to 0.57959\n",
      "1875/1875 [==============================] - 5s 3ms/step - loss: 0.5473 - sparse_categorical_crossentropy: 0.5473 - accuracy: 0.8154 - val_loss: 0.5796 - val_sparse_categorical_crossentropy: 0.5796 - val_accuracy: 0.8034\n",
      "Epoch 34/40\n",
      "1868/1875 [============================>.] - ETA: 0s - loss: 0.5456 - sparse_categorical_crossentropy: 0.5456 - accuracy: 0.8162Epoch 00033: val_loss improved from 0.57959 to 0.57840\n",
      "1875/1875 [==============================] - 5s 3ms/step - loss: 0.5454 - sparse_categorical_crossentropy: 0.5454 - accuracy: 0.8162 - val_loss: 0.5784 - val_sparse_categorical_crossentropy: 0.5784 - val_accuracy: 0.8036\n",
      "Epoch 35/40\n",
      "1866/1875 [============================>.] - ETA: 0s - loss: 0.5439 - sparse_categorical_crossentropy: 0.5439 - accuracy: 0.8166Epoch 00034: val_loss improved from 0.57840 to 0.57761\n",
      "1875/1875 [==============================] - 5s 3ms/step - loss: 0.5438 - sparse_categorical_crossentropy: 0.5438 - accuracy: 0.8165 - val_loss: 0.5776 - val_sparse_categorical_crossentropy: 0.5776 - val_accuracy: 0.8040\n",
      "Epoch 36/40\n",
      "1858/1875 [============================>.] - ETA: 0s - loss: 0.5419 - sparse_categorical_crossentropy: 0.5419 - accuracy: 0.8167Epoch 00035: val_loss improved from 0.57761 to 0.57651\n",
      "1875/1875 [==============================] - 5s 3ms/step - loss: 0.5421 - sparse_categorical_crossentropy: 0.5421 - accuracy: 0.8167 - val_loss: 0.5765 - val_sparse_categorical_crossentropy: 0.5765 - val_accuracy: 0.8061\n",
      "Epoch 37/40\n",
      "1871/1875 [============================>.] - ETA: 0s - loss: 0.5404 - sparse_categorical_crossentropy: 0.5404 - accuracy: 0.8164Epoch 00036: val_loss improved from 0.57651 to 0.57487\n",
      "1875/1875 [==============================] - 5s 3ms/step - loss: 0.5406 - sparse_categorical_crossentropy: 0.5406 - accuracy: 0.8165 - val_loss: 0.5749 - val_sparse_categorical_crossentropy: 0.5749 - val_accuracy: 0.8057\n",
      "Epoch 38/40\n",
      "1873/1875 [============================>.] - ETA: 0s - loss: 0.5388 - sparse_categorical_crossentropy: 0.5388 - accuracy: 0.8176Epoch 00037: val_loss improved from 0.57487 to 0.57337\n",
      "1875/1875 [==============================] - 5s 3ms/step - loss: 0.5389 - sparse_categorical_crossentropy: 0.5389 - accuracy: 0.8175 - val_loss: 0.5734 - val_sparse_categorical_crossentropy: 0.5734 - val_accuracy: 0.8056\n",
      "Epoch 39/40\n",
      "1862/1875 [============================>.] - ETA: 0s - loss: 0.5378 - sparse_categorical_crossentropy: 0.5378 - accuracy: 0.8177Epoch 00038: val_loss improved from 0.57337 to 0.57229\n",
      "1875/1875 [==============================] - 6s 3ms/step - loss: 0.5374 - sparse_categorical_crossentropy: 0.5374 - accuracy: 0.8178 - val_loss: 0.5723 - val_sparse_categorical_crossentropy: 0.5723 - val_accuracy: 0.8055\n",
      "Epoch 40/40\n",
      "1870/1875 [============================>.] - ETA: 0s - loss: 0.5360 - sparse_categorical_crossentropy: 0.5360 - accuracy: 0.8183Epoch 00039: val_loss improved from 0.57229 to 0.57139\n",
      "1875/1875 [==============================] - 6s 3ms/step - loss: 0.5359 - sparse_categorical_crossentropy: 0.5359 - accuracy: 0.8184 - val_loss: 0.5714 - val_sparse_categorical_crossentropy: 0.5714 - val_accuracy: 0.8052\n",
      "313/313 [==============================] - 0s 1ms/step\n"
     ]
    }
   ],
   "source": [
    "history_small = model_small.fit(x_train, y_train,\n",
    "                                validation_data=(x_test, y_test),\n",
    "                                epochs=40, verbose=1,\n",
    "                                callbacks = callbacks)"
   ]
  }
 ],
 "metadata": {
  "kernelspec": {
   "display_name": "Python 3.10.4 ('amlfall22')",
   "language": "python",
   "name": "python3"
  },
  "language_info": {
   "codemirror_mode": {
    "name": "ipython",
    "version": 3
   },
   "file_extension": ".py",
   "mimetype": "text/x-python",
   "name": "python",
   "nbconvert_exporter": "python",
   "pygments_lexer": "ipython3",
   "version": "3.10.13"
  },
  "vscode": {
   "interpreter": {
    "hash": "d3cedec8935a2c28d6fd602c3007747750e2af1c4c937c29fac0d323bf1b544b"
   }
  }
 },
 "nbformat": 4,
 "nbformat_minor": 5
}
