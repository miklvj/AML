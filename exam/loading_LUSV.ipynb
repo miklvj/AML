{
 "cells": [
  {
   "cell_type": "code",
   "execution_count": 3,
   "metadata": {},
   "outputs": [
    {
     "name": "stdout",
     "output_type": "stream",
     "text": [
      "Downloading AMAZON_FASHION.json.gz of size 88.87 MB\n",
      "Downloading Luxury_Beauty_5.json.gz of size 7.02 MB\n",
      "Downloading All_Beauty.json.gz of size 45.16 MB\n",
      "Downloading Arts_Crafts_and_Sewing.json.gz of size 292.23 MB\n",
      "Downloading Clothing_Shoes_and_Jewelry_5.json.gz of size 1204.39 MB\n",
      "Downloading Sports_and_Outdoors_5.json.gz of size 395.12 MB\n"
     ]
    }
   ],
   "source": [
    "import pandas as pd\n",
    "import requests\n",
    "import gzip\n",
    "import os\n",
    "\n",
    "def read_gzipped_json_from_url(url, save_dir=r'D:\\aml_data', chunk_size=1024*1024, max_rows=1_000_000):\n",
    "    if not os.path.exists(save_dir):\n",
    "        os.makedirs(save_dir)\n",
    "\n",
    "    filename = url.split('/')[-1]\n",
    "    json_filepath = os.path.join(save_dir, filename)\n",
    "    csv_filepath = json_filepath.replace('.json.gz', '.csv')\n",
    "\n",
    "    response = requests.get(url, stream=True)\n",
    "\n",
    "    if response.status_code == 200:\n",
    "        file_size = int(response.headers.get('content-length', 0))\n",
    "        print(f\"Downloading {filename} of size {file_size / 1024 / 1024:.2f} MB\")\n",
    "\n",
    "        with open(json_filepath, 'wb') as f:\n",
    "            for chunk in response.iter_content(chunk_size=chunk_size):\n",
    "                f.write(chunk)\n",
    "\n",
    "        with gzip.open(json_filepath, 'rb') as gz:\n",
    "            df = pd.read_json(gz, lines=True, nrows=max_rows)\n",
    "            df.to_csv(csv_filepath, index=False)  # Save as CSV\n",
    "        return df\n",
    "    else:\n",
    "        print(f\"Failed to retrieve data: status code {response.status_code}\")\n",
    "        return None\n",
    "\n",
    "amazon_fashion = 'https://datarepo.eng.ucsd.edu/mcauley_group/data/amazon_v2/categoryFiles/AMAZON_FASHION.json.gz'\n",
    "luxury_beauty = 'https://datarepo.eng.ucsd.edu/mcauley_group/data/amazon_v2/categoryFilesSmall/Luxury_Beauty_5.json.gz'\n",
    "all_beauty = 'https://datarepo.eng.ucsd.edu/mcauley_group/data/amazon_v2/categoryFiles/All_Beauty.json.gz'\n",
    "arts_crafts_and_sewing = 'https://datarepo.eng.ucsd.edu/mcauley_group/data/amazon_v2/categoryFiles/Arts_Crafts_and_Sewing.json.gz'\n",
    "clothing_shoes_and_jewelry = 'https://datarepo.eng.ucsd.edu/mcauley_group/data/amazon_v2/categoryFilesSmall/Clothing_Shoes_and_Jewelry_5.json.gz'\n",
    "sports_and_outdoors = 'https://datarepo.eng.ucsd.edu/mcauley_group/data/amazon_v2/categoryFilesSmall/Sports_and_Outdoors_5.json.gz'\n",
    "\n",
    "df_amazon_fashion = read_gzipped_json_from_url(amazon_fashion).reset_index(drop=True)\n",
    "df_luxury_beauty = read_gzipped_json_from_url(luxury_beauty).reset_index(drop=True)\n",
    "df_all_beauty = read_gzipped_json_from_url(all_beauty).reset_index(drop=True)\n",
    "df_arts_crafts_and_sewing = read_gzipped_json_from_url(arts_crafts_and_sewing).reset_index(drop=True)\n",
    "clothing_shoes_and_jewelry = read_gzipped_json_from_url(clothing_shoes_and_jewelry).reset_index(drop=True)\n",
    "sports_and_outdoors = read_gzipped_json_from_url(sports_and_outdoors).reset_index(drop=True)"
   ]
  },
  {
   "cell_type": "code",
   "execution_count": 1,
   "metadata": {},
   "outputs": [
    {
     "ename": "NameError",
     "evalue": "name 'pd' is not defined",
     "output_type": "error",
     "traceback": [
      "\u001b[1;31m---------------------------------------------------------------------------\u001b[0m",
      "\u001b[1;31mNameError\u001b[0m                                 Traceback (most recent call last)",
      "Cell \u001b[1;32mIn[1], line 1\u001b[0m\n\u001b[1;32m----> 1\u001b[0m df_train \u001b[38;5;241m=\u001b[39m \u001b[43mpd\u001b[49m\u001b[38;5;241m.\u001b[39mconcat([df_1, df_2, df_3, df_4], axis\u001b[38;5;241m=\u001b[39m\u001b[38;5;241m0\u001b[39m, ignore_index\u001b[38;5;241m=\u001b[39m\u001b[38;5;28;01mTrue\u001b[39;00m, shuffle\u001b[38;5;241m=\u001b[39m\u001b[38;5;28;01mTrue\u001b[39;00m)\n\u001b[0;32m      3\u001b[0m df_train\u001b[38;5;241m.\u001b[39mto_csv(\u001b[38;5;124m\"\u001b[39m\u001b[38;5;124mtrain_data\u001b[39m\u001b[38;5;124m\"\u001b[39m)\n",
      "\u001b[1;31mNameError\u001b[0m: name 'pd' is not defined"
     ]
    }
   ],
   "source": [
    "df_train = pd.concat([df_1, df_2, df_3, df_4], axis=0, ignore_index=True, shuffle=True)\n",
    "\n",
    "df_train.to_csv(\"train_data\")"
   ]
  }
 ],
 "metadata": {
  "kernelspec": {
   "display_name": "amlfall23",
   "language": "python",
   "name": "python3"
  },
  "language_info": {
   "codemirror_mode": {
    "name": "ipython",
    "version": 3
   },
   "file_extension": ".py",
   "mimetype": "text/x-python",
   "name": "python",
   "nbconvert_exporter": "python",
   "pygments_lexer": "ipython3",
   "version": "3.10.13"
  }
 },
 "nbformat": 4,
 "nbformat_minor": 2
}
