{
 "cells": [
  {
   "cell_type": "code",
   "execution_count": 1,
   "metadata": {},
   "outputs": [],
   "source": [
    "import tensorflow as tf\n",
    "import numpy as np\n",
    "import pandas as pd\n",
    "import csv\n",
    "import json\n",
    "from sklearn.model_selection import train_test_split"
   ]
  },
  {
   "cell_type": "code",
   "execution_count": null,
   "metadata": {},
   "outputs": [],
   "source": [
    "datasets = ['All_Beauty_5', 'AMAZON_FASHION_5', 'Arts_Crafts_and_Sewing_5', 'Clothing_Shoes_and_Jewelry_5', 'Luxury_Beauty_5']\n",
    "\n",
    "for i in datasets:\n",
    "    input_file = f'D:/aml_data/{i}.json'\n",
    "    output_file = f'D:/aml_data/{i}.csv'\n",
    "\n",
    "    with open(input_file, \"r\", encoding=\"utf-8\") as input_json, open(output_file, \"w\", encoding=\"utf-8\") as output_csv:\n",
    "        csv_writer = csv.writer(output_csv)\n",
    "        flag = 0\n",
    "        for line in input_json:\n",
    "                dic = json.loads(line)\n",
    "                if flag == 0:\n",
    "                    csv_writer.writerow(dic.keys())\n",
    "                    flag = 1\n",
    "                csv_writer.writerow(dic.values())\n",
    "\n",
    "print(\"Done\")"
   ]
  },
  {
   "cell_type": "code",
   "execution_count": 2,
   "metadata": {},
   "outputs": [],
   "source": [
    "df_1 = pd.read_csv('D:/aml_data//All_Beauty_5.csv', usecols=['overall', 'reviewText', \"summary\"])\n",
    "df_2 = pd.read_csv('D:/aml_data//AMAZON_FASHION_5.csv', usecols=['overall', 'reviewText', \"summary\"])\n",
    "df_3 = pd.read_csv('D:/aml_data//Arts_Crafts_and_Sewing_5.csv', usecols=['overall', 'reviewText', \"summary\"])\n",
    "df_4 = pd.read_csv('D:/aml_data//Clothing_Shoes_and_Jewelry_5.csv', usecols=['overall', 'reviewText', \"summary\"])\n",
    "df_test = pd.read_csv('D:/aml_data//Luxury_Beauty_5.csv', usecols=['overall', 'reviewText', \"summary\"])"
   ]
  },
  {
   "cell_type": "code",
   "execution_count": 3,
   "metadata": {},
   "outputs": [],
   "source": [
    "df_train = pd.concat([df_1, df_2, df_3, df_4], axis=0, ignore_index=True)\n",
    "df_train = df_train.dropna()\n",
    "df_test = df_test.dropna()"
   ]
  }
 ],
 "metadata": {
  "kernelspec": {
   "display_name": "amlfall23",
   "language": "python",
   "name": "python3"
  },
  "language_info": {
   "codemirror_mode": {
    "name": "ipython",
    "version": 3
   },
   "file_extension": ".py",
   "mimetype": "text/x-python",
   "name": "python",
   "nbconvert_exporter": "python",
   "pygments_lexer": "ipython3",
   "version": "3.10.13"
  }
 },
 "nbformat": 4,
 "nbformat_minor": 2
}
